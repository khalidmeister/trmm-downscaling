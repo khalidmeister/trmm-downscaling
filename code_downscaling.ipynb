{
  "nbformat": 4,
  "nbformat_minor": 0,
  "metadata": {
    "colab": {
      "name": "code-downscaling.ipynb",
      "provenance": [],
      "collapsed_sections": [],
      "toc_visible": true,
      "mount_file_id": "1FMJLz5H7M66lqdS22CCMv2el7SO3vO_-",
      "authorship_tag": "ABX9TyPbcC1o4iqYFA34bi/+JK4C",
      "include_colab_link": true
    },
    "kernelspec": {
      "name": "python3",
      "display_name": "Python 3"
    },
    "language_info": {
      "name": "python"
    }
  },
  "cells": [
    {
      "cell_type": "markdown",
      "metadata": {
        "id": "view-in-github",
        "colab_type": "text"
      },
      "source": [
        "<a href=\"https://colab.research.google.com/github/khalidmeister/trmm-downscaling/blob/main/code_downscaling.ipynb\" target=\"_parent\"><img src=\"https://colab.research.google.com/assets/colab-badge.svg\" alt=\"Open In Colab\"/></a>"
      ]
    },
    {
      "cell_type": "markdown",
      "metadata": {
        "id": "Kwoe0m3OtsZW"
      },
      "source": [
        "# Libraries"
      ]
    },
    {
      "cell_type": "code",
      "metadata": {
        "id": "VWpI5rj5Ol3Y",
        "colab": {
          "base_uri": "https://localhost:8080/"
        },
        "outputId": "07947af8-b17a-4f3f-fab1-a9a6c3396bd6"
      },
      "source": [
        "! pip install geopandas\n",
        "! pip install geojson\n",
        "! pip install fiona\n",
        "! pip install georasters\n",
        "\n",
        "import fiona\n",
        "import geojson\n",
        "import folium\n",
        "import ee\n",
        "import numpy as np\n",
        "import geopandas as gpd\n",
        "import georasters as gr\n",
        "import matplotlib.pyplot as plt\n",
        "import pandas as pd\n",
        "from IPython.display import Image\n",
        "\n",
        "ee.Authenticate()\n",
        "ee.Initialize()"
      ],
      "execution_count": 2,
      "outputs": [
        {
          "output_type": "stream",
          "text": [
            "Collecting geopandas\n",
            "\u001b[?25l  Downloading https://files.pythonhosted.org/packages/d7/bf/e9cefb69d39155d122b6ddca53893b61535fa6ffdad70bf5ef708977f53f/geopandas-0.9.0-py2.py3-none-any.whl (994kB)\n",
            "\u001b[K     |████████████████████████████████| 1.0MB 6.6MB/s \n",
            "\u001b[?25hCollecting pyproj>=2.2.0\n",
            "\u001b[?25l  Downloading https://files.pythonhosted.org/packages/b1/72/d52e9ca81caef056062d71991b0e9b1d16af042245627c5d0e4916a36c4f/pyproj-3.0.1-cp37-cp37m-manylinux2010_x86_64.whl (6.5MB)\n",
            "\u001b[K     |████████████████████████████████| 6.5MB 15.2MB/s \n",
            "\u001b[?25hRequirement already satisfied: pandas>=0.24.0 in /usr/local/lib/python3.7/dist-packages (from geopandas) (1.1.5)\n",
            "Collecting fiona>=1.8\n",
            "\u001b[?25l  Downloading https://files.pythonhosted.org/packages/ea/2a/404b22883298a3efe9c6ef8d67acbf2c38443fa366ee9cd4cd34e17626ea/Fiona-1.8.19-cp37-cp37m-manylinux1_x86_64.whl (15.3MB)\n",
            "\u001b[K     |████████████████████████████████| 15.3MB 256kB/s \n",
            "\u001b[?25hRequirement already satisfied: shapely>=1.6 in /usr/local/lib/python3.7/dist-packages (from geopandas) (1.7.1)\n",
            "Requirement already satisfied: certifi in /usr/local/lib/python3.7/dist-packages (from pyproj>=2.2.0->geopandas) (2020.12.5)\n",
            "Requirement already satisfied: pytz>=2017.2 in /usr/local/lib/python3.7/dist-packages (from pandas>=0.24.0->geopandas) (2018.9)\n",
            "Requirement already satisfied: numpy>=1.15.4 in /usr/local/lib/python3.7/dist-packages (from pandas>=0.24.0->geopandas) (1.19.5)\n",
            "Requirement already satisfied: python-dateutil>=2.7.3 in /usr/local/lib/python3.7/dist-packages (from pandas>=0.24.0->geopandas) (2.8.1)\n",
            "Collecting click-plugins>=1.0\n",
            "  Downloading https://files.pythonhosted.org/packages/e9/da/824b92d9942f4e472702488857914bdd50f73021efea15b4cad9aca8ecef/click_plugins-1.1.1-py2.py3-none-any.whl\n",
            "Requirement already satisfied: click<8,>=4.0 in /usr/local/lib/python3.7/dist-packages (from fiona>=1.8->geopandas) (7.1.2)\n",
            "Collecting cligj>=0.5\n",
            "  Downloading https://files.pythonhosted.org/packages/42/1e/947eadf10d6804bf276eb8a038bd5307996dceaaa41cfd21b7a15ec62f5d/cligj-0.7.1-py3-none-any.whl\n",
            "Requirement already satisfied: attrs>=17 in /usr/local/lib/python3.7/dist-packages (from fiona>=1.8->geopandas) (20.3.0)\n",
            "Requirement already satisfied: six>=1.7 in /usr/local/lib/python3.7/dist-packages (from fiona>=1.8->geopandas) (1.15.0)\n",
            "Collecting munch\n",
            "  Downloading https://files.pythonhosted.org/packages/cc/ab/85d8da5c9a45e072301beb37ad7f833cd344e04c817d97e0cc75681d248f/munch-2.5.0-py2.py3-none-any.whl\n",
            "Installing collected packages: pyproj, click-plugins, cligj, munch, fiona, geopandas\n",
            "Successfully installed click-plugins-1.1.1 cligj-0.7.1 fiona-1.8.19 geopandas-0.9.0 munch-2.5.0 pyproj-3.0.1\n",
            "Collecting geojson\n",
            "  Downloading https://files.pythonhosted.org/packages/e4/8d/9e28e9af95739e6d2d2f8d4bef0b3432da40b7c3588fbad4298c1be09e48/geojson-2.5.0-py2.py3-none-any.whl\n",
            "Installing collected packages: geojson\n",
            "Successfully installed geojson-2.5.0\n",
            "Requirement already satisfied: fiona in /usr/local/lib/python3.7/dist-packages (1.8.19)\n",
            "Requirement already satisfied: click-plugins>=1.0 in /usr/local/lib/python3.7/dist-packages (from fiona) (1.1.1)\n",
            "Requirement already satisfied: cligj>=0.5 in /usr/local/lib/python3.7/dist-packages (from fiona) (0.7.1)\n",
            "Requirement already satisfied: six>=1.7 in /usr/local/lib/python3.7/dist-packages (from fiona) (1.15.0)\n",
            "Requirement already satisfied: munch in /usr/local/lib/python3.7/dist-packages (from fiona) (2.5.0)\n",
            "Requirement already satisfied: certifi in /usr/local/lib/python3.7/dist-packages (from fiona) (2020.12.5)\n",
            "Requirement already satisfied: click<8,>=4.0 in /usr/local/lib/python3.7/dist-packages (from fiona) (7.1.2)\n",
            "Requirement already satisfied: attrs>=17 in /usr/local/lib/python3.7/dist-packages (from fiona) (20.3.0)\n",
            "To authorize access needed by Earth Engine, open the following URL in a web browser and follow the instructions. If the web browser does not start automatically, please manually browse the URL below.\n",
            "\n",
            "    https://accounts.google.com/o/oauth2/auth?client_id=517222506229-vsmmajv00ul0bs7p89v5m89qs8eb9359.apps.googleusercontent.com&scope=https%3A%2F%2Fwww.googleapis.com%2Fauth%2Fearthengine+https%3A%2F%2Fwww.googleapis.com%2Fauth%2Fdevstorage.full_control&redirect_uri=urn%3Aietf%3Awg%3Aoauth%3A2.0%3Aoob&response_type=code&code_challenge=gpq7U80yP7til20z36jC0hCC1bQqSnqHJcVCwsIk-Ck&code_challenge_method=S256\n",
            "\n",
            "The authorization workflow will generate a code, which you should paste in the box below. \n",
            "Enter verification code: 4/1AY0e-g5vvtfEYt9g6q3nKg7n27BhgvaEjrscrrFcLKsrz9KenoebmTxHRnQ\n",
            "\n",
            "Successfully saved authorization token.\n"
          ],
          "name": "stdout"
        }
      ]
    },
    {
      "cell_type": "markdown",
      "metadata": {
        "id": "lfF17zdwXX5f"
      },
      "source": [
        "# Helper Function"
      ]
    },
    {
      "cell_type": "code",
      "metadata": {
        "id": "UcvBJK_zXZl_"
      },
      "source": [
        "def add_ee_layer(self, ee_image_object, vis_params, name):\n",
        "    \"\"\"Adds a method for displaying Earth Engine image tiles to folium map.\"\"\"\n",
        "    map_id_dict = ee.Image(ee_image_object).getMapId(vis_params)\n",
        "    folium.raster_layers.TileLayer(\n",
        "        tiles=map_id_dict['tile_fetcher'].url_format,\n",
        "        attr='Map Data &copy; <a href=\"https://earthengine.google.com/\">Google Earth Engine</a>',\n",
        "        name=name,\n",
        "        overlay=True,\n",
        "        control=True\n",
        "    ).add_to(self)\n",
        "\n",
        "folium.Map.add_ee_layer = add_ee_layer"
      ],
      "execution_count": 3,
      "outputs": []
    },
    {
      "cell_type": "markdown",
      "metadata": {
        "id": "SLM7VNk4EuLh"
      },
      "source": [
        "# Area of Interest"
      ]
    },
    {
      "cell_type": "markdown",
      "metadata": {
        "id": "WwhWQYZb7YDT"
      },
      "source": [
        "## Point of Interest"
      ]
    },
    {
      "cell_type": "code",
      "metadata": {
        "id": "FBs9cupHOU15"
      },
      "source": [
        "# Pekanbaru\n",
        "lat = 0.511189523538957 \n",
        "lon = 101.44666084225209\n",
        "poi = ee.Geometry.Point(lon, lat)\n",
        "\n",
        "# # Singapore\n",
        "# lat = 1.4311524391271884 \n",
        "# lon = 103.91858465490296"
      ],
      "execution_count": 7,
      "outputs": []
    },
    {
      "cell_type": "markdown",
      "metadata": {
        "id": "ppXeOXd_7j4C"
      },
      "source": [
        "## Region of Interest"
      ]
    },
    {
      "cell_type": "code",
      "metadata": {
        "colab": {
          "base_uri": "https://localhost:8080/"
        },
        "id": "qbDX-3AWExJZ",
        "outputId": "1b3b9805-270c-4b41-e621-8923e1dd5124"
      },
      "source": [
        "! wget https://biogeo.ucdavis.edu/data/gadm3.6/shp/gadm36_IDN_shp.zip\n",
        "! unzip gadm36_IDN_shp.zip\n",
        "! ls"
      ],
      "execution_count": 8,
      "outputs": [
        {
          "output_type": "stream",
          "text": [
            "--2021-04-26 05:10:11--  https://biogeo.ucdavis.edu/data/gadm3.6/shp/gadm36_IDN_shp.zip\n",
            "Resolving biogeo.ucdavis.edu (biogeo.ucdavis.edu)... 128.120.228.172\n",
            "Connecting to biogeo.ucdavis.edu (biogeo.ucdavis.edu)|128.120.228.172|:443... connected.\n",
            "HTTP request sent, awaiting response... 302 Found\n",
            "Location: https://data.biogeo.ucdavis.edu/data/gadm3.6/shp/gadm36_IDN_shp.zip [following]\n",
            "--2021-04-26 05:10:11--  https://data.biogeo.ucdavis.edu/data/gadm3.6/shp/gadm36_IDN_shp.zip\n",
            "Resolving data.biogeo.ucdavis.edu (data.biogeo.ucdavis.edu)... 128.120.228.172\n",
            "Connecting to data.biogeo.ucdavis.edu (data.biogeo.ucdavis.edu)|128.120.228.172|:443... connected.\n",
            "HTTP request sent, awaiting response... 200 OK\n",
            "Length: 161235162 (154M) [application/zip]\n",
            "Saving to: ‘gadm36_IDN_shp.zip’\n",
            "\n",
            "gadm36_IDN_shp.zip  100%[===================>] 153.77M  36.5MB/s    in 4.5s    \n",
            "\n",
            "2021-04-26 05:10:16 (34.5 MB/s) - ‘gadm36_IDN_shp.zip’ saved [161235162/161235162]\n",
            "\n",
            "Archive:  gadm36_IDN_shp.zip\n",
            " extracting: gadm36_IDN_1.cpg        \n",
            "  inflating: gadm36_IDN_1.dbf        \n",
            "  inflating: gadm36_IDN_1.prj        \n",
            "  inflating: gadm36_IDN_1.shp        \n",
            "  inflating: gadm36_IDN_1.shx        \n",
            " extracting: gadm36_IDN_2.cpg        \n",
            "  inflating: gadm36_IDN_2.dbf        \n",
            "  inflating: gadm36_IDN_2.prj        \n",
            "  inflating: gadm36_IDN_2.shp        \n",
            "  inflating: gadm36_IDN_2.shx        \n",
            " extracting: gadm36_IDN_3.cpg        \n",
            "  inflating: gadm36_IDN_3.dbf        \n",
            "  inflating: gadm36_IDN_3.prj        \n",
            "  inflating: gadm36_IDN_3.shp        \n",
            "  inflating: gadm36_IDN_3.shx        \n",
            " extracting: gadm36_IDN_4.cpg        \n",
            "  inflating: gadm36_IDN_4.dbf        \n",
            "  inflating: gadm36_IDN_4.prj        \n",
            "  inflating: gadm36_IDN_4.shp        \n",
            "  inflating: gadm36_IDN_4.shx        \n",
            "  inflating: license.txt             \n",
            "drive\t\t  gadm36_IDN_2.cpg  gadm36_IDN_3.dbf  gadm36_IDN_4.prj\n",
            "gadm36_IDN_1.cpg  gadm36_IDN_2.dbf  gadm36_IDN_3.prj  gadm36_IDN_4.shp\n",
            "gadm36_IDN_1.dbf  gadm36_IDN_2.prj  gadm36_IDN_3.shp  gadm36_IDN_4.shx\n",
            "gadm36_IDN_1.prj  gadm36_IDN_2.shp  gadm36_IDN_3.shx  gadm36_IDN_shp.zip\n",
            "gadm36_IDN_1.shp  gadm36_IDN_2.shx  gadm36_IDN_4.cpg  license.txt\n",
            "gadm36_IDN_1.shx  gadm36_IDN_3.cpg  gadm36_IDN_4.dbf  sample_data\n"
          ],
          "name": "stdout"
        }
      ]
    },
    {
      "cell_type": "code",
      "metadata": {
        "colab": {
          "base_uri": "https://localhost:8080/",
          "height": 77
        },
        "id": "Q2GaoWhyGose",
        "outputId": "1628a0c2-1965-4b83-9029-2fbe7a3130ad"
      },
      "source": [
        "prov = gpd.read_file('gadm36_IDN_1.shp')\n",
        "riau = prov[prov['NAME_1'] == 'Riau'] \n",
        "riau"
      ],
      "execution_count": 9,
      "outputs": [
        {
          "output_type": "execute_result",
          "data": {
            "text/html": [
              "<div>\n",
              "<style scoped>\n",
              "    .dataframe tbody tr th:only-of-type {\n",
              "        vertical-align: middle;\n",
              "    }\n",
              "\n",
              "    .dataframe tbody tr th {\n",
              "        vertical-align: top;\n",
              "    }\n",
              "\n",
              "    .dataframe thead th {\n",
              "        text-align: right;\n",
              "    }\n",
              "</style>\n",
              "<table border=\"1\" class=\"dataframe\">\n",
              "  <thead>\n",
              "    <tr style=\"text-align: right;\">\n",
              "      <th></th>\n",
              "      <th>GID_0</th>\n",
              "      <th>NAME_0</th>\n",
              "      <th>GID_1</th>\n",
              "      <th>NAME_1</th>\n",
              "      <th>VARNAME_1</th>\n",
              "      <th>NL_NAME_1</th>\n",
              "      <th>TYPE_1</th>\n",
              "      <th>ENGTYPE_1</th>\n",
              "      <th>CC_1</th>\n",
              "      <th>HASC_1</th>\n",
              "      <th>geometry</th>\n",
              "    </tr>\n",
              "  </thead>\n",
              "  <tbody>\n",
              "    <tr>\n",
              "      <th>23</th>\n",
              "      <td>IDN</td>\n",
              "      <td>Indonesia</td>\n",
              "      <td>IDN.24_1</td>\n",
              "      <td>Riau</td>\n",
              "      <td>None</td>\n",
              "      <td>None</td>\n",
              "      <td>Propinisi</td>\n",
              "      <td>Province</td>\n",
              "      <td>14</td>\n",
              "      <td>ID.RI</td>\n",
              "      <td>MULTIPOLYGON (((103.41634 -0.67546, 103.41668 ...</td>\n",
              "    </tr>\n",
              "  </tbody>\n",
              "</table>\n",
              "</div>"
            ],
            "text/plain": [
              "   GID_0     NAME_0  ... HASC_1                                           geometry\n",
              "23   IDN  Indonesia  ...  ID.RI  MULTIPOLYGON (((103.41634 -0.67546, 103.41668 ...\n",
              "\n",
              "[1 rows x 11 columns]"
            ]
          },
          "metadata": {
            "tags": []
          },
          "execution_count": 9
        }
      ]
    },
    {
      "cell_type": "code",
      "metadata": {
        "colab": {
          "base_uri": "https://localhost:8080/"
        },
        "id": "SG78aQjoQgXh",
        "outputId": "07382007-2797-450e-f878-661d8119d97f"
      },
      "source": [
        "riau.crs"
      ],
      "execution_count": 10,
      "outputs": [
        {
          "output_type": "execute_result",
          "data": {
            "text/plain": [
              "<Geographic 2D CRS: EPSG:4326>\n",
              "Name: WGS 84\n",
              "Axis Info [ellipsoidal]:\n",
              "- Lat[north]: Geodetic latitude (degree)\n",
              "- Lon[east]: Geodetic longitude (degree)\n",
              "Area of Use:\n",
              "- name: World.\n",
              "- bounds: (-180.0, -90.0, 180.0, 90.0)\n",
              "Datum: World Geodetic System 1984\n",
              "- Ellipsoid: WGS 84\n",
              "- Prime Meridian: Greenwich"
            ]
          },
          "metadata": {
            "tags": []
          },
          "execution_count": 10
        }
      ]
    },
    {
      "cell_type": "code",
      "metadata": {
        "colab": {
          "base_uri": "https://localhost:8080/",
          "height": 281
        },
        "id": "RxuA0sghHcgW",
        "outputId": "8fc62656-b999-4487-df90-fc3746d45251"
      },
      "source": [
        "riau.plot()"
      ],
      "execution_count": 11,
      "outputs": [
        {
          "output_type": "execute_result",
          "data": {
            "text/plain": [
              "<matplotlib.axes._subplots.AxesSubplot at 0x7ff6f39200d0>"
            ]
          },
          "metadata": {
            "tags": []
          },
          "execution_count": 11
        },
        {
          "output_type": "display_data",
          "data": {
            "image/png": "[encoded data removed]",
            "text/plain": [
              "<Figure size 432x288 with 1 Axes>"
            ]
          },
          "metadata": {
            "tags": [],
            "needs_background": "light"
          }
        }
      ]
    },
    {
      "cell_type": "markdown",
      "metadata": {
        "id": "iwN-bcnKtjbb"
      },
      "source": [
        "### Finding Minimum Bounding Box"
      ]
    },
    {
      "cell_type": "code",
      "metadata": {
        "id": "GSvElq1iY2lI"
      },
      "source": [
        "riau.to_file('riau.shp')"
      ],
      "execution_count": null,
      "outputs": []
    },
    {
      "cell_type": "code",
      "metadata": {
        "colab": {
          "base_uri": "https://localhost:8080/"
        },
        "id": "WhUB6zTiYmog",
        "outputId": "28e1415e-416c-4c4c-8046-a4efae6f9234"
      },
      "source": [
        "# Get minimum bounding rectangle\n",
        "shp =  fiona.open('riau.shp')\n",
        "shp.bounds"
      ],
      "execution_count": null,
      "outputs": [
        {
          "output_type": "execute_result",
          "data": {
            "text/plain": [
              "(100.02484894, -1.12227285, 103.81461334, 2.91912794)"
            ]
          },
          "metadata": {
            "tags": []
          },
          "execution_count": 220
        }
      ]
    },
    {
      "cell_type": "code",
      "metadata": {
        "id": "7E7our_RZoxM"
      },
      "source": [
        "riau_bounding_box = ee.Geometry.Rectangle([100.02484894, -1.12227285, 103.81461334, 2.91912794])"
      ],
      "execution_count": null,
      "outputs": []
    },
    {
      "cell_type": "markdown",
      "metadata": {
        "id": "5wHypUA4toI-"
      },
      "source": [
        "### Get The Region to GeoJSON"
      ]
    },
    {
      "cell_type": "code",
      "metadata": {
        "id": "SpjJG2hIH0CN"
      },
      "source": [
        "riau.to_file('riau.geojson', driver='GeoJSON')"
      ],
      "execution_count": 12,
      "outputs": []
    },
    {
      "cell_type": "code",
      "metadata": {
        "id": "_wcxfFfNILSa"
      },
      "source": [
        "with open('riau.geojson') as f:\n",
        "  riau_geojson = geojson.load(f)\n",
        "\n",
        "riau_geojson = ee.Geometry(riau_geojson['features'][0]['geometry'])"
      ],
      "execution_count": 13,
      "outputs": []
    },
    {
      "cell_type": "code",
      "metadata": {
        "colab": {
          "base_uri": "https://localhost:8080/"
        },
        "id": "dZVbAzoK4d-j",
        "outputId": "79ac392a-6126-4ff6-fc96-79658c232772"
      },
      "source": [
        "print(riau_geojson.projection().getInfo())"
      ],
      "execution_count": 100,
      "outputs": [
        {
          "output_type": "stream",
          "text": [
            "{'type': 'Projection', 'crs': 'EPSG:4326', 'transform': [1, 0, 0, 0, 1, 0]}\n"
          ],
          "name": "stdout"
        }
      ]
    },
    {
      "cell_type": "markdown",
      "metadata": {
        "id": "kKuAskjLEI3J"
      },
      "source": [
        "# Satellite"
      ]
    },
    {
      "cell_type": "markdown",
      "metadata": {
        "id": "fBdfr7LK7Olq"
      },
      "source": [
        "## Precipitation from TRMM"
      ]
    },
    {
      "cell_type": "code",
      "metadata": {
        "id": "bUiG29v8Q4Jw"
      },
      "source": [
        "# Import the satellite images\n",
        "trmm = ee.ImageCollection('TRMM/3B43V7')\n",
        "# Select the band\n",
        "trmm = trmm.select('precipitation')\n",
        "# Filter the date\n",
        "trmm = trmm.filterDate('2018-01-01', '2018-12-31')\n",
        "# Reduce the TRMM and Reproject Them\n",
        "trmm_img = trmm.reduce(ee.Reducer.mean())\n",
        "# Reproject with original resolution\n",
        "trmm_img = trmm_img.reproject(crs=riau_geojson.projection(), scale=25000)\n",
        "# Clip the Image\n",
        "trmm_img = trmm_img.clip(riau_geojson)\n",
        "# Params for Visualization\n",
        "trmm_params = {\n",
        "    'min':0.1, 'max':1.2, 'region': riau_geojson, 'dimension':512,\n",
        "    'palette': ['blue', 'yellow', 'orange', 'red']\n",
        "}"
      ],
      "execution_count": 123,
      "outputs": []
    },
    {
      "cell_type": "markdown",
      "metadata": {
        "id": "yeLTmmnh750b"
      },
      "source": [
        "## Digital Elevation Model from STRM"
      ]
    },
    {
      "cell_type": "code",
      "metadata": {
        "id": "0oaJH0Xo8CS0"
      },
      "source": [
        "# Get the satellite images\n",
        "srtm = ee.Image('CGIAR/SRTM90_V4')\n",
        "# Select the band\n",
        "elevation = srtm.select('elevation')\n",
        "# Get the slope from the band\n",
        "slope = ee.Terrain.slope(elevation)\n",
        "# Reproject the Map\n",
        "slope_ori = slope.reproject(crs=riau_geojson.projection(), scale=90)\n",
        "# Clip the image\n",
        "slope_ori = slope_ori.clip(riau_geojson)\n",
        "# Params for Visualization\n",
        "slope_params = {\n",
        "    'min':0, \n",
        "    'max':60\n",
        "}"
      ],
      "execution_count": 133,
      "outputs": []
    },
    {
      "cell_type": "markdown",
      "metadata": {
        "id": "3nTV1H5098qH"
      },
      "source": [
        "## NDVI from MODIS"
      ]
    },
    {
      "cell_type": "code",
      "metadata": {
        "id": "mfPqtovn9N3H"
      },
      "source": [
        "# Select the satellite images\n",
        "modis = ee.ImageCollection('MODIS/006/MOD13A2')\n",
        "# Select the band\n",
        "ndvi = modis.select('NDVI')\n",
        "# Retrieve the first image\n",
        "ndvi = ndvi.filterDate('2018-01-01', '2018-12-31')\n",
        "# Get the annual NDVI and Reproject the Map\n",
        "ndvi = ndvi.reduce(ee.Reducer.mean())\n",
        "# Reproject with original scale\n",
        "ndvi_ori = ndvi.reproject(crs=riau_geojson.projection(), scale=1000)\n",
        "# Clip the Image\n",
        "ndvi_ori = ndvi_ori.clip(riau_geojson)\n",
        "# Params for visualization\n",
        "ndvi_params = {\n",
        "  'min': 0.0,\n",
        "  'max': 9000.0,\n",
        "  'palette': [\n",
        "    'FFFFFF', 'CE7E45', 'DF923D', 'F1B555', 'FCD163', '99B718', '74A901',\n",
        "    '66A000', '529400', '3E8601', '207401', '056201', '004C00', '023B01',\n",
        "    '012E01', '011D01', '011301'\n",
        "  ],\n",
        "}"
      ],
      "execution_count": 134,
      "outputs": []
    },
    {
      "cell_type": "markdown",
      "metadata": {
        "id": "HYymIL1XBm_O"
      },
      "source": [
        "## Land Cover from MODIS"
      ]
    },
    {
      "cell_type": "code",
      "metadata": {
        "id": "31ay0VD3Bm_P"
      },
      "source": [
        "modis = ee.ImageCollection('MODIS/006/MCD12Q1')\n",
        "lc = modis.select('LC_Type1')\n",
        "lc = lc.filterDate('2018-01-01', '2018-05-31').first()\n",
        "lc_ori = lc.reproject(crs=riau_geojson.projection(), scale=500) \n",
        "lc_ori = lc_ori.clip(riau_geojson)\n",
        "lc_params = {\n",
        "  'min': 1.0,\n",
        "  'max': 17.0,\n",
        "  'palette': [\n",
        "    '05450a', '086a10', '54a708', '78d203', '009900', 'c6b044', 'dcd159',\n",
        "    'dade48', 'fbff13', 'b6ff05', '27ff87', 'c24f44', 'a5a5a5', 'ff6d4c',\n",
        "    '69fff8', 'f9ffa4', '1c0dff'\n",
        "  ],\n",
        "}"
      ],
      "execution_count": 135,
      "outputs": []
    },
    {
      "cell_type": "markdown",
      "metadata": {
        "id": "N9NaRynxdc1M"
      },
      "source": [
        "# Visualization"
      ]
    },
    {
      "cell_type": "code",
      "metadata": {
        "colab": {
          "base_uri": "https://localhost:8080/",
          "height": 992
        },
        "id": "pR5ME0jjalLo",
        "outputId": "47964f3d-aefd-4fcf-b47d-6fcaee02baf2"
      },
      "source": [
        "my_map = folium.Map(location=[lat, lon], zoom_start=8)\n",
        "my_map.add_ee_layer(trmm_img, trmm_params, 'Precipitation from TRMM')\n",
        "my_map.add_ee_layer(trmm.first().reproject(crs=riau_geojson.projection(), scale=25000).clip(riau_geojson), trmm_params, 'Precipitation from TRMM (Jan \\'18)')\n",
        "my_map.add_ee_layer(slope_ori, slope_params, 'SRTM Digital Elevation Model')\n",
        "my_map.add_ee_layer(ndvi_ori, ndvi_params, 'NDVI from MODIS')\n",
        "my_map.add_ee_layer(lc_ori, lc_params, 'Land Cover from MODIS')\n",
        "folium.LayerControl().add_to(my_map)\n",
        "display(my_map)"
      ],
      "execution_count": 136,
      "outputs": [
        {
          "output_type": "display_data",
          "data": {
            "text/html": [
              "<div style=\"width:100%;\"><div style=\"position:relative;width:100%;height:0;padding-bottom:60%;\"><span style=\"color:#565656\">Make this Notebook Trusted to load map: File -> Trust Notebook</span><iframe src=\"about:blank\" style=\"position:absolute;width:100%;height:100%;left:0;top:0;border:none !important;\" data-html=%3C%21DOCTYPE%20html%3E%0A%3Chead%3E%20%20%20%20%0A%20%20%20%20%3Cmeta%20http-equiv%3D%22content-type%22%20content%3D%22text/html%3B%20charset%3DUTF-8%22%20/%3E%0A%20%20%20%20%3Cscript%3EL_PREFER_CANVAS%3Dfalse%3B%20L_NO_TOUCH%3Dfalse%3B%20L_DISABLE_3D%3Dfalse%3B%3C/script%3E%0A%20%20%20%20%3Cscript%20src%3D%22https%3A//cdn.jsdelivr.net/npm/leaflet%401.4.0/dist/leaflet.js%22%3E%3C/script%3E%0A%20%20%20%20%3Cscript%20src%3D%22https%3A//code.jquery.com/jquery-1.12.4.min.js%22%3E%3C/script%3E%0A%20%20%20%20%3Cscript%20src%3D%22https%3A//maxcdn.bootstrapcdn.com/bootstrap/3.2.0/js/bootstrap.min.js%22%3E%3C/script%3E%0A%20%20%20%20%3Cscript%20src%3D%22https%3A//cdnjs.cloudflare.com/ajax/libs/Leaflet.awesome-markers/2.0.2/leaflet.awesome-markers.js%22%3E%3C/script%3E%0A%20%20%20%20%3Clink%20rel%3D%22stylesheet%22%20href%3D%22https%3A//cdn.jsdelivr.net/npm/leaflet%401.4.0/dist/leaflet.css%22/%3E%0A%20%20%20%20%3Clink%20rel%3D%22stylesheet%22%20href%3D%22https%3A//maxcdn.bootstrapcdn.com/bootstrap/3.2.0/css/bootstrap.min.css%22/%3E%0A%20%20%20%20%3Clink%20rel%3D%22stylesheet%22%20href%3D%22https%3A//maxcdn.bootstrapcdn.com/bootstrap/3.2.0/css/bootstrap-theme.min.css%22/%3E%0A%20%20%20%20%3Clink%20rel%3D%22stylesheet%22%20href%3D%22https%3A//maxcdn.bootstrapcdn.com/font-awesome/4.6.3/css/font-awesome.min.css%22/%3E%0A%20%20%20%20%3Clink%20rel%3D%22stylesheet%22%20href%3D%22https%3A//cdnjs.cloudflare.com/ajax/libs/Leaflet.awesome-markers/2.0.2/leaflet.awesome-markers.css%22/%3E%0A%20%20%20%20%3Clink%20rel%3D%22stylesheet%22%20href%3D%22https%3A//rawcdn.githack.com/python-visualization/folium/master/folium/templates/leaflet.awesome.rotate.css%22/%3E%0A%20%20%20%20%3Cstyle%3Ehtml%2C%20body%20%7Bwidth%3A%20100%25%3Bheight%3A%20100%25%3Bmargin%3A%200%3Bpadding%3A%200%3B%7D%3C/style%3E%0A%20%20%20%20%3Cstyle%3E%23map%20%7Bposition%3Aabsolute%3Btop%3A0%3Bbottom%3A0%3Bright%3A0%3Bleft%3A0%3B%7D%3C/style%3E%0A%20%20%20%20%0A%20%20%20%20%3Cmeta%20name%3D%22viewport%22%20content%3D%22width%3Ddevice-width%2C%0A%20%20%20%20%20%20%20%20initial-scale%3D1.0%2C%20maximum-scale%3D1.0%2C%20user-scalable%3Dno%22%20/%3E%0A%20%20%20%20%3Cstyle%3E%23map_b7f72ff9d2dd40399df383d562eb1780%20%7B%0A%20%20%20%20%20%20%20%20position%3A%20relative%3B%0A%20%20%20%20%20%20%20%20width%3A%20100.0%25%3B%0A%20%20%20%20%20%20%20%20height%3A%20100.0%25%3B%0A%20%20%20%20%20%20%20%20left%3A%200.0%25%3B%0A%20%20%20%20%20%20%20%20top%3A%200.0%25%3B%0A%20%20%20%20%20%20%20%20%7D%0A%20%20%20%20%3C/style%3E%0A%3C/head%3E%0A%3Cbody%3E%20%20%20%20%0A%20%20%20%20%0A%20%20%20%20%3Cdiv%20class%3D%22folium-map%22%20id%3D%22map_b7f72ff9d2dd40399df383d562eb1780%22%20%3E%3C/div%3E%0A%3C/body%3E%0A%3Cscript%3E%20%20%20%20%0A%20%20%20%20%0A%20%20%20%20%0A%20%20%20%20%20%20%20%20var%20bounds%20%3D%20null%3B%0A%20%20%20%20%0A%0A%20%20%20%20var%20map_b7f72ff9d2dd40399df383d562eb1780%20%3D%20L.map%28%0A%20%20%20%20%20%20%20%20%27map_b7f72ff9d2dd40399df383d562eb1780%27%2C%20%7B%0A%20%20%20%20%20%20%20%20center%3A%20%5B0.511189523538957%2C%20101.44666084225209%5D%2C%0A%20%20%20%20%20%20%20%20zoom%3A%208%2C%0A%20%20%20%20%20%20%20%20maxBounds%3A%20bounds%2C%0A%20%20%20%20%20%20%20%20layers%3A%20%5B%5D%2C%0A%20%20%20%20%20%20%20%20worldCopyJump%3A%20false%2C%0A%20%20%20%20%20%20%20%20crs%3A%20L.CRS.EPSG3857%2C%0A%20%20%20%20%20%20%20%20zoomControl%3A%20true%2C%0A%20%20%20%20%20%20%20%20%7D%29%3B%0A%0A%0A%20%20%20%20%0A%20%20%20%20var%20tile_layer_cf30511adf2b44269c72c7fe0d9f9a0c%20%3D%20L.tileLayer%28%0A%20%20%20%20%20%20%20%20%27https%3A//%7Bs%7D.tile.openstreetmap.org/%7Bz%7D/%7Bx%7D/%7By%7D.png%27%2C%0A%20%20%20%20%20%20%20%20%7B%0A%20%20%20%20%20%20%20%20%22attribution%22%3A%20null%2C%0A%20%20%20%20%20%20%20%20%22detectRetina%22%3A%20false%2C%0A%20%20%20%20%20%20%20%20%22maxNativeZoom%22%3A%2018%2C%0A%20%20%20%20%20%20%20%20%22maxZoom%22%3A%2018%2C%0A%20%20%20%20%20%20%20%20%22minZoom%22%3A%200%2C%0A%20%20%20%20%20%20%20%20%22noWrap%22%3A%20false%2C%0A%20%20%20%20%20%20%20%20%22opacity%22%3A%201%2C%0A%20%20%20%20%20%20%20%20%22subdomains%22%3A%20%22abc%22%2C%0A%20%20%20%20%20%20%20%20%22tms%22%3A%20false%0A%7D%29.addTo%28map_b7f72ff9d2dd40399df383d562eb1780%29%3B%0A%20%20%20%20var%20tile_layer_068338b612c345a3b5c8c93638c1fa1c%20%3D%20L.tileLayer%28%0A%20%20%20%20%20%20%20%20%27https%3A//earthengine.googleapis.com/v1alpha/projects/earthengine-legacy/maps/e1a2a7e50b47c43eab304be897e00b6a-933f14f0807330e2e18131fd32151ed9/tiles/%7Bz%7D/%7Bx%7D/%7By%7D%27%2C%0A%20%20%20%20%20%20%20%20%7B%0A%20%20%20%20%20%20%20%20%22attribution%22%3A%20%22Map%20Data%20%26copy%3B%20%3Ca%20href%3D%5C%22https%3A//earthengine.google.com/%5C%22%3EGoogle%20Earth%20Engine%3C/a%3E%22%2C%0A%20%20%20%20%20%20%20%20%22detectRetina%22%3A%20false%2C%0A%20%20%20%20%20%20%20%20%22maxNativeZoom%22%3A%2018%2C%0A%20%20%20%20%20%20%20%20%22maxZoom%22%3A%2018%2C%0A%20%20%20%20%20%20%20%20%22minZoom%22%3A%200%2C%0A%20%20%20%20%20%20%20%20%22noWrap%22%3A%20false%2C%0A%20%20%20%20%20%20%20%20%22opacity%22%3A%201%2C%0A%20%20%20%20%20%20%20%20%22subdomains%22%3A%20%22abc%22%2C%0A%20%20%20%20%20%20%20%20%22tms%22%3A%20false%0A%7D%29.addTo%28map_b7f72ff9d2dd40399df383d562eb1780%29%3B%0A%20%20%20%20var%20tile_layer_7cbfa5100ccd4cdda9a3e71457765d86%20%3D%20L.tileLayer%28%0A%20%20%20%20%20%20%20%20%27https%3A//earthengine.googleapis.com/v1alpha/projects/earthengine-legacy/maps/193e27979336beaae5592a254e3a3115-4f929cbc6ce33804fe40ea7ca30246ca/tiles/%7Bz%7D/%7Bx%7D/%7By%7D%27%2C%0A%20%20%20%20%20%20%20%20%7B%0A%20%20%20%20%20%20%20%20%22attribution%22%3A%20%22Map%20Data%20%26copy%3B%20%3Ca%20href%3D%5C%22https%3A//earthengine.google.com/%5C%22%3EGoogle%20Earth%20Engine%3C/a%3E%22%2C%0A%20%20%20%20%20%20%20%20%22detectRetina%22%3A%20false%2C%0A%20%20%20%20%20%20%20%20%22maxNativeZoom%22%3A%2018%2C%0A%20%20%20%20%20%20%20%20%22maxZoom%22%3A%2018%2C%0A%20%20%20%20%20%20%20%20%22minZoom%22%3A%200%2C%0A%20%20%20%20%20%20%20%20%22noWrap%22%3A%20false%2C%0A%20%20%20%20%20%20%20%20%22opacity%22%3A%201%2C%0A%20%20%20%20%20%20%20%20%22subdomains%22%3A%20%22abc%22%2C%0A%20%20%20%20%20%20%20%20%22tms%22%3A%20false%0A%7D%29.addTo%28map_b7f72ff9d2dd40399df383d562eb1780%29%3B%0A%20%20%20%20var%20tile_layer_9f93c81141c14343bc2614fcbde466ab%20%3D%20L.tileLayer%28%0A%20%20%20%20%20%20%20%20%27https%3A//earthengine.googleapis.com/v1alpha/projects/earthengine-legacy/maps/ab7ce2e6b30a8d50aa29f74f4742674f-7397e63383d6f231c0cbd2122fdde9ee/tiles/%7Bz%7D/%7Bx%7D/%7By%7D%27%2C%0A%20%20%20%20%20%20%20%20%7B%0A%20%20%20%20%20%20%20%20%22attribution%22%3A%20%22Map%20Data%20%26copy%3B%20%3Ca%20href%3D%5C%22https%3A//earthengine.google.com/%5C%22%3EGoogle%20Earth%20Engine%3C/a%3E%22%2C%0A%20%20%20%20%20%20%20%20%22detectRetina%22%3A%20false%2C%0A%20%20%20%20%20%20%20%20%22maxNativeZoom%22%3A%2018%2C%0A%20%20%20%20%20%20%20%20%22maxZoom%22%3A%2018%2C%0A%20%20%20%20%20%20%20%20%22minZoom%22%3A%200%2C%0A%20%20%20%20%20%20%20%20%22noWrap%22%3A%20false%2C%0A%20%20%20%20%20%20%20%20%22opacity%22%3A%201%2C%0A%20%20%20%20%20%20%20%20%22subdomains%22%3A%20%22abc%22%2C%0A%20%20%20%20%20%20%20%20%22tms%22%3A%20false%0A%7D%29.addTo%28map_b7f72ff9d2dd40399df383d562eb1780%29%3B%0A%20%20%20%20var%20tile_layer_a7a439a9f972435ba4398891d3b96182%20%3D%20L.tileLayer%28%0A%20%20%20%20%20%20%20%20%27https%3A//earthengine.googleapis.com/v1alpha/projects/earthengine-legacy/maps/95815ca74393a3d825e1f0a4306e81fb-e2f23aee4ddd577ae049b82d3f16a363/tiles/%7Bz%7D/%7Bx%7D/%7By%7D%27%2C%0A%20%20%20%20%20%20%20%20%7B%0A%20%20%20%20%20%20%20%20%22attribution%22%3A%20%22Map%20Data%20%26copy%3B%20%3Ca%20href%3D%5C%22https%3A//earthengine.google.com/%5C%22%3EGoogle%20Earth%20Engine%3C/a%3E%22%2C%0A%20%20%20%20%20%20%20%20%22detectRetina%22%3A%20false%2C%0A%20%20%20%20%20%20%20%20%22maxNativeZoom%22%3A%2018%2C%0A%20%20%20%20%20%20%20%20%22maxZoom%22%3A%2018%2C%0A%20%20%20%20%20%20%20%20%22minZoom%22%3A%200%2C%0A%20%20%20%20%20%20%20%20%22noWrap%22%3A%20false%2C%0A%20%20%20%20%20%20%20%20%22opacity%22%3A%201%2C%0A%20%20%20%20%20%20%20%20%22subdomains%22%3A%20%22abc%22%2C%0A%20%20%20%20%20%20%20%20%22tms%22%3A%20false%0A%7D%29.addTo%28map_b7f72ff9d2dd40399df383d562eb1780%29%3B%0A%20%20%20%20var%20tile_layer_b00ddf08c39848f6962e5cf81561536a%20%3D%20L.tileLayer%28%0A%20%20%20%20%20%20%20%20%27https%3A//earthengine.googleapis.com/v1alpha/projects/earthengine-legacy/maps/61651ab2971ef1109f971145ea7cadd3-90ff073e8e903512ccae7df916b6d296/tiles/%7Bz%7D/%7Bx%7D/%7By%7D%27%2C%0A%20%20%20%20%20%20%20%20%7B%0A%20%20%20%20%20%20%20%20%22attribution%22%3A%20%22Map%20Data%20%26copy%3B%20%3Ca%20href%3D%5C%22https%3A//earthengine.google.com/%5C%22%3EGoogle%20Earth%20Engine%3C/a%3E%22%2C%0A%20%20%20%20%20%20%20%20%22detectRetina%22%3A%20false%2C%0A%20%20%20%20%20%20%20%20%22maxNativeZoom%22%3A%2018%2C%0A%20%20%20%20%20%20%20%20%22maxZoom%22%3A%2018%2C%0A%20%20%20%20%20%20%20%20%22minZoom%22%3A%200%2C%0A%20%20%20%20%20%20%20%20%22noWrap%22%3A%20false%2C%0A%20%20%20%20%20%20%20%20%22opacity%22%3A%201%2C%0A%20%20%20%20%20%20%20%20%22subdomains%22%3A%20%22abc%22%2C%0A%20%20%20%20%20%20%20%20%22tms%22%3A%20false%0A%7D%29.addTo%28map_b7f72ff9d2dd40399df383d562eb1780%29%3B%0A%20%20%20%20%0A%20%20%20%20%20%20%20%20%20%20%20%20var%20layer_control_e08ab604ebe24825a621c783b42ba261%20%3D%20%7B%0A%20%20%20%20%20%20%20%20%20%20%20%20%20%20%20%20base_layers%20%3A%20%7B%20%22openstreetmap%22%20%3A%20tile_layer_cf30511adf2b44269c72c7fe0d9f9a0c%2C%20%7D%2C%0A%20%20%20%20%20%20%20%20%20%20%20%20%20%20%20%20overlays%20%3A%20%7B%20%22Precipitation%20from%20TRMM%22%20%3A%20tile_layer_068338b612c345a3b5c8c93638c1fa1c%2C%22Precipitation%20from%20TRMM%20%28Jan%20%2718%22%20%3A%20tile_layer_7cbfa5100ccd4cdda9a3e71457765d86%2C%22SRTM%20Digital%20Elevation%20Model%22%20%3A%20tile_layer_9f93c81141c14343bc2614fcbde466ab%2C%22NDVI%20from%20MODIS%22%20%3A%20tile_layer_a7a439a9f972435ba4398891d3b96182%2C%22Land%20Cover%20from%20MODIS%22%20%3A%20tile_layer_b00ddf08c39848f6962e5cf81561536a%2C%20%7D%0A%20%20%20%20%20%20%20%20%20%20%20%20%20%20%20%20%7D%3B%0A%20%20%20%20%20%20%20%20%20%20%20%20L.control.layers%28%0A%20%20%20%20%20%20%20%20%20%20%20%20%20%20%20%20layer_control_e08ab604ebe24825a621c783b42ba261.base_layers%2C%0A%20%20%20%20%20%20%20%20%20%20%20%20%20%20%20%20layer_control_e08ab604ebe24825a621c783b42ba261.overlays%2C%0A%20%20%20%20%20%20%20%20%20%20%20%20%20%20%20%20%7Bposition%3A%20%27topright%27%2C%0A%20%20%20%20%20%20%20%20%20%20%20%20%20%20%20%20%20collapsed%3A%20true%2C%0A%20%20%20%20%20%20%20%20%20%20%20%20%20%20%20%20%20autoZIndex%3A%20true%0A%20%20%20%20%20%20%20%20%20%20%20%20%20%20%20%20%7D%29.addTo%28map_b7f72ff9d2dd40399df383d562eb1780%29%3B%0A%20%20%20%20%20%20%20%20%20%20%20%20%0A%20%20%20%20%20%20%20%20%0A%3C/script%3E onload=\"this.contentDocument.open();this.contentDocument.write(    decodeURIComponent(this.getAttribute('data-html')));this.contentDocument.close();\" allowfullscreen webkitallowfullscreen mozallowfullscreen></iframe></div></div>"
            ],
            "text/plain": [
              "<folium.folium.Map at 0x7ff6a7f58d10>"
            ]
          },
          "metadata": {
            "tags": []
          }
        }
      ]
    },
    {
      "cell_type": "code",
      "metadata": {
        "colab": {
          "base_uri": "https://localhost:8080/"
        },
        "id": "xK_jfopVAi8K",
        "outputId": "88076a36-425d-4780-f3cf-525c0937d9e8"
      },
      "source": [
        "print(trmm_img.projection().getInfo())\n",
        "print(slope_ori.projection().getInfo())\n",
        "print(ndvi_ori.projection().getInfo())\n",
        "print(lc_ori.projection().getInfo())"
      ],
      "execution_count": 137,
      "outputs": [
        {
          "output_type": "stream",
          "text": [
            "{'type': 'Projection', 'crs': 'EPSG:4326', 'transform': [0.22457882102988036, 0, 0, 0, -0.22457882102988036, 0]}\n",
            "{'type': 'Projection', 'crs': 'EPSG:4326', 'transform': [0.0008084837557075694, 0, 0, 0, -0.0008084837557075694, 0]}\n",
            "{'type': 'Projection', 'crs': 'EPSG:4326', 'transform': [0.008983152841195215, 0, 0, 0, -0.008983152841195215, 0]}\n",
            "{'type': 'Projection', 'crs': 'EPSG:4326', 'transform': [0.004491576420597608, 0, 0, 0, -0.004491576420597608, 0]}\n"
          ],
          "name": "stdout"
        }
      ]
    },
    {
      "cell_type": "markdown",
      "metadata": {
        "id": "shbisDBFdXLz"
      },
      "source": [
        "# Resample and Reproject The Images"
      ]
    },
    {
      "cell_type": "markdown",
      "metadata": {
        "id": "f0yb24VkdZij"
      },
      "source": [
        "## 25 KM"
      ]
    },
    {
      "cell_type": "code",
      "metadata": {
        "colab": {
          "base_uri": "https://localhost:8080/",
          "height": 0
        },
        "id": "KMpf7hxiq2UC",
        "outputId": "92a2744b-66fa-4392-a7f2-7ea20002d0c1"
      },
      "source": [
        "ndvi_25km = ndvi.reproject(crs=riau_geojson.projection(), scale=25000).reduceResolution(reducer=ee.Reducer.mean(), maxPixels=1024)\n",
        "slope_25km = slope.reproject(crs=riau_geojson.projection(), scale=25000).reduceResolution(reducer=ee.Reducer.mean(), maxPixels=1024)\n",
        "lc_25km = lc.reproject(crs=riau_geojson.projection(), scale=25000).reduceResolution(reducer=ee.Reducer.mean(), maxPixels=1024)\n",
        "\n",
        "ndvi_25km = ndvi_25km.clip(riau_geojson)\n",
        "slope_25km = slope_25km.clip(riau_geojson)\n",
        "lc_25km = lc_25km.clip(riau_geojson)\n",
        "\n",
        "ndvi_params = {\n",
        "  'min': 0.0,\n",
        "  'max': 9000.0,\n",
        "  'palette': [\n",
        "    'FFFFFF', 'CE7E45', 'DF923D', 'F1B555', 'FCD163', '99B718', '74A901',\n",
        "    '66A000', '529400', '3E8601', '207401', '056201', '004C00', '023B01',\n",
        "    '012E01', '011D01', '011301'\n",
        "  ],\n",
        "}\n",
        "\n",
        "slope_params = {\n",
        "    'min':0, \n",
        "    'max':60\n",
        "}\n",
        "\n",
        "lc_params = {\n",
        "  'min': 1.0,\n",
        "  'max': 17.0,\n",
        "  'palette': [\n",
        "    '05450a', '086a10', '54a708', '78d203', '009900', 'c6b044', 'dcd159',\n",
        "    'dade48', 'fbff13', 'b6ff05', '27ff87', 'c24f44', 'a5a5a5', 'ff6d4c',\n",
        "    '69fff8', 'f9ffa4', '1c0dff'\n",
        "  ],\n",
        "}\n",
        "\n",
        "my_map = folium.Map(location=[lat, lon], zoom_start=8)\n",
        "my_map.add_ee_layer(trmm_img, trmm_params, 'Precipitation from TRMM')\n",
        "my_map.add_ee_layer(ndvi_resample, ndvi_params, 'NDVI from MODIS')\n",
        "my_map.add_ee_layer(slope_resample, slope_params, 'DEM from SRTM')\n",
        "my_map.add_ee_layer(lc_resample, lc_params, 'LC from MODIS')\n",
        "folium.LayerControl().add_to(my_map)\n",
        "display(my_map)"
      ],
      "execution_count": 182,
      "outputs": [
        {
          "output_type": "display_data",
          "data": {
            "text/html": [
              "<div style=\"width:100%;\"><div style=\"position:relative;width:100%;height:0;padding-bottom:60%;\"><span style=\"color:#565656\">Make this Notebook Trusted to load map: File -> Trust Notebook</span><iframe src=\"about:blank\" style=\"position:absolute;width:100%;height:100%;left:0;top:0;border:none !important;\" data-html=%3C%21DOCTYPE%20html%3E%0A%3Chead%3E%20%20%20%20%0A%20%20%20%20%3Cmeta%20http-equiv%3D%22content-type%22%20content%3D%22text/html%3B%20charset%3DUTF-8%22%20/%3E%0A%20%20%20%20%3Cscript%3EL_PREFER_CANVAS%3Dfalse%3B%20L_NO_TOUCH%3Dfalse%3B%20L_DISABLE_3D%3Dfalse%3B%3C/script%3E%0A%20%20%20%20%3Cscript%20src%3D%22https%3A//cdn.jsdelivr.net/npm/leaflet%401.4.0/dist/leaflet.js%22%3E%3C/script%3E%0A%20%20%20%20%3Cscript%20src%3D%22https%3A//code.jquery.com/jquery-1.12.4.min.js%22%3E%3C/script%3E%0A%20%20%20%20%3Cscript%20src%3D%22https%3A//maxcdn.bootstrapcdn.com/bootstrap/3.2.0/js/bootstrap.min.js%22%3E%3C/script%3E%0A%20%20%20%20%3Cscript%20src%3D%22https%3A//cdnjs.cloudflare.com/ajax/libs/Leaflet.awesome-markers/2.0.2/leaflet.awesome-markers.js%22%3E%3C/script%3E%0A%20%20%20%20%3Clink%20rel%3D%22stylesheet%22%20href%3D%22https%3A//cdn.jsdelivr.net/npm/leaflet%401.4.0/dist/leaflet.css%22/%3E%0A%20%20%20%20%3Clink%20rel%3D%22stylesheet%22%20href%3D%22https%3A//maxcdn.bootstrapcdn.com/bootstrap/3.2.0/css/bootstrap.min.css%22/%3E%0A%20%20%20%20%3Clink%20rel%3D%22stylesheet%22%20href%3D%22https%3A//maxcdn.bootstrapcdn.com/bootstrap/3.2.0/css/bootstrap-theme.min.css%22/%3E%0A%20%20%20%20%3Clink%20rel%3D%22stylesheet%22%20href%3D%22https%3A//maxcdn.bootstrapcdn.com/font-awesome/4.6.3/css/font-awesome.min.css%22/%3E%0A%20%20%20%20%3Clink%20rel%3D%22stylesheet%22%20href%3D%22https%3A//cdnjs.cloudflare.com/ajax/libs/Leaflet.awesome-markers/2.0.2/leaflet.awesome-markers.css%22/%3E%0A%20%20%20%20%3Clink%20rel%3D%22stylesheet%22%20href%3D%22https%3A//rawcdn.githack.com/python-visualization/folium/master/folium/templates/leaflet.awesome.rotate.css%22/%3E%0A%20%20%20%20%3Cstyle%3Ehtml%2C%20body%20%7Bwidth%3A%20100%25%3Bheight%3A%20100%25%3Bmargin%3A%200%3Bpadding%3A%200%3B%7D%3C/style%3E%0A%20%20%20%20%3Cstyle%3E%23map%20%7Bposition%3Aabsolute%3Btop%3A0%3Bbottom%3A0%3Bright%3A0%3Bleft%3A0%3B%7D%3C/style%3E%0A%20%20%20%20%0A%20%20%20%20%3Cmeta%20name%3D%22viewport%22%20content%3D%22width%3Ddevice-width%2C%0A%20%20%20%20%20%20%20%20initial-scale%3D1.0%2C%20maximum-scale%3D1.0%2C%20user-scalable%3Dno%22%20/%3E%0A%20%20%20%20%3Cstyle%3E%23map_15e39efc45f04dd19338b53506b1e8d8%20%7B%0A%20%20%20%20%20%20%20%20position%3A%20relative%3B%0A%20%20%20%20%20%20%20%20width%3A%20100.0%25%3B%0A%20%20%20%20%20%20%20%20height%3A%20100.0%25%3B%0A%20%20%20%20%20%20%20%20left%3A%200.0%25%3B%0A%20%20%20%20%20%20%20%20top%3A%200.0%25%3B%0A%20%20%20%20%20%20%20%20%7D%0A%20%20%20%20%3C/style%3E%0A%3C/head%3E%0A%3Cbody%3E%20%20%20%20%0A%20%20%20%20%0A%20%20%20%20%3Cdiv%20class%3D%22folium-map%22%20id%3D%22map_15e39efc45f04dd19338b53506b1e8d8%22%20%3E%3C/div%3E%0A%3C/body%3E%0A%3Cscript%3E%20%20%20%20%0A%20%20%20%20%0A%20%20%20%20%0A%20%20%20%20%20%20%20%20var%20bounds%20%3D%20null%3B%0A%20%20%20%20%0A%0A%20%20%20%20var%20map_15e39efc45f04dd19338b53506b1e8d8%20%3D%20L.map%28%0A%20%20%20%20%20%20%20%20%27map_15e39efc45f04dd19338b53506b1e8d8%27%2C%20%7B%0A%20%20%20%20%20%20%20%20center%3A%20%5B0.511189523538957%2C%20101.44666084225209%5D%2C%0A%20%20%20%20%20%20%20%20zoom%3A%208%2C%0A%20%20%20%20%20%20%20%20maxBounds%3A%20bounds%2C%0A%20%20%20%20%20%20%20%20layers%3A%20%5B%5D%2C%0A%20%20%20%20%20%20%20%20worldCopyJump%3A%20false%2C%0A%20%20%20%20%20%20%20%20crs%3A%20L.CRS.EPSG3857%2C%0A%20%20%20%20%20%20%20%20zoomControl%3A%20true%2C%0A%20%20%20%20%20%20%20%20%7D%29%3B%0A%0A%0A%20%20%20%20%0A%20%20%20%20var%20tile_layer_40bfb0a809df481482c37676d4be42d6%20%3D%20L.tileLayer%28%0A%20%20%20%20%20%20%20%20%27https%3A//%7Bs%7D.tile.openstreetmap.org/%7Bz%7D/%7Bx%7D/%7By%7D.png%27%2C%0A%20%20%20%20%20%20%20%20%7B%0A%20%20%20%20%20%20%20%20%22attribution%22%3A%20null%2C%0A%20%20%20%20%20%20%20%20%22detectRetina%22%3A%20false%2C%0A%20%20%20%20%20%20%20%20%22maxNativeZoom%22%3A%2018%2C%0A%20%20%20%20%20%20%20%20%22maxZoom%22%3A%2018%2C%0A%20%20%20%20%20%20%20%20%22minZoom%22%3A%200%2C%0A%20%20%20%20%20%20%20%20%22noWrap%22%3A%20false%2C%0A%20%20%20%20%20%20%20%20%22opacity%22%3A%201%2C%0A%20%20%20%20%20%20%20%20%22subdomains%22%3A%20%22abc%22%2C%0A%20%20%20%20%20%20%20%20%22tms%22%3A%20false%0A%7D%29.addTo%28map_15e39efc45f04dd19338b53506b1e8d8%29%3B%0A%20%20%20%20var%20tile_layer_3cf1165acac6401ba28d95090cc7a011%20%3D%20L.tileLayer%28%0A%20%20%20%20%20%20%20%20%27https%3A//earthengine.googleapis.com/v1alpha/projects/earthengine-legacy/maps/e1a2a7e50b47c43eab304be897e00b6a-e9c37279de93e6e98c7088bfe459c712/tiles/%7Bz%7D/%7Bx%7D/%7By%7D%27%2C%0A%20%20%20%20%20%20%20%20%7B%0A%20%20%20%20%20%20%20%20%22attribution%22%3A%20%22Map%20Data%20%26copy%3B%20%3Ca%20href%3D%5C%22https%3A//earthengine.google.com/%5C%22%3EGoogle%20Earth%20Engine%3C/a%3E%22%2C%0A%20%20%20%20%20%20%20%20%22detectRetina%22%3A%20false%2C%0A%20%20%20%20%20%20%20%20%22maxNativeZoom%22%3A%2018%2C%0A%20%20%20%20%20%20%20%20%22maxZoom%22%3A%2018%2C%0A%20%20%20%20%20%20%20%20%22minZoom%22%3A%200%2C%0A%20%20%20%20%20%20%20%20%22noWrap%22%3A%20false%2C%0A%20%20%20%20%20%20%20%20%22opacity%22%3A%201%2C%0A%20%20%20%20%20%20%20%20%22subdomains%22%3A%20%22abc%22%2C%0A%20%20%20%20%20%20%20%20%22tms%22%3A%20false%0A%7D%29.addTo%28map_15e39efc45f04dd19338b53506b1e8d8%29%3B%0A%20%20%20%20var%20tile_layer_7bd14e2d4be84999a4ba9e83d53b162a%20%3D%20L.tileLayer%28%0A%20%20%20%20%20%20%20%20%27https%3A//earthengine.googleapis.com/v1alpha/projects/earthengine-legacy/maps/0c7cb18d8c560f1b3c9bcceb7403de9a-dae64e0f7be203eadf7e8e423ad7e641/tiles/%7Bz%7D/%7Bx%7D/%7By%7D%27%2C%0A%20%20%20%20%20%20%20%20%7B%0A%20%20%20%20%20%20%20%20%22attribution%22%3A%20%22Map%20Data%20%26copy%3B%20%3Ca%20href%3D%5C%22https%3A//earthengine.google.com/%5C%22%3EGoogle%20Earth%20Engine%3C/a%3E%22%2C%0A%20%20%20%20%20%20%20%20%22detectRetina%22%3A%20false%2C%0A%20%20%20%20%20%20%20%20%22maxNativeZoom%22%3A%2018%2C%0A%20%20%20%20%20%20%20%20%22maxZoom%22%3A%2018%2C%0A%20%20%20%20%20%20%20%20%22minZoom%22%3A%200%2C%0A%20%20%20%20%20%20%20%20%22noWrap%22%3A%20false%2C%0A%20%20%20%20%20%20%20%20%22opacity%22%3A%201%2C%0A%20%20%20%20%20%20%20%20%22subdomains%22%3A%20%22abc%22%2C%0A%20%20%20%20%20%20%20%20%22tms%22%3A%20false%0A%7D%29.addTo%28map_15e39efc45f04dd19338b53506b1e8d8%29%3B%0A%20%20%20%20var%20tile_layer_6c462365921e4bbab7246c17b2aa6f60%20%3D%20L.tileLayer%28%0A%20%20%20%20%20%20%20%20%27https%3A//earthengine.googleapis.com/v1alpha/projects/earthengine-legacy/maps/35a2b1b94a3493fead41025f3ef5cb9f-31860f1f18dec211dda9899087651349/tiles/%7Bz%7D/%7Bx%7D/%7By%7D%27%2C%0A%20%20%20%20%20%20%20%20%7B%0A%20%20%20%20%20%20%20%20%22attribution%22%3A%20%22Map%20Data%20%26copy%3B%20%3Ca%20href%3D%5C%22https%3A//earthengine.google.com/%5C%22%3EGoogle%20Earth%20Engine%3C/a%3E%22%2C%0A%20%20%20%20%20%20%20%20%22detectRetina%22%3A%20false%2C%0A%20%20%20%20%20%20%20%20%22maxNativeZoom%22%3A%2018%2C%0A%20%20%20%20%20%20%20%20%22maxZoom%22%3A%2018%2C%0A%20%20%20%20%20%20%20%20%22minZoom%22%3A%200%2C%0A%20%20%20%20%20%20%20%20%22noWrap%22%3A%20false%2C%0A%20%20%20%20%20%20%20%20%22opacity%22%3A%201%2C%0A%20%20%20%20%20%20%20%20%22subdomains%22%3A%20%22abc%22%2C%0A%20%20%20%20%20%20%20%20%22tms%22%3A%20false%0A%7D%29.addTo%28map_15e39efc45f04dd19338b53506b1e8d8%29%3B%0A%20%20%20%20var%20tile_layer_53dfa2d5c3a64f0fa6bb92c0081c4ea1%20%3D%20L.tileLayer%28%0A%20%20%20%20%20%20%20%20%27https%3A//earthengine.googleapis.com/v1alpha/projects/earthengine-legacy/maps/54d7fd20b87622fa8ab3a2b51cfc6406-9486ee0703f06cba0c6f50fd640c6c03/tiles/%7Bz%7D/%7Bx%7D/%7By%7D%27%2C%0A%20%20%20%20%20%20%20%20%7B%0A%20%20%20%20%20%20%20%20%22attribution%22%3A%20%22Map%20Data%20%26copy%3B%20%3Ca%20href%3D%5C%22https%3A//earthengine.google.com/%5C%22%3EGoogle%20Earth%20Engine%3C/a%3E%22%2C%0A%20%20%20%20%20%20%20%20%22detectRetina%22%3A%20false%2C%0A%20%20%20%20%20%20%20%20%22maxNativeZoom%22%3A%2018%2C%0A%20%20%20%20%20%20%20%20%22maxZoom%22%3A%2018%2C%0A%20%20%20%20%20%20%20%20%22minZoom%22%3A%200%2C%0A%20%20%20%20%20%20%20%20%22noWrap%22%3A%20false%2C%0A%20%20%20%20%20%20%20%20%22opacity%22%3A%201%2C%0A%20%20%20%20%20%20%20%20%22subdomains%22%3A%20%22abc%22%2C%0A%20%20%20%20%20%20%20%20%22tms%22%3A%20false%0A%7D%29.addTo%28map_15e39efc45f04dd19338b53506b1e8d8%29%3B%0A%20%20%20%20%0A%20%20%20%20%20%20%20%20%20%20%20%20var%20layer_control_46c6814861414cbbbb7339c3ec439158%20%3D%20%7B%0A%20%20%20%20%20%20%20%20%20%20%20%20%20%20%20%20base_layers%20%3A%20%7B%20%22openstreetmap%22%20%3A%20tile_layer_40bfb0a809df481482c37676d4be42d6%2C%20%7D%2C%0A%20%20%20%20%20%20%20%20%20%20%20%20%20%20%20%20overlays%20%3A%20%7B%20%22Precipitation%20from%20TRMM%22%20%3A%20tile_layer_3cf1165acac6401ba28d95090cc7a011%2C%22NDVI%20from%20MODIS%22%20%3A%20tile_layer_7bd14e2d4be84999a4ba9e83d53b162a%2C%22DEM%20from%20SRTM%22%20%3A%20tile_layer_6c462365921e4bbab7246c17b2aa6f60%2C%22LC%20from%20MODIS%22%20%3A%20tile_layer_53dfa2d5c3a64f0fa6bb92c0081c4ea1%2C%20%7D%0A%20%20%20%20%20%20%20%20%20%20%20%20%20%20%20%20%7D%3B%0A%20%20%20%20%20%20%20%20%20%20%20%20L.control.layers%28%0A%20%20%20%20%20%20%20%20%20%20%20%20%20%20%20%20layer_control_46c6814861414cbbbb7339c3ec439158.base_layers%2C%0A%20%20%20%20%20%20%20%20%20%20%20%20%20%20%20%20layer_control_46c6814861414cbbbb7339c3ec439158.overlays%2C%0A%20%20%20%20%20%20%20%20%20%20%20%20%20%20%20%20%7Bposition%3A%20%27topright%27%2C%0A%20%20%20%20%20%20%20%20%20%20%20%20%20%20%20%20%20collapsed%3A%20true%2C%0A%20%20%20%20%20%20%20%20%20%20%20%20%20%20%20%20%20autoZIndex%3A%20true%0A%20%20%20%20%20%20%20%20%20%20%20%20%20%20%20%20%7D%29.addTo%28map_15e39efc45f04dd19338b53506b1e8d8%29%3B%0A%20%20%20%20%20%20%20%20%20%20%20%20%0A%20%20%20%20%20%20%20%20%0A%3C/script%3E onload=\"this.contentDocument.open();this.contentDocument.write(    decodeURIComponent(this.getAttribute('data-html')));this.contentDocument.close();\" allowfullscreen webkitallowfullscreen mozallowfullscreen></iframe></div></div>"
            ],
            "text/plain": [
              "<folium.folium.Map at 0x7ff6a64d6750>"
            ]
          },
          "metadata": {
            "tags": []
          }
        }
      ]
    },
    {
      "cell_type": "markdown",
      "metadata": {
        "id": "1ROzMwTsrAU6"
      },
      "source": [
        "## 1 KM"
      ]
    },
    {
      "cell_type": "code",
      "metadata": {
        "colab": {
          "base_uri": "https://localhost:8080/",
          "height": 0
        },
        "id": "F7WNU5Mmdpfh",
        "outputId": "15da3096-5f44-48bf-e667-f78031b92342"
      },
      "source": [
        "# Rescale from origin scale => 1x1KM\n",
        "ndvi_1km = ndvi.reproject(crs=riau_geojson.projection(), scale=1000).reduceResolution(reducer=ee.Reducer.mean(), maxPixels=1024)\n",
        "slope_1km = slope.reproject(crs=riau_geojson.projection(), scale=1000).reduceResolution(reducer=ee.Reducer.mean(), maxPixels=1024)\n",
        "lc_1km = lc.reproject(crs=riau_geojson.projection(), scale=1000).reduceResolution(reducer=ee.Reducer.mean(), maxPixels=1024)\n",
        "\n",
        "# Focus on the Region of Interest\n",
        "ndvi_1km = ndvi_1km.clip(riau_geojson)\n",
        "slope_1km = slope_1km.clip(riau_geojson)\n",
        "lc_1km = lc_1km.clip(riau_geojson)\n",
        "\n",
        "ndvi_params = {\n",
        "  'min': 0.0,\n",
        "  'max': 9000.0,\n",
        "  'palette': [\n",
        "    'FFFFFF', 'CE7E45', 'DF923D', 'F1B555', 'FCD163', '99B718', '74A901',\n",
        "    '66A000', '529400', '3E8601', '207401', '056201', '004C00', '023B01',\n",
        "    '012E01', '011D01', '011301'\n",
        "  ],\n",
        "}\n",
        "\n",
        "slope_params = {\n",
        "    'min':0, \n",
        "    'max':60\n",
        "}\n",
        "\n",
        "lc_params = {\n",
        "  'min': 1.0,\n",
        "  'max': 17.0,\n",
        "  'palette': [\n",
        "    '05450a', '086a10', '54a708', '78d203', '009900', 'c6b044', 'dcd159',\n",
        "    'dade48', 'fbff13', 'b6ff05', '27ff87', 'c24f44', 'a5a5a5', 'ff6d4c',\n",
        "    '69fff8', 'f9ffa4', '1c0dff'\n",
        "  ],\n",
        "}\n",
        "\n",
        "my_map = folium.Map(location=[lat, lon], zoom_start=8)\n",
        "my_map.add_ee_layer(ndvi_1km, ndvi_params, 'NDVI from MODIS')\n",
        "my_map.add_ee_layer(slope_1km, slope_params, 'DEM from SRTM')\n",
        "my_map.add_ee_layer(lc_1km, lc_params, 'LC from MODIS')\n",
        "folium.LayerControl().add_to(my_map)\n",
        "display(my_map)"
      ],
      "execution_count": 169,
      "outputs": [
        {
          "output_type": "display_data",
          "data": {
            "text/html": [
              "<div style=\"width:100%;\"><div style=\"position:relative;width:100%;height:0;padding-bottom:60%;\"><span style=\"color:#565656\">Make this Notebook Trusted to load map: File -> Trust Notebook</span><iframe src=\"about:blank\" style=\"position:absolute;width:100%;height:100%;left:0;top:0;border:none !important;\" data-html=%3C%21DOCTYPE%20html%3E%0A%3Chead%3E%20%20%20%20%0A%20%20%20%20%3Cmeta%20http-equiv%3D%22content-type%22%20content%3D%22text/html%3B%20charset%3DUTF-8%22%20/%3E%0A%20%20%20%20%3Cscript%3EL_PREFER_CANVAS%3Dfalse%3B%20L_NO_TOUCH%3Dfalse%3B%20L_DISABLE_3D%3Dfalse%3B%3C/script%3E%0A%20%20%20%20%3Cscript%20src%3D%22https%3A//cdn.jsdelivr.net/npm/leaflet%401.4.0/dist/leaflet.js%22%3E%3C/script%3E%0A%20%20%20%20%3Cscript%20src%3D%22https%3A//code.jquery.com/jquery-1.12.4.min.js%22%3E%3C/script%3E%0A%20%20%20%20%3Cscript%20src%3D%22https%3A//maxcdn.bootstrapcdn.com/bootstrap/3.2.0/js/bootstrap.min.js%22%3E%3C/script%3E%0A%20%20%20%20%3Cscript%20src%3D%22https%3A//cdnjs.cloudflare.com/ajax/libs/Leaflet.awesome-markers/2.0.2/leaflet.awesome-markers.js%22%3E%3C/script%3E%0A%20%20%20%20%3Clink%20rel%3D%22stylesheet%22%20href%3D%22https%3A//cdn.jsdelivr.net/npm/leaflet%401.4.0/dist/leaflet.css%22/%3E%0A%20%20%20%20%3Clink%20rel%3D%22stylesheet%22%20href%3D%22https%3A//maxcdn.bootstrapcdn.com/bootstrap/3.2.0/css/bootstrap.min.css%22/%3E%0A%20%20%20%20%3Clink%20rel%3D%22stylesheet%22%20href%3D%22https%3A//maxcdn.bootstrapcdn.com/bootstrap/3.2.0/css/bootstrap-theme.min.css%22/%3E%0A%20%20%20%20%3Clink%20rel%3D%22stylesheet%22%20href%3D%22https%3A//maxcdn.bootstrapcdn.com/font-awesome/4.6.3/css/font-awesome.min.css%22/%3E%0A%20%20%20%20%3Clink%20rel%3D%22stylesheet%22%20href%3D%22https%3A//cdnjs.cloudflare.com/ajax/libs/Leaflet.awesome-markers/2.0.2/leaflet.awesome-markers.css%22/%3E%0A%20%20%20%20%3Clink%20rel%3D%22stylesheet%22%20href%3D%22https%3A//rawcdn.githack.com/python-visualization/folium/master/folium/templates/leaflet.awesome.rotate.css%22/%3E%0A%20%20%20%20%3Cstyle%3Ehtml%2C%20body%20%7Bwidth%3A%20100%25%3Bheight%3A%20100%25%3Bmargin%3A%200%3Bpadding%3A%200%3B%7D%3C/style%3E%0A%20%20%20%20%3Cstyle%3E%23map%20%7Bposition%3Aabsolute%3Btop%3A0%3Bbottom%3A0%3Bright%3A0%3Bleft%3A0%3B%7D%3C/style%3E%0A%20%20%20%20%0A%20%20%20%20%3Cmeta%20name%3D%22viewport%22%20content%3D%22width%3Ddevice-width%2C%0A%20%20%20%20%20%20%20%20initial-scale%3D1.0%2C%20maximum-scale%3D1.0%2C%20user-scalable%3Dno%22%20/%3E%0A%20%20%20%20%3Cstyle%3E%23map_ceedbdac530d4c72aa10a2fcd9ce757d%20%7B%0A%20%20%20%20%20%20%20%20position%3A%20relative%3B%0A%20%20%20%20%20%20%20%20width%3A%20100.0%25%3B%0A%20%20%20%20%20%20%20%20height%3A%20100.0%25%3B%0A%20%20%20%20%20%20%20%20left%3A%200.0%25%3B%0A%20%20%20%20%20%20%20%20top%3A%200.0%25%3B%0A%20%20%20%20%20%20%20%20%7D%0A%20%20%20%20%3C/style%3E%0A%3C/head%3E%0A%3Cbody%3E%20%20%20%20%0A%20%20%20%20%0A%20%20%20%20%3Cdiv%20class%3D%22folium-map%22%20id%3D%22map_ceedbdac530d4c72aa10a2fcd9ce757d%22%20%3E%3C/div%3E%0A%3C/body%3E%0A%3Cscript%3E%20%20%20%20%0A%20%20%20%20%0A%20%20%20%20%0A%20%20%20%20%20%20%20%20var%20bounds%20%3D%20null%3B%0A%20%20%20%20%0A%0A%20%20%20%20var%20map_ceedbdac530d4c72aa10a2fcd9ce757d%20%3D%20L.map%28%0A%20%20%20%20%20%20%20%20%27map_ceedbdac530d4c72aa10a2fcd9ce757d%27%2C%20%7B%0A%20%20%20%20%20%20%20%20center%3A%20%5B0.511189523538957%2C%20101.44666084225209%5D%2C%0A%20%20%20%20%20%20%20%20zoom%3A%208%2C%0A%20%20%20%20%20%20%20%20maxBounds%3A%20bounds%2C%0A%20%20%20%20%20%20%20%20layers%3A%20%5B%5D%2C%0A%20%20%20%20%20%20%20%20worldCopyJump%3A%20false%2C%0A%20%20%20%20%20%20%20%20crs%3A%20L.CRS.EPSG3857%2C%0A%20%20%20%20%20%20%20%20zoomControl%3A%20true%2C%0A%20%20%20%20%20%20%20%20%7D%29%3B%0A%0A%0A%20%20%20%20%0A%20%20%20%20var%20tile_layer_c3d8332afdcc46149d59c9fc48a0c91f%20%3D%20L.tileLayer%28%0A%20%20%20%20%20%20%20%20%27https%3A//%7Bs%7D.tile.openstreetmap.org/%7Bz%7D/%7Bx%7D/%7By%7D.png%27%2C%0A%20%20%20%20%20%20%20%20%7B%0A%20%20%20%20%20%20%20%20%22attribution%22%3A%20null%2C%0A%20%20%20%20%20%20%20%20%22detectRetina%22%3A%20false%2C%0A%20%20%20%20%20%20%20%20%22maxNativeZoom%22%3A%2018%2C%0A%20%20%20%20%20%20%20%20%22maxZoom%22%3A%2018%2C%0A%20%20%20%20%20%20%20%20%22minZoom%22%3A%200%2C%0A%20%20%20%20%20%20%20%20%22noWrap%22%3A%20false%2C%0A%20%20%20%20%20%20%20%20%22opacity%22%3A%201%2C%0A%20%20%20%20%20%20%20%20%22subdomains%22%3A%20%22abc%22%2C%0A%20%20%20%20%20%20%20%20%22tms%22%3A%20false%0A%7D%29.addTo%28map_ceedbdac530d4c72aa10a2fcd9ce757d%29%3B%0A%20%20%20%20var%20tile_layer_de0c37940fcb44f682d4d8015009f97d%20%3D%20L.tileLayer%28%0A%20%20%20%20%20%20%20%20%27https%3A//earthengine.googleapis.com/v1alpha/projects/earthengine-legacy/maps/24c0e8a7bb01bddb00e93e50802b458a-6a373505ea633ea52e22d37c046b2ea3/tiles/%7Bz%7D/%7Bx%7D/%7By%7D%27%2C%0A%20%20%20%20%20%20%20%20%7B%0A%20%20%20%20%20%20%20%20%22attribution%22%3A%20%22Map%20Data%20%26copy%3B%20%3Ca%20href%3D%5C%22https%3A//earthengine.google.com/%5C%22%3EGoogle%20Earth%20Engine%3C/a%3E%22%2C%0A%20%20%20%20%20%20%20%20%22detectRetina%22%3A%20false%2C%0A%20%20%20%20%20%20%20%20%22maxNativeZoom%22%3A%2018%2C%0A%20%20%20%20%20%20%20%20%22maxZoom%22%3A%2018%2C%0A%20%20%20%20%20%20%20%20%22minZoom%22%3A%200%2C%0A%20%20%20%20%20%20%20%20%22noWrap%22%3A%20false%2C%0A%20%20%20%20%20%20%20%20%22opacity%22%3A%201%2C%0A%20%20%20%20%20%20%20%20%22subdomains%22%3A%20%22abc%22%2C%0A%20%20%20%20%20%20%20%20%22tms%22%3A%20false%0A%7D%29.addTo%28map_ceedbdac530d4c72aa10a2fcd9ce757d%29%3B%0A%20%20%20%20var%20tile_layer_cbe1b904d76c4d2cb37c2d6b0a65cb16%20%3D%20L.tileLayer%28%0A%20%20%20%20%20%20%20%20%27https%3A//earthengine.googleapis.com/v1alpha/projects/earthengine-legacy/maps/e92bcf8894bffbe908a8f94da7d533fc-55510d9013ecc8c082742a543773127a/tiles/%7Bz%7D/%7Bx%7D/%7By%7D%27%2C%0A%20%20%20%20%20%20%20%20%7B%0A%20%20%20%20%20%20%20%20%22attribution%22%3A%20%22Map%20Data%20%26copy%3B%20%3Ca%20href%3D%5C%22https%3A//earthengine.google.com/%5C%22%3EGoogle%20Earth%20Engine%3C/a%3E%22%2C%0A%20%20%20%20%20%20%20%20%22detectRetina%22%3A%20false%2C%0A%20%20%20%20%20%20%20%20%22maxNativeZoom%22%3A%2018%2C%0A%20%20%20%20%20%20%20%20%22maxZoom%22%3A%2018%2C%0A%20%20%20%20%20%20%20%20%22minZoom%22%3A%200%2C%0A%20%20%20%20%20%20%20%20%22noWrap%22%3A%20false%2C%0A%20%20%20%20%20%20%20%20%22opacity%22%3A%201%2C%0A%20%20%20%20%20%20%20%20%22subdomains%22%3A%20%22abc%22%2C%0A%20%20%20%20%20%20%20%20%22tms%22%3A%20false%0A%7D%29.addTo%28map_ceedbdac530d4c72aa10a2fcd9ce757d%29%3B%0A%20%20%20%20var%20tile_layer_af976be5eff84b6781db089834fc563c%20%3D%20L.tileLayer%28%0A%20%20%20%20%20%20%20%20%27https%3A//earthengine.googleapis.com/v1alpha/projects/earthengine-legacy/maps/f9d84ef2cbcc2dbbf5634b66914dca02-238ef52ccd37f49a2776a1f3fe0a7ebb/tiles/%7Bz%7D/%7Bx%7D/%7By%7D%27%2C%0A%20%20%20%20%20%20%20%20%7B%0A%20%20%20%20%20%20%20%20%22attribution%22%3A%20%22Map%20Data%20%26copy%3B%20%3Ca%20href%3D%5C%22https%3A//earthengine.google.com/%5C%22%3EGoogle%20Earth%20Engine%3C/a%3E%22%2C%0A%20%20%20%20%20%20%20%20%22detectRetina%22%3A%20false%2C%0A%20%20%20%20%20%20%20%20%22maxNativeZoom%22%3A%2018%2C%0A%20%20%20%20%20%20%20%20%22maxZoom%22%3A%2018%2C%0A%20%20%20%20%20%20%20%20%22minZoom%22%3A%200%2C%0A%20%20%20%20%20%20%20%20%22noWrap%22%3A%20false%2C%0A%20%20%20%20%20%20%20%20%22opacity%22%3A%201%2C%0A%20%20%20%20%20%20%20%20%22subdomains%22%3A%20%22abc%22%2C%0A%20%20%20%20%20%20%20%20%22tms%22%3A%20false%0A%7D%29.addTo%28map_ceedbdac530d4c72aa10a2fcd9ce757d%29%3B%0A%20%20%20%20%0A%20%20%20%20%20%20%20%20%20%20%20%20var%20layer_control_ae6952135e864e5683070ac8fe129c50%20%3D%20%7B%0A%20%20%20%20%20%20%20%20%20%20%20%20%20%20%20%20base_layers%20%3A%20%7B%20%22openstreetmap%22%20%3A%20tile_layer_c3d8332afdcc46149d59c9fc48a0c91f%2C%20%7D%2C%0A%20%20%20%20%20%20%20%20%20%20%20%20%20%20%20%20overlays%20%3A%20%7B%20%22NDVI%20from%20MODIS%22%20%3A%20tile_layer_de0c37940fcb44f682d4d8015009f97d%2C%22DEM%20from%20SRTM%22%20%3A%20tile_layer_cbe1b904d76c4d2cb37c2d6b0a65cb16%2C%22LC%20from%20MODIS%22%20%3A%20tile_layer_af976be5eff84b6781db089834fc563c%2C%20%7D%0A%20%20%20%20%20%20%20%20%20%20%20%20%20%20%20%20%7D%3B%0A%20%20%20%20%20%20%20%20%20%20%20%20L.control.layers%28%0A%20%20%20%20%20%20%20%20%20%20%20%20%20%20%20%20layer_control_ae6952135e864e5683070ac8fe129c50.base_layers%2C%0A%20%20%20%20%20%20%20%20%20%20%20%20%20%20%20%20layer_control_ae6952135e864e5683070ac8fe129c50.overlays%2C%0A%20%20%20%20%20%20%20%20%20%20%20%20%20%20%20%20%7Bposition%3A%20%27topright%27%2C%0A%20%20%20%20%20%20%20%20%20%20%20%20%20%20%20%20%20collapsed%3A%20true%2C%0A%20%20%20%20%20%20%20%20%20%20%20%20%20%20%20%20%20autoZIndex%3A%20true%0A%20%20%20%20%20%20%20%20%20%20%20%20%20%20%20%20%7D%29.addTo%28map_ceedbdac530d4c72aa10a2fcd9ce757d%29%3B%0A%20%20%20%20%20%20%20%20%20%20%20%20%0A%20%20%20%20%20%20%20%20%0A%3C/script%3E onload=\"this.contentDocument.open();this.contentDocument.write(    decodeURIComponent(this.getAttribute('data-html')));this.contentDocument.close();\" allowfullscreen webkitallowfullscreen mozallowfullscreen></iframe></div></div>"
            ],
            "text/plain": [
              "<folium.folium.Map at 0x7ff6f3862e10>"
            ]
          },
          "metadata": {
            "tags": []
          }
        }
      ]
    },
    {
      "cell_type": "markdown",
      "metadata": {
        "id": "-lIVP4fPpJGi"
      },
      "source": [
        "# Projection Information"
      ]
    },
    {
      "cell_type": "code",
      "metadata": {
        "colab": {
          "base_uri": "https://localhost:8080/"
        },
        "id": "wyu_EC_3vBtV",
        "outputId": "69034f66-00fc-483e-fb57-1cf803c37b7f"
      },
      "source": [
        "print(\"Original Projection\")\n",
        "print(trmm_img.projection().getInfo())\n",
        "print(ndvi_ori.projection().getInfo())\n",
        "print(slope_ori.projection().getInfo())\n",
        "print(lc_ori.projection().getInfo())\n",
        "print()\n",
        "print(\"New Projection: 25KM\")\n",
        "print(ndvi_25km.projection().getInfo())\n",
        "print(slope_25km.projection().getInfo())\n",
        "print(lc_25km.projection().getInfo())\n",
        "print(\"New Projection: 1KM\")\n",
        "print(ndvi_1km.projection().getInfo())\n",
        "print(slope_1km.projection().getInfo())\n",
        "print(lc_1km.projection().getInfo())"
      ],
      "execution_count": 170,
      "outputs": [
        {
          "output_type": "stream",
          "text": [
            "Original Projection\n",
            "{'type': 'Projection', 'crs': 'EPSG:4326', 'transform': [0.22457882102988036, 0, 0, 0, -0.22457882102988036, 0]}\n",
            "{'type': 'Projection', 'crs': 'EPSG:4326', 'transform': [0.008983152841195215, 0, 0, 0, -0.008983152841195215, 0]}\n",
            "{'type': 'Projection', 'crs': 'EPSG:4326', 'transform': [0.0008084837557075694, 0, 0, 0, -0.0008084837557075694, 0]}\n",
            "{'type': 'Projection', 'crs': 'EPSG:4326', 'transform': [0.004491576420597608, 0, 0, 0, -0.004491576420597608, 0]}\n",
            "\n",
            "New Projection: 25KM\n",
            "{'type': 'Projection', 'crs': 'EPSG:4326', 'transform': [0.22457882102988036, 0, 0, 0, -0.22457882102988036, 0]}\n",
            "{'type': 'Projection', 'crs': 'EPSG:4326', 'transform': [0.22457882102988036, 0, 0, 0, -0.22457882102988036, 0]}\n",
            "{'type': 'Projection', 'crs': 'EPSG:4326', 'transform': [0.22457882102988036, 0, 0, 0, -0.22457882102988036, 0]}\n",
            "New Projection: 1KM\n",
            "{'type': 'Projection', 'crs': 'EPSG:4326', 'transform': [0.008983152841195215, 0, 0, 0, -0.008983152841195215, 0]}\n",
            "{'type': 'Projection', 'crs': 'EPSG:4326', 'transform': [0.008983152841195215, 0, 0, 0, -0.008983152841195215, 0]}\n",
            "{'type': 'Projection', 'crs': 'EPSG:4326', 'transform': [0.008983152841195215, 0, 0, 0, -0.008983152841195215, 0]}\n"
          ],
          "name": "stdout"
        }
      ]
    },
    {
      "cell_type": "markdown",
      "metadata": {
        "id": "ItRU1J08rXZO"
      },
      "source": [
        "# Save the Satellite Images"
      ]
    },
    {
      "cell_type": "markdown",
      "metadata": {
        "id": "VPgAq4HIsg6x"
      },
      "source": [
        "## TRMM"
      ]
    },
    {
      "cell_type": "code",
      "metadata": {
        "colab": {
          "base_uri": "https://localhost:8080/"
        },
        "id": "33U3ATw0rX60",
        "outputId": "651f8e55-b649-4284-e7bc-7b9dd5d61f9c"
      },
      "source": [
        "task = ee.batch.Export.image.toDrive(\n",
        "    image=trmm_img,\n",
        "    description='trmm_25km',\n",
        "    folder='spatial-downscaling-trmm',\n",
        "    region=riau_geojson,\n",
        "    fileFormat='GeoTIFF'\n",
        ")\n",
        "\n",
        "task.start()\n",
        "task.status()"
      ],
      "execution_count": 143,
      "outputs": [
        {
          "output_type": "execute_result",
          "data": {
            "text/plain": [
              "{'creation_timestamp_ms': 1619422486774,\n",
              " 'description': 'trmm_25km',\n",
              " 'id': 'UJCDYO2Z42DHGUOFR322SESS',\n",
              " 'name': 'projects/earthengine-legacy/operations/UJCDYO2Z42DHGUOFR322SESS',\n",
              " 'start_timestamp_ms': 0,\n",
              " 'state': 'READY',\n",
              " 'task_type': 'EXPORT_IMAGE',\n",
              " 'update_timestamp_ms': 1619422486774}"
            ]
          },
          "metadata": {
            "tags": []
          },
          "execution_count": 143
        }
      ]
    },
    {
      "cell_type": "markdown",
      "metadata": {
        "id": "flnfph4msixD"
      },
      "source": [
        "## NDVI"
      ]
    },
    {
      "cell_type": "code",
      "metadata": {
        "colab": {
          "base_uri": "https://localhost:8080/"
        },
        "id": "X4seQhCpsgZx",
        "outputId": "c506e07d-0822-4c44-f735-c481053465ac"
      },
      "source": [
        "task = ee.batch.Export.image.toDrive(\n",
        "    image=ndvi_25km,\n",
        "    description='ndvi_25km',\n",
        "    folder='spatial-downscaling-trmm',\n",
        "    region=riau_geojson,\n",
        "    fileFormat='GeoTIFF'\n",
        ")\n",
        "\n",
        "task.start()\n",
        "task.status()"
      ],
      "execution_count": 171,
      "outputs": [
        {
          "output_type": "execute_result",
          "data": {
            "text/plain": [
              "{'creation_timestamp_ms': 1619423224562,\n",
              " 'description': 'ndvi_25km',\n",
              " 'id': '3XN76FCOJPMV2EASTSN6Z2OG',\n",
              " 'name': 'projects/earthengine-legacy/operations/3XN76FCOJPMV2EASTSN6Z2OG',\n",
              " 'start_timestamp_ms': 0,\n",
              " 'state': 'READY',\n",
              " 'task_type': 'EXPORT_IMAGE',\n",
              " 'update_timestamp_ms': 1619423224562}"
            ]
          },
          "metadata": {
            "tags": []
          },
          "execution_count": 171
        }
      ]
    },
    {
      "cell_type": "code",
      "metadata": {
        "colab": {
          "base_uri": "https://localhost:8080/"
        },
        "id": "01uyxxcNvRNo",
        "outputId": "19d55c08-864a-4103-fd15-20b9d8ff2d4f"
      },
      "source": [
        "task = ee.batch.Export.image.toDrive(\n",
        "    image=ndvi_1km,\n",
        "    description='ndvi_1km',\n",
        "    folder='spatial-downscaling-trmm',\n",
        "    region=riau_geojson,\n",
        "    fileFormat='GeoTIFF'\n",
        ")\n",
        "\n",
        "task.start()\n",
        "task.status()"
      ],
      "execution_count": 148,
      "outputs": [
        {
          "output_type": "execute_result",
          "data": {
            "text/plain": [
              "{'creation_timestamp_ms': 1619422577978,\n",
              " 'description': 'ndvi_1km',\n",
              " 'id': 'AB3GJTBGBPNIFK6NGY5Z3HRJ',\n",
              " 'name': 'projects/earthengine-legacy/operations/AB3GJTBGBPNIFK6NGY5Z3HRJ',\n",
              " 'start_timestamp_ms': 0,\n",
              " 'state': 'READY',\n",
              " 'task_type': 'EXPORT_IMAGE',\n",
              " 'update_timestamp_ms': 1619422577978}"
            ]
          },
          "metadata": {
            "tags": []
          },
          "execution_count": 148
        }
      ]
    },
    {
      "cell_type": "markdown",
      "metadata": {
        "id": "O6Y0Fa4OszVS"
      },
      "source": [
        "## DEM"
      ]
    },
    {
      "cell_type": "code",
      "metadata": {
        "colab": {
          "base_uri": "https://localhost:8080/"
        },
        "id": "oeiyZ19fszVS",
        "outputId": "7085b16c-f3e3-45a8-d966-9cc1d220a2d3"
      },
      "source": [
        "task = ee.batch.Export.image.toDrive(\n",
        "    image=slope_25km,\n",
        "    description='dem_25km',\n",
        "    folder='spatial-downscaling-trmm',\n",
        "    region=riau_geojson,\n",
        "    fileFormat='GeoTIFF'\n",
        ")\n",
        "\n",
        "task.start()\n",
        "task.status()"
      ],
      "execution_count": 172,
      "outputs": [
        {
          "output_type": "execute_result",
          "data": {
            "text/plain": [
              "{'creation_timestamp_ms': 1619423230131,\n",
              " 'description': 'dem_25km',\n",
              " 'id': '5NNMVYI3UMJRFDEEXHZXDNX5',\n",
              " 'name': 'projects/earthengine-legacy/operations/5NNMVYI3UMJRFDEEXHZXDNX5',\n",
              " 'start_timestamp_ms': 0,\n",
              " 'state': 'READY',\n",
              " 'task_type': 'EXPORT_IMAGE',\n",
              " 'update_timestamp_ms': 1619423230131}"
            ]
          },
          "metadata": {
            "tags": []
          },
          "execution_count": 172
        }
      ]
    },
    {
      "cell_type": "code",
      "metadata": {
        "colab": {
          "base_uri": "https://localhost:8080/"
        },
        "id": "p_Wo4UvhvqyS",
        "outputId": "f62953a2-6a74-4fdc-ba4b-15254d96901c"
      },
      "source": [
        "task = ee.batch.Export.image.toDrive(\n",
        "    image=slope_1km,\n",
        "    description='dem_1km',\n",
        "    folder='spatial-downscaling-trmm',\n",
        "    region=riau_geojson,\n",
        "    fileFormat='GeoTIFF'\n",
        ")\n",
        "\n",
        "task.start()\n",
        "task.status()"
      ],
      "execution_count": 154,
      "outputs": [
        {
          "output_type": "execute_result",
          "data": {
            "text/plain": [
              "{'creation_timestamp_ms': 1619422690068,\n",
              " 'description': 'dem_1km',\n",
              " 'id': 'NMKDX6LNA7N6WEIWMWZL2422',\n",
              " 'name': 'projects/earthengine-legacy/operations/NMKDX6LNA7N6WEIWMWZL2422',\n",
              " 'start_timestamp_ms': 0,\n",
              " 'state': 'READY',\n",
              " 'task_type': 'EXPORT_IMAGE',\n",
              " 'update_timestamp_ms': 1619422690068}"
            ]
          },
          "metadata": {
            "tags": []
          },
          "execution_count": 154
        }
      ]
    },
    {
      "cell_type": "markdown",
      "metadata": {
        "id": "BlIojXg1szxf"
      },
      "source": [
        "## Land Cover"
      ]
    },
    {
      "cell_type": "code",
      "metadata": {
        "colab": {
          "base_uri": "https://localhost:8080/"
        },
        "id": "V5CO60wCszxf",
        "outputId": "ea15a293-24bc-40fd-e31c-917d005e7b76"
      },
      "source": [
        "task = ee.batch.Export.image.toDrive(\n",
        "    image=lc_25km,\n",
        "    description='lc_25km',\n",
        "    folder='spatial-downscaling-trmm',\n",
        "    region=riau_geojson,\n",
        "    fileFormat='GeoTIFF'\n",
        ")\n",
        "\n",
        "task.start()\n",
        "task.status()"
      ],
      "execution_count": 183,
      "outputs": [
        {
          "output_type": "execute_result",
          "data": {
            "text/plain": [
              "{'creation_timestamp_ms': 1619423402777,\n",
              " 'description': 'lc_25km',\n",
              " 'id': 'A4OCK37TYJGQM57ZJ3EZDS5X',\n",
              " 'name': 'projects/earthengine-legacy/operations/A4OCK37TYJGQM57ZJ3EZDS5X',\n",
              " 'start_timestamp_ms': 0,\n",
              " 'state': 'READY',\n",
              " 'task_type': 'EXPORT_IMAGE',\n",
              " 'update_timestamp_ms': 1619423402777}"
            ]
          },
          "metadata": {
            "tags": []
          },
          "execution_count": 183
        }
      ]
    },
    {
      "cell_type": "code",
      "metadata": {
        "colab": {
          "base_uri": "https://localhost:8080/"
        },
        "id": "vBK5NFT2we39",
        "outputId": "aebe17f8-8d6c-4e27-fe70-16b715310697"
      },
      "source": [
        "task = ee.batch.Export.image.toDrive(\n",
        "    image=lc_1km,\n",
        "    description='lc_1km',\n",
        "    folder='spatial-downscaling-trmm',\n",
        "    region=riau_geojson,\n",
        "    fileFormat='GeoTIFF'\n",
        ")\n",
        "\n",
        "task.start()\n",
        "task.status()"
      ],
      "execution_count": 162,
      "outputs": [
        {
          "output_type": "execute_result",
          "data": {
            "text/plain": [
              "{'creation_timestamp_ms': 1619422857655,\n",
              " 'description': 'lc_1km',\n",
              " 'id': 'APQFJG5MO5ZOCIGUO3V3LFWR',\n",
              " 'name': 'projects/earthengine-legacy/operations/APQFJG5MO5ZOCIGUO3V3LFWR',\n",
              " 'start_timestamp_ms': 0,\n",
              " 'state': 'READY',\n",
              " 'task_type': 'EXPORT_IMAGE',\n",
              " 'update_timestamp_ms': 1619422857655}"
            ]
          },
          "metadata": {
            "tags": []
          },
          "execution_count": 162
        }
      ]
    },
    {
      "cell_type": "markdown",
      "metadata": {
        "id": "hGChGWbeK0Ha"
      },
      "source": [
        "# Build The Machine Learning Model"
      ]
    },
    {
      "cell_type": "code",
      "metadata": {
        "id": "wLT6XOWuQaUK"
      },
      "source": [
        "trmm_25km = gr.from_file('/content/drive/MyDrive/spatial-downscaling-trmm/trmm_25km.tif')\n",
        "ndvi_25km = gr.from_file('/content/drive/MyDrive/spatial-downscaling-trmm/ndvi_25km.tif')\n",
        "dem_25km = gr.from_file('/content/drive/MyDrive/spatial-downscaling-trmm/dem_25km.tif')\n",
        "lc_25km = gr.from_file('/content/drive/MyDrive/spatial-downscaling-trmm/lc_25km.tif')"
      ],
      "execution_count": 223,
      "outputs": []
    },
    {
      "cell_type": "markdown",
      "metadata": {
        "id": "6_E33A0CW7QW"
      },
      "source": [
        "## Visualize the satellite images"
      ]
    },
    {
      "cell_type": "code",
      "metadata": {
        "colab": {
          "base_uri": "https://localhost:8080/",
          "height": 602
        },
        "id": "YXyimMxEPXAU",
        "outputId": "09e224b0-85a0-4db5-8968-8e6aeef002fc"
      },
      "source": [
        "fig, ax = plt.subplots(2, 2, figsize=(10, 10))\n",
        "ax[0, 0].matshow(trmm_25km.raster)\n",
        "ax[0, 0].set_title('TRMM (25 KM)')\n",
        "ax[0, 0].axis('off')\n",
        "ax[0, 1].matshow(ndvi_25km.raster)\n",
        "ax[0, 1].set_title('NDVI (25 KM)')\n",
        "ax[0, 1].axis('off')\n",
        "ax[1, 0].matshow(dem_25km.raster)\n",
        "ax[1, 0].set_title('DEM (25 KM)')\n",
        "ax[1, 0].axis('off')\n",
        "ax[1, 1].matshow(lc_25km.raster)\n",
        "ax[1, 1].set_title('Land Cover (25 KM)')\n",
        "ax[1, 1].axis('off')\n",
        "plt.show()"
      ],
      "execution_count": 224,
      "outputs": [
        {
          "output_type": "display_data",
          "data": {
            "image/png": "[encoded data removed]",
            "text/plain": [
              "<Figure size 720x720 with 4 Axes>"
            ]
          },
          "metadata": {
            "tags": [],
            "needs_background": "light"
          }
        }
      ]
    },
    {
      "cell_type": "markdown",
      "metadata": {
        "id": "ZG7ui0iPXGm0"
      },
      "source": [
        "## Prepare The Dataframe"
      ]
    },
    {
      "cell_type": "code",
      "metadata": {
        "id": "Nh0pLJMaRphd"
      },
      "source": [
        "def prepare_df(data, colnames):\n",
        "  df = data.to_pandas()\n",
        "  df = df.drop(['x', 'y'], axis=1)\n",
        "  df.columns = ['row', 'col', colnames]\n",
        "  df['coordinates'] = df['row'].astype('str') + df['col'].astype('str')\n",
        "  df = df.drop(['row', 'col'], axis=1)\n",
        "  return df"
      ],
      "execution_count": 243,
      "outputs": []
    },
    {
      "cell_type": "code",
      "metadata": {
        "id": "_xhqfp29RmaK"
      },
      "source": [
        "ndvi_df = prepare_df(ndvi_25km, 'ndvi')\n",
        "dem_df = prepare_df(dem_25km, 'dem')\n",
        "lc_df = prepare_df(lc_25km, 'land_cover')\n",
        "trmm_df = prepare_df(trmm_25km, 'precipitation')"
      ],
      "execution_count": 260,
      "outputs": []
    },
    {
      "cell_type": "code",
      "metadata": {
        "colab": {
          "base_uri": "https://localhost:8080/",
          "height": 214
        },
        "id": "pRXa-XGLTtjS",
        "outputId": "51d4609a-744a-4a78-b1f6-9620397a60fd"
      },
      "source": [
        "final_df = trmm_df.merge(lc_df, on='coordinates').merge(ndvi_df, on='coordinates').merge(dem_df, on='coordinates')\n",
        "print(final_df.shape)\n",
        "final_df.head()"
      ],
      "execution_count": 261,
      "outputs": [
        {
          "output_type": "stream",
          "text": [
            "(173, 5)\n"
          ],
          "name": "stdout"
        },
        {
          "output_type": "execute_result",
          "data": {
            "text/html": [
              "<div>\n",
              "<style scoped>\n",
              "    .dataframe tbody tr th:only-of-type {\n",
              "        vertical-align: middle;\n",
              "    }\n",
              "\n",
              "    .dataframe tbody tr th {\n",
              "        vertical-align: top;\n",
              "    }\n",
              "\n",
              "    .dataframe thead th {\n",
              "        text-align: right;\n",
              "    }\n",
              "</style>\n",
              "<table border=\"1\" class=\"dataframe\">\n",
              "  <thead>\n",
              "    <tr style=\"text-align: right;\">\n",
              "      <th></th>\n",
              "      <th>precipitation</th>\n",
              "      <th>coordinates</th>\n",
              "      <th>land_cover</th>\n",
              "      <th>ndvi</th>\n",
              "      <th>dem</th>\n",
              "    </tr>\n",
              "  </thead>\n",
              "  <tbody>\n",
              "    <tr>\n",
              "      <th>0</th>\n",
              "      <td>0.353415</td>\n",
              "      <td>11</td>\n",
              "      <td>17.0</td>\n",
              "      <td>5348.822964</td>\n",
              "      <td>0.006042</td>\n",
              "    </tr>\n",
              "    <tr>\n",
              "      <th>1</th>\n",
              "      <td>0.300940</td>\n",
              "      <td>21</td>\n",
              "      <td>8.0</td>\n",
              "      <td>6153.956522</td>\n",
              "      <td>0.016921</td>\n",
              "    </tr>\n",
              "    <tr>\n",
              "      <th>2</th>\n",
              "      <td>0.289074</td>\n",
              "      <td>31</td>\n",
              "      <td>2.0</td>\n",
              "      <td>6908.739130</td>\n",
              "      <td>0.025218</td>\n",
              "    </tr>\n",
              "    <tr>\n",
              "      <th>3</th>\n",
              "      <td>0.289074</td>\n",
              "      <td>32</td>\n",
              "      <td>17.0</td>\n",
              "      <td>5233.732372</td>\n",
              "      <td>0.002702</td>\n",
              "    </tr>\n",
              "    <tr>\n",
              "      <th>4</th>\n",
              "      <td>0.277604</td>\n",
              "      <td>33</td>\n",
              "      <td>17.0</td>\n",
              "      <td>4966.967133</td>\n",
              "      <td>0.027595</td>\n",
              "    </tr>\n",
              "  </tbody>\n",
              "</table>\n",
              "</div>"
            ],
            "text/plain": [
              "   precipitation coordinates  land_cover         ndvi       dem\n",
              "0       0.353415          11        17.0  5348.822964  0.006042\n",
              "1       0.300940          21         8.0  6153.956522  0.016921\n",
              "2       0.289074          31         2.0  6908.739130  0.025218\n",
              "3       0.289074          32        17.0  5233.732372  0.002702\n",
              "4       0.277604          33        17.0  4966.967133  0.027595"
            ]
          },
          "metadata": {
            "tags": []
          },
          "execution_count": 261
        }
      ]
    },
    {
      "cell_type": "markdown",
      "metadata": {
        "id": "r75b0iKeXKXo"
      },
      "source": [
        "## Data Exploration"
      ]
    },
    {
      "cell_type": "code",
      "metadata": {
        "colab": {
          "base_uri": "https://localhost:8080/"
        },
        "id": "bq0Ei0pAMhaP",
        "outputId": "bd319a04-42a8-4771-a91a-1201a290d6ad"
      },
      "source": [
        "for i in [trmm_25km, ndvi_25km, dem_25km, lc_25km]:\n",
        "  print(i.raster.shape)\n",
        "  df = i.to_pandas()\n",
        "  print(df.shape)\n",
        "  print(df['row'].min(), df['col'].min())\n",
        "  print(df['row'].max(), df['col'].max())\n",
        "  print()"
      ],
      "execution_count": 208,
      "outputs": [
        {
          "output_type": "stream",
          "text": [
            "(18, 18)\n",
            "(190, 5)\n",
            "1 0\n",
            "17 17\n",
            "\n",
            "(18, 18)\n",
            "(183, 5)\n",
            "1 0\n",
            "17 17\n",
            "\n",
            "(18, 18)\n",
            "(174, 5)\n",
            "1 0\n",
            "17 16\n",
            "\n",
            "(18, 18)\n",
            "(190, 5)\n",
            "1 0\n",
            "17 17\n",
            "\n"
          ],
          "name": "stdout"
        }
      ]
    },
    {
      "cell_type": "code",
      "metadata": {
        "colab": {
          "base_uri": "https://localhost:8080/",
          "height": 382
        },
        "id": "q7u5ew03XNwi",
        "outputId": "9e0a69f7-b1b8-4a72-cc20-f5901e58fac2"
      },
      "source": [
        "import seaborn as sns\n",
        "sns.lmplot(data=final_df, x='ndvi', y='precipitation')\n",
        "plt.show()"
      ],
      "execution_count": 277,
      "outputs": [
        {
          "output_type": "display_data",
          "data": {
            "image/png": "[encoded data removed]",
            "text/plain": [
              "<Figure size 360x360 with 1 Axes>"
            ]
          },
          "metadata": {
            "tags": [],
            "needs_background": "light"
          }
        }
      ]
    },
    {
      "cell_type": "code",
      "metadata": {
        "colab": {
          "base_uri": "https://localhost:8080/",
          "height": 382
        },
        "id": "S_r74SrmX--b",
        "outputId": "f00c99cd-3116-4926-ddc3-543510e28f6d"
      },
      "source": [
        "sns.lmplot(data=final_df, x='dem', y='precipitation')\n",
        "plt.show()"
      ],
      "execution_count": 278,
      "outputs": [
        {
          "output_type": "display_data",
          "data": {
            "image/png": "[encoded data removed]",
            "text/plain": [
              "<Figure size 360x360 with 1 Axes>"
            ]
          },
          "metadata": {
            "tags": [],
            "needs_background": "light"
          }
        }
      ]
    },
    {
      "cell_type": "code",
      "metadata": {
        "colab": {
          "base_uri": "https://localhost:8080/",
          "height": 280
        },
        "id": "5gOQtewTYFK4",
        "outputId": "50e1a314-a169-4bd9-c9ee-68d5881c8809"
      },
      "source": [
        "sns.boxplot(data=final_df, x='land_cover', y='precipitation')\n",
        "plt.show()"
      ],
      "execution_count": 280,
      "outputs": [
        {
          "output_type": "display_data",
          "data": {
            "image/png": "[encoded data removed]",
            "text/plain": [
              "<Figure size 432x288 with 1 Axes>"
            ]
          },
          "metadata": {
            "tags": [],
            "needs_background": "light"
          }
        }
      ]
    },
    {
      "cell_type": "markdown",
      "metadata": {
        "id": "JxWhgAaFZA61"
      },
      "source": [
        "## Preprocessing for modelling"
      ]
    },
    {
      "cell_type": "code",
      "metadata": {
        "id": "vhP6CrWMZC-V"
      },
      "source": [
        "from sklearn.preprocessing import StandardScaler\n",
        "\n",
        "X = final_df[['ndvi', 'dem', 'land_cover']].values\n",
        "y = final_df[['precipitation']].values\n"
      ],
      "execution_count": null,
      "outputs": []
    },
    {
      "cell_type": "markdown",
      "metadata": {
        "id": "V9pIRdJiLZ-q"
      },
      "source": [
        "# Downscale the Image"
      ]
    },
    {
      "cell_type": "code",
      "metadata": {
        "id": "FMaheCkmvVcY"
      },
      "source": [
        "ndvi_1km = gr.from_file('/content/drive/MyDrive/spatial-downscaling-trmm/ndvi_1km.tif')\n",
        "dem_1km = gr.from_file('/content/drive/MyDrive/spatial-downscaling-trmm/dem_1km.tif')\n",
        "lc_1km = gr.from_file('/content/drive/MyDrive/spatial-downscaling-trmm/lc_1km.tif')"
      ],
      "execution_count": 266,
      "outputs": []
    },
    {
      "cell_type": "code",
      "metadata": {
        "colab": {
          "base_uri": "https://localhost:8080/",
          "height": 602
        },
        "id": "WOvY_YXJWX8k",
        "outputId": "7eaf7420-eb55-4872-8913-e62537547019"
      },
      "source": [
        "fig, ax = plt.subplots(2, 2, figsize=(10, 10))\n",
        "# ax[0, 0].matshow(trmm_1km.raster)\n",
        "ax[0, 0].set_title('TRMM (1 KM)?')\n",
        "ax[0, 0].axis('off')\n",
        "ax[0, 1].matshow(ndvi_1km.raster)\n",
        "ax[0, 1].set_title('NDVI (1 KM)')\n",
        "ax[0, 1].axis('off')\n",
        "ax[1, 0].matshow(dem_1km.raster)\n",
        "ax[1, 0].set_title('DEM (1 KM)')\n",
        "ax[1, 0].axis('off')\n",
        "ax[1, 1].matshow(lc_1km.raster)\n",
        "ax[1, 1].set_title('Land Cover (1 KM)')\n",
        "ax[1, 1].axis('off')\n",
        "plt.show()"
      ],
      "execution_count": 268,
      "outputs": [
        {
          "output_type": "display_data",
          "data": {
            "image/png": "[encoded data removed]",
            "text/plain": [
              "<Figure size 720x720 with 4 Axes>"
            ]
          },
          "metadata": {
            "tags": [],
            "needs_background": "light"
          }
        }
      ]
    },
    {
      "cell_type": "markdown",
      "metadata": {
        "id": "xvEKvMWJ8_8e"
      },
      "source": [
        "# Playground"
      ]
    },
    {
      "cell_type": "code",
      "metadata": {
        "colab": {
          "base_uri": "https://localhost:8080/",
          "height": 406
        },
        "id": "UpHjxv_3PF8Y",
        "outputId": "f5f1782d-31b7-4d08-8758-95b4fe20cd4e"
      },
      "source": [
        "ts = pd.DataFrame(trmm.getRegion(poi, 1000).getInfo(), columns =['id', 'longitude',\t'latitude',\t'time',\t'precipitation']).drop(0)\n",
        "ts['new_time'] = pd.to_datetime(ts['time'], unit='ms')\n",
        "ts"
      ],
      "execution_count": null,
      "outputs": [
        {
          "output_type": "execute_result",
          "data": {
            "text/html": [
              "<div>\n",
              "<style scoped>\n",
              "    .dataframe tbody tr th:only-of-type {\n",
              "        vertical-align: middle;\n",
              "    }\n",
              "\n",
              "    .dataframe tbody tr th {\n",
              "        vertical-align: top;\n",
              "    }\n",
              "\n",
              "    .dataframe thead th {\n",
              "        text-align: right;\n",
              "    }\n",
              "</style>\n",
              "<table border=\"1\" class=\"dataframe\">\n",
              "  <thead>\n",
              "    <tr style=\"text-align: right;\">\n",
              "      <th></th>\n",
              "      <th>id</th>\n",
              "      <th>longitude</th>\n",
              "      <th>latitude</th>\n",
              "      <th>time</th>\n",
              "      <th>precipitation</th>\n",
              "      <th>new_time</th>\n",
              "    </tr>\n",
              "  </thead>\n",
              "  <tbody>\n",
              "    <tr>\n",
              "      <th>1</th>\n",
              "      <td>3B43_20180101_7</td>\n",
              "      <td>101.442</td>\n",
              "      <td>0.507548</td>\n",
              "      <td>1514764800000</td>\n",
              "      <td>0.140614</td>\n",
              "      <td>2018-01-01</td>\n",
              "    </tr>\n",
              "    <tr>\n",
              "      <th>2</th>\n",
              "      <td>3B43_20180201_7</td>\n",
              "      <td>101.442</td>\n",
              "      <td>0.507548</td>\n",
              "      <td>1517443200000</td>\n",
              "      <td>0.237015</td>\n",
              "      <td>2018-02-01</td>\n",
              "    </tr>\n",
              "    <tr>\n",
              "      <th>3</th>\n",
              "      <td>3B43_20180301_7</td>\n",
              "      <td>101.442</td>\n",
              "      <td>0.507548</td>\n",
              "      <td>1519862400000</td>\n",
              "      <td>0.452564</td>\n",
              "      <td>2018-03-01</td>\n",
              "    </tr>\n",
              "    <tr>\n",
              "      <th>4</th>\n",
              "      <td>3B43_20180401_7</td>\n",
              "      <td>101.442</td>\n",
              "      <td>0.507548</td>\n",
              "      <td>1522540800000</td>\n",
              "      <td>0.260523</td>\n",
              "      <td>2018-04-01</td>\n",
              "    </tr>\n",
              "    <tr>\n",
              "      <th>5</th>\n",
              "      <td>3B43_20180501_7</td>\n",
              "      <td>101.442</td>\n",
              "      <td>0.507548</td>\n",
              "      <td>1525132800000</td>\n",
              "      <td>0.275634</td>\n",
              "      <td>2018-05-01</td>\n",
              "    </tr>\n",
              "    <tr>\n",
              "      <th>6</th>\n",
              "      <td>3B43_20180601_7</td>\n",
              "      <td>101.442</td>\n",
              "      <td>0.507548</td>\n",
              "      <td>1527811200000</td>\n",
              "      <td>0.330823</td>\n",
              "      <td>2018-06-01</td>\n",
              "    </tr>\n",
              "    <tr>\n",
              "      <th>7</th>\n",
              "      <td>3B43_20180701_7</td>\n",
              "      <td>101.442</td>\n",
              "      <td>0.507548</td>\n",
              "      <td>1530403200000</td>\n",
              "      <td>0.185985</td>\n",
              "      <td>2018-07-01</td>\n",
              "    </tr>\n",
              "    <tr>\n",
              "      <th>8</th>\n",
              "      <td>3B43_20180801_7</td>\n",
              "      <td>101.442</td>\n",
              "      <td>0.507548</td>\n",
              "      <td>1533081600000</td>\n",
              "      <td>0.167527</td>\n",
              "      <td>2018-08-01</td>\n",
              "    </tr>\n",
              "    <tr>\n",
              "      <th>9</th>\n",
              "      <td>3B43_20180901_7</td>\n",
              "      <td>101.442</td>\n",
              "      <td>0.507548</td>\n",
              "      <td>1535760000000</td>\n",
              "      <td>0.158032</td>\n",
              "      <td>2018-09-01</td>\n",
              "    </tr>\n",
              "    <tr>\n",
              "      <th>10</th>\n",
              "      <td>3B43_20181001_7</td>\n",
              "      <td>101.442</td>\n",
              "      <td>0.507548</td>\n",
              "      <td>1538352000000</td>\n",
              "      <td>0.519063</td>\n",
              "      <td>2018-10-01</td>\n",
              "    </tr>\n",
              "    <tr>\n",
              "      <th>11</th>\n",
              "      <td>3B43_20181101_7</td>\n",
              "      <td>101.442</td>\n",
              "      <td>0.507548</td>\n",
              "      <td>1541030400000</td>\n",
              "      <td>0.465178</td>\n",
              "      <td>2018-11-01</td>\n",
              "    </tr>\n",
              "    <tr>\n",
              "      <th>12</th>\n",
              "      <td>3B43_20181201_7</td>\n",
              "      <td>101.442</td>\n",
              "      <td>0.507548</td>\n",
              "      <td>1543622400000</td>\n",
              "      <td>0.550292</td>\n",
              "      <td>2018-12-01</td>\n",
              "    </tr>\n",
              "  </tbody>\n",
              "</table>\n",
              "</div>"
            ],
            "text/plain": [
              "                 id longitude  latitude           time precipitation   new_time\n",
              "1   3B43_20180101_7   101.442  0.507548  1514764800000      0.140614 2018-01-01\n",
              "2   3B43_20180201_7   101.442  0.507548  1517443200000      0.237015 2018-02-01\n",
              "3   3B43_20180301_7   101.442  0.507548  1519862400000      0.452564 2018-03-01\n",
              "4   3B43_20180401_7   101.442  0.507548  1522540800000      0.260523 2018-04-01\n",
              "5   3B43_20180501_7   101.442  0.507548  1525132800000      0.275634 2018-05-01\n",
              "6   3B43_20180601_7   101.442  0.507548  1527811200000      0.330823 2018-06-01\n",
              "7   3B43_20180701_7   101.442  0.507548  1530403200000      0.185985 2018-07-01\n",
              "8   3B43_20180801_7   101.442  0.507548  1533081600000      0.167527 2018-08-01\n",
              "9   3B43_20180901_7   101.442  0.507548  1535760000000      0.158032 2018-09-01\n",
              "10  3B43_20181001_7   101.442  0.507548  1538352000000      0.519063 2018-10-01\n",
              "11  3B43_20181101_7   101.442  0.507548  1541030400000      0.465178 2018-11-01\n",
              "12  3B43_20181201_7   101.442  0.507548  1543622400000      0.550292 2018-12-01"
            ]
          },
          "metadata": {
            "tags": []
          },
          "execution_count": 15
        }
      ]
    }
  ]
}