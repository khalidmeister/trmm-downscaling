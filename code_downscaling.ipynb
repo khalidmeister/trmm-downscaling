{
  "nbformat": 4,
  "nbformat_minor": 0,
  "metadata": {
    "colab": {
      "name": "code-downscaling.ipynb",
      "provenance": [],
      "collapsed_sections": [
        "lfF17zdwXX5f",
        "kKuAskjLEI3J",
        "ItRU1J08rXZO",
        "r75b0iKeXKXo",
        "PWQXsANV7bUS"
      ],
      "include_colab_link": true
    },
    "kernelspec": {
      "name": "python3",
      "display_name": "Python 3"
    },
    "language_info": {
      "name": "python"
    }
  },
  "cells": [
    {
      "cell_type": "markdown",
      "metadata": {
        "id": "view-in-github",
        "colab_type": "text"
      },
      "source": [
        "<a href=\"https://colab.research.google.com/github/khalidmeister/trmm-downscaling/blob/main/code_downscaling.ipynb\" target=\"_parent\"><img src=\"https://colab.research.google.com/assets/colab-badge.svg\" alt=\"Open In Colab\"/></a>"
      ]
    },
    {
      "cell_type": "markdown",
      "metadata": {
        "id": "Kwoe0m3OtsZW"
      },
      "source": [
        "# Libraries"
      ]
    },
    {
      "cell_type": "code",
      "metadata": {
        "id": "VWpI5rj5Ol3Y",
        "colab": {
          "base_uri": "https://localhost:8080/"
        },
        "outputId": "ab451a53-0323-4a26-8b12-e95c06e0021c"
      },
      "source": [
        "! pip install geopandas\n",
        "! pip install geojson\n",
        "! pip install fiona\n",
        "! pip install georasters\n",
        "\n",
        "import fiona\n",
        "import geojson\n",
        "import folium\n",
        "import ee\n",
        "import numpy as np\n",
        "import geopandas as gpd\n",
        "import georasters as gr\n",
        "import matplotlib.pyplot as plt\n",
        "import pandas as pd\n",
        "from IPython.display import Image\n",
        "\n",
        "ee.Authenticate()\n",
        "ee.Initialize()"
      ],
      "execution_count": null,
      "outputs": [
        {
          "output_type": "stream",
          "name": "stdout",
          "text": [
            "Requirement already satisfied: geopandas in /usr/local/lib/python3.7/dist-packages (0.10.2)\n",
            "Requirement already satisfied: fiona>=1.8 in /usr/local/lib/python3.7/dist-packages (from geopandas) (1.8.20)\n",
            "Requirement already satisfied: shapely>=1.6 in /usr/local/lib/python3.7/dist-packages (from geopandas) (1.8.0)\n",
            "Requirement already satisfied: pandas>=0.25.0 in /usr/local/lib/python3.7/dist-packages (from geopandas) (1.1.5)\n",
            "Requirement already satisfied: pyproj>=2.2.0 in /usr/local/lib/python3.7/dist-packages (from geopandas) (3.2.1)\n",
            "Requirement already satisfied: six>=1.7 in /usr/local/lib/python3.7/dist-packages (from fiona>=1.8->geopandas) (1.15.0)\n",
            "Requirement already satisfied: munch in /usr/local/lib/python3.7/dist-packages (from fiona>=1.8->geopandas) (2.5.0)\n",
            "Requirement already satisfied: setuptools in /usr/local/lib/python3.7/dist-packages (from fiona>=1.8->geopandas) (57.4.0)\n",
            "Requirement already satisfied: click-plugins>=1.0 in /usr/local/lib/python3.7/dist-packages (from fiona>=1.8->geopandas) (1.1.1)\n",
            "Requirement already satisfied: certifi in /usr/local/lib/python3.7/dist-packages (from fiona>=1.8->geopandas) (2021.10.8)\n",
            "Requirement already satisfied: attrs>=17 in /usr/local/lib/python3.7/dist-packages (from fiona>=1.8->geopandas) (21.4.0)\n",
            "Requirement already satisfied: cligj>=0.5 in /usr/local/lib/python3.7/dist-packages (from fiona>=1.8->geopandas) (0.7.2)\n",
            "Requirement already satisfied: click>=4.0 in /usr/local/lib/python3.7/dist-packages (from fiona>=1.8->geopandas) (7.1.2)\n",
            "Requirement already satisfied: pytz>=2017.2 in /usr/local/lib/python3.7/dist-packages (from pandas>=0.25.0->geopandas) (2018.9)\n",
            "Requirement already satisfied: numpy>=1.15.4 in /usr/local/lib/python3.7/dist-packages (from pandas>=0.25.0->geopandas) (1.19.5)\n",
            "Requirement already satisfied: python-dateutil>=2.7.3 in /usr/local/lib/python3.7/dist-packages (from pandas>=0.25.0->geopandas) (2.8.0)\n",
            "Requirement already satisfied: geojson in /usr/local/lib/python3.7/dist-packages (2.5.0)\n",
            "Requirement already satisfied: fiona in /usr/local/lib/python3.7/dist-packages (1.8.20)\n",
            "Requirement already satisfied: six>=1.7 in /usr/local/lib/python3.7/dist-packages (from fiona) (1.15.0)\n",
            "Requirement already satisfied: cligj>=0.5 in /usr/local/lib/python3.7/dist-packages (from fiona) (0.7.2)\n",
            "Requirement already satisfied: munch in /usr/local/lib/python3.7/dist-packages (from fiona) (2.5.0)\n",
            "Requirement already satisfied: attrs>=17 in /usr/local/lib/python3.7/dist-packages (from fiona) (21.4.0)\n",
            "Requirement already satisfied: certifi in /usr/local/lib/python3.7/dist-packages (from fiona) (2021.10.8)\n",
            "Requirement already satisfied: click-plugins>=1.0 in /usr/local/lib/python3.7/dist-packages (from fiona) (1.1.1)\n",
            "Requirement already satisfied: setuptools in /usr/local/lib/python3.7/dist-packages (from fiona) (57.4.0)\n",
            "Requirement already satisfied: click>=4.0 in /usr/local/lib/python3.7/dist-packages (from fiona) (7.1.2)\n",
            "Requirement already satisfied: georasters in /usr/local/lib/python3.7/dist-packages (0.5.23)\n",
            "Requirement already satisfied: scikit-image in /usr/local/lib/python3.7/dist-packages (from georasters) (0.18.3)\n",
            "Requirement already satisfied: coverage in /usr/local/lib/python3.7/dist-packages (from georasters) (6.2)\n",
            "Requirement already satisfied: numpy in /usr/local/lib/python3.7/dist-packages (from georasters) (1.19.5)\n",
            "Requirement already satisfied: geopandas in /usr/local/lib/python3.7/dist-packages (from georasters) (0.10.2)\n",
            "Requirement already satisfied: pysal in /usr/local/lib/python3.7/dist-packages (from georasters) (2.5.0)\n",
            "Requirement already satisfied: affine in /usr/local/lib/python3.7/dist-packages (from georasters) (2.3.0)\n",
            "Requirement already satisfied: GDAL in /usr/local/lib/python3.7/dist-packages (from georasters) (2.2.2)\n",
            "Requirement already satisfied: pyproj in /usr/local/lib/python3.7/dist-packages (from georasters) (3.2.1)\n",
            "Requirement already satisfied: docopt in /usr/local/lib/python3.7/dist-packages (from georasters) (0.6.2)\n",
            "Requirement already satisfied: fiona in /usr/local/lib/python3.7/dist-packages (from georasters) (1.8.20)\n",
            "Requirement already satisfied: rasterstats in /usr/local/lib/python3.7/dist-packages (from georasters) (0.16.0)\n",
            "Requirement already satisfied: matplotlib in /usr/local/lib/python3.7/dist-packages (from georasters) (3.2.2)\n",
            "Requirement already satisfied: pandas in /usr/local/lib/python3.7/dist-packages (from georasters) (1.1.5)\n",
            "Requirement already satisfied: setuptools in /usr/local/lib/python3.7/dist-packages (from fiona->georasters) (57.4.0)\n",
            "Requirement already satisfied: six>=1.7 in /usr/local/lib/python3.7/dist-packages (from fiona->georasters) (1.15.0)\n",
            "Requirement already satisfied: cligj>=0.5 in /usr/local/lib/python3.7/dist-packages (from fiona->georasters) (0.7.2)\n",
            "Requirement already satisfied: munch in /usr/local/lib/python3.7/dist-packages (from fiona->georasters) (2.5.0)\n",
            "Requirement already satisfied: click>=4.0 in /usr/local/lib/python3.7/dist-packages (from fiona->georasters) (7.1.2)\n",
            "Requirement already satisfied: click-plugins>=1.0 in /usr/local/lib/python3.7/dist-packages (from fiona->georasters) (1.1.1)\n",
            "Requirement already satisfied: attrs>=17 in /usr/local/lib/python3.7/dist-packages (from fiona->georasters) (21.4.0)\n",
            "Requirement already satisfied: certifi in /usr/local/lib/python3.7/dist-packages (from fiona->georasters) (2021.10.8)\n",
            "Requirement already satisfied: shapely>=1.6 in /usr/local/lib/python3.7/dist-packages (from geopandas->georasters) (1.8.0)\n",
            "Requirement already satisfied: pytz>=2017.2 in /usr/local/lib/python3.7/dist-packages (from pandas->georasters) (2018.9)\n",
            "Requirement already satisfied: python-dateutil>=2.7.3 in /usr/local/lib/python3.7/dist-packages (from pandas->georasters) (2.8.0)\n",
            "Requirement already satisfied: kiwisolver>=1.0.1 in /usr/local/lib/python3.7/dist-packages (from matplotlib->georasters) (1.3.2)\n",
            "Requirement already satisfied: cycler>=0.10 in /usr/local/lib/python3.7/dist-packages (from matplotlib->georasters) (0.11.0)\n",
            "Requirement already satisfied: pyparsing!=2.0.4,!=2.1.2,!=2.1.6,>=2.0.1 in /usr/local/lib/python3.7/dist-packages (from matplotlib->georasters) (3.0.6)\n",
            "Requirement already satisfied: pytest in /usr/local/lib/python3.7/dist-packages (from pysal->georasters) (3.6.4)\n",
            "Requirement already satisfied: inequality>=1.0.0 in /usr/local/lib/python3.7/dist-packages (from pysal->georasters) (1.0.0)\n",
            "Requirement already satisfied: spvcm>=0.3.0 in /usr/local/lib/python3.7/dist-packages (from pysal->georasters) (0.3.0)\n",
            "Requirement already satisfied: spint>=1.0.7 in /usr/local/lib/python3.7/dist-packages (from pysal->georasters) (1.0.7)\n",
            "Requirement already satisfied: esda>=2.4.1 in /usr/local/lib/python3.7/dist-packages (from pysal->georasters) (2.4.1)\n",
            "Requirement already satisfied: spreg>=1.2.4 in /usr/local/lib/python3.7/dist-packages (from pysal->georasters) (1.2.4)\n",
            "Requirement already satisfied: pointpats>=2.2.0 in /usr/local/lib/python3.7/dist-packages (from pysal->georasters) (2.2.0)\n",
            "Requirement already satisfied: libpysal>=4.5.1 in /usr/local/lib/python3.7/dist-packages (from pysal->georasters) (4.5.1)\n",
            "Requirement already satisfied: spaghetti>=1.6.2 in /usr/local/lib/python3.7/dist-packages (from pysal->georasters) (1.6.5)\n",
            "Requirement already satisfied: mapclassify>=2.4.3 in /usr/local/lib/python3.7/dist-packages (from pysal->georasters) (2.4.3)\n",
            "Requirement already satisfied: giddy>=2.3.3 in /usr/local/lib/python3.7/dist-packages (from pysal->georasters) (2.3.3)\n",
            "Requirement already satisfied: spopt>=0.1.2 in /usr/local/lib/python3.7/dist-packages (from pysal->georasters) (0.2.1)\n",
            "Requirement already satisfied: urllib3>=1.26 in /usr/local/lib/python3.7/dist-packages (from pysal->georasters) (1.26.8)\n",
            "Requirement already satisfied: mgwr>=2.1.2 in /usr/local/lib/python3.7/dist-packages (from pysal->georasters) (2.1.2)\n",
            "Requirement already satisfied: splot>=1.1.4 in /usr/local/lib/python3.7/dist-packages (from pysal->georasters) (1.1.4)\n",
            "Requirement already satisfied: tobler>=0.8.2 in /usr/local/lib/python3.7/dist-packages (from pysal->georasters) (0.8.2)\n",
            "Requirement already satisfied: spglm>=1.0.8 in /usr/local/lib/python3.7/dist-packages (from pysal->georasters) (1.0.8)\n",
            "Requirement already satisfied: access>=1.1.3 in /usr/local/lib/python3.7/dist-packages (from pysal->georasters) (1.1.3)\n",
            "Requirement already satisfied: segregation>=2.0.0 in /usr/local/lib/python3.7/dist-packages (from pysal->georasters) (2.1.0)\n",
            "Requirement already satisfied: pytest-cov in /usr/local/lib/python3.7/dist-packages (from pysal->georasters) (2.9.0)\n",
            "Requirement already satisfied: scikit-learn in /usr/local/lib/python3.7/dist-packages (from esda>=2.4.1->pysal->georasters) (1.0.2)\n",
            "Requirement already satisfied: scipy>=0.11 in /usr/local/lib/python3.7/dist-packages (from esda>=2.4.1->pysal->georasters) (1.4.1)\n",
            "Requirement already satisfied: quantecon>=0.4.7 in /usr/local/lib/python3.7/dist-packages (from giddy>=2.3.3->pysal->georasters) (0.5.2)\n",
            "Requirement already satisfied: jinja2 in /usr/local/lib/python3.7/dist-packages (from libpysal>=4.5.1->pysal->georasters) (2.11.3)\n",
            "Requirement already satisfied: beautifulsoup4 in /usr/local/lib/python3.7/dist-packages (from libpysal>=4.5.1->pysal->georasters) (4.6.3)\n",
            "Requirement already satisfied: requests in /usr/local/lib/python3.7/dist-packages (from libpysal>=4.5.1->pysal->georasters) (2.27.1)\n",
            "Requirement already satisfied: networkx in /usr/local/lib/python3.7/dist-packages (from mapclassify>=2.4.3->pysal->georasters) (2.6.3)\n",
            "Requirement already satisfied: opencv-contrib-python>=4.2.0 in /usr/local/lib/python3.7/dist-packages (from pointpats>=2.2.0->pysal->georasters) (4.5.5.62)\n",
            "Requirement already satisfied: numba>=0.38 in /usr/local/lib/python3.7/dist-packages (from quantecon>=0.4.7->giddy>=2.3.3->pysal->georasters) (0.51.2)\n",
            "Requirement already satisfied: sympy in /usr/local/lib/python3.7/dist-packages (from quantecon>=0.4.7->giddy>=2.3.3->pysal->georasters) (1.7.1)\n",
            "Requirement already satisfied: llvmlite<0.35,>=0.34.0.dev0 in /usr/local/lib/python3.7/dist-packages (from numba>=0.38->quantecon>=0.4.7->giddy>=2.3.3->pysal->georasters) (0.34.0)\n",
            "Requirement already satisfied: joblib in /usr/local/lib/python3.7/dist-packages (from segregation>=2.0.0->pysal->georasters) (1.1.0)\n",
            "Requirement already satisfied: pip in /usr/local/lib/python3.7/dist-packages (from segregation>=2.0.0->pysal->georasters) (21.1.3)\n",
            "Requirement already satisfied: seaborn in /usr/local/lib/python3.7/dist-packages (from segregation>=2.0.0->pysal->georasters) (0.11.2)\n",
            "Requirement already satisfied: rvlib>=0.0.5 in /usr/local/lib/python3.7/dist-packages (from segregation>=2.0.0->pysal->georasters) (0.0.6)\n",
            "Requirement already satisfied: pygeos in /usr/local/lib/python3.7/dist-packages (from segregation>=2.0.0->pysal->georasters) (0.12.0)\n",
            "Requirement already satisfied: tqdm in /usr/local/lib/python3.7/dist-packages (from segregation>=2.0.0->pysal->georasters) (4.62.3)\n",
            "Requirement already satisfied: quilt3 in /usr/local/lib/python3.7/dist-packages (from segregation>=2.0.0->pysal->georasters) (3.6.0)\n",
            "Requirement already satisfied: deprecation in /usr/local/lib/python3.7/dist-packages (from segregation>=2.0.0->pysal->georasters) (2.1.0)\n",
            "Requirement already satisfied: cffi>=1.0.0 in /usr/local/lib/python3.7/dist-packages (from rvlib>=0.0.5->segregation>=2.0.0->pysal->georasters) (1.15.0)\n",
            "Requirement already satisfied: PyYAML in /usr/local/lib/python3.7/dist-packages (from rvlib>=0.0.5->segregation>=2.0.0->pysal->georasters) (6.0)\n",
            "Requirement already satisfied: pycparser in /usr/local/lib/python3.7/dist-packages (from cffi>=1.0.0->rvlib>=0.0.5->segregation>=2.0.0->pysal->georasters) (2.21)\n",
            "Requirement already satisfied: threadpoolctl>=2.0.0 in /usr/local/lib/python3.7/dist-packages (from scikit-learn->esda>=2.4.1->pysal->georasters) (3.0.0)\n",
            "Requirement already satisfied: rtree in /usr/local/lib/python3.7/dist-packages (from spaghetti>=1.6.2->pysal->georasters) (0.9.7)\n",
            "Requirement already satisfied: descartes in /usr/local/lib/python3.7/dist-packages (from splot>=1.1.4->pysal->georasters) (1.1.0)\n",
            "Requirement already satisfied: pulp in /usr/local/lib/python3.7/dist-packages (from spopt>=0.1.2->pysal->georasters) (2.6.0)\n",
            "Requirement already satisfied: rasterio in /usr/local/lib/python3.7/dist-packages (from tobler>=0.8.2->pysal->georasters) (1.2.10)\n",
            "Requirement already satisfied: statsmodels in /usr/local/lib/python3.7/dist-packages (from tobler>=0.8.2->pysal->georasters) (0.10.2)\n",
            "Requirement already satisfied: packaging in /usr/local/lib/python3.7/dist-packages (from deprecation->segregation>=2.0.0->pysal->georasters) (21.3)\n",
            "Requirement already satisfied: MarkupSafe>=0.23 in /usr/local/lib/python3.7/dist-packages (from jinja2->libpysal>=4.5.1->pysal->georasters) (2.0.1)\n",
            "Requirement already satisfied: more-itertools>=4.0.0 in /usr/local/lib/python3.7/dist-packages (from pytest->pysal->georasters) (8.12.0)\n",
            "Requirement already satisfied: atomicwrites>=1.0 in /usr/local/lib/python3.7/dist-packages (from pytest->pysal->georasters) (1.4.0)\n",
            "Requirement already satisfied: py>=1.5.0 in /usr/local/lib/python3.7/dist-packages (from pytest->pysal->georasters) (1.11.0)\n",
            "Requirement already satisfied: pluggy<0.8,>=0.5 in /usr/local/lib/python3.7/dist-packages (from pytest->pysal->georasters) (0.7.1)\n",
            "Requirement already satisfied: flask-json in /usr/local/lib/python3.7/dist-packages (from quilt3->segregation>=2.0.0->pysal->georasters) (0.3.4)\n",
            "Requirement already satisfied: requests-futures==1.0.0 in /usr/local/lib/python3.7/dist-packages (from quilt3->segregation>=2.0.0->pysal->georasters) (1.0.0)\n",
            "Requirement already satisfied: dnspython>=1.16.0 in /usr/local/lib/python3.7/dist-packages (from quilt3->segregation>=2.0.0->pysal->georasters) (2.1.0)\n",
            "Requirement already satisfied: flask in /usr/local/lib/python3.7/dist-packages (from quilt3->segregation>=2.0.0->pysal->georasters) (1.1.4)\n",
            "Requirement already satisfied: boto3>=1.10.0 in /usr/local/lib/python3.7/dist-packages (from quilt3->segregation>=2.0.0->pysal->georasters) (1.20.37)\n",
            "Requirement already satisfied: jsonlines==1.2.0 in /usr/local/lib/python3.7/dist-packages (from quilt3->segregation>=2.0.0->pysal->georasters) (1.2.0)\n",
            "Requirement already satisfied: flask-cors in /usr/local/lib/python3.7/dist-packages (from quilt3->segregation>=2.0.0->pysal->georasters) (3.0.10)\n",
            "Requirement already satisfied: aws-requests-auth>=0.4.2 in /usr/local/lib/python3.7/dist-packages (from quilt3->segregation>=2.0.0->pysal->georasters) (0.4.3)\n",
            "Requirement already satisfied: appdirs>=1.4.0 in /usr/local/lib/python3.7/dist-packages (from quilt3->segregation>=2.0.0->pysal->georasters) (1.4.4)\n",
            "Requirement already satisfied: jsonschema==3.* in /usr/local/lib/python3.7/dist-packages (from quilt3->segregation>=2.0.0->pysal->georasters) (3.2.0)\n",
            "Requirement already satisfied: tenacity>=5.1.1 in /usr/local/lib/python3.7/dist-packages (from quilt3->segregation>=2.0.0->pysal->georasters) (8.0.1)\n",
            "Requirement already satisfied: importlib-metadata in /usr/local/lib/python3.7/dist-packages (from jsonschema==3.*->quilt3->segregation>=2.0.0->pysal->georasters) (4.10.0)\n",
            "Requirement already satisfied: pyrsistent>=0.14.0 in /usr/local/lib/python3.7/dist-packages (from jsonschema==3.*->quilt3->segregation>=2.0.0->pysal->georasters) (0.18.0)\n",
            "Requirement already satisfied: jmespath<1.0.0,>=0.7.1 in /usr/local/lib/python3.7/dist-packages (from boto3>=1.10.0->quilt3->segregation>=2.0.0->pysal->georasters) (0.10.0)\n",
            "Requirement already satisfied: botocore<1.24.0,>=1.23.37 in /usr/local/lib/python3.7/dist-packages (from boto3>=1.10.0->quilt3->segregation>=2.0.0->pysal->georasters) (1.23.37)\n",
            "Requirement already satisfied: s3transfer<0.6.0,>=0.5.0 in /usr/local/lib/python3.7/dist-packages (from boto3>=1.10.0->quilt3->segregation>=2.0.0->pysal->georasters) (0.5.0)\n",
            "Requirement already satisfied: charset-normalizer~=2.0.0 in /usr/local/lib/python3.7/dist-packages (from requests->libpysal>=4.5.1->pysal->georasters) (2.0.10)\n",
            "Requirement already satisfied: idna<4,>=2.5 in /usr/local/lib/python3.7/dist-packages (from requests->libpysal>=4.5.1->pysal->georasters) (2.10)\n",
            "Requirement already satisfied: Werkzeug<2.0,>=0.15 in /usr/local/lib/python3.7/dist-packages (from flask->quilt3->segregation>=2.0.0->pysal->georasters) (1.0.1)\n",
            "Requirement already satisfied: itsdangerous<2.0,>=0.24 in /usr/local/lib/python3.7/dist-packages (from flask->quilt3->segregation>=2.0.0->pysal->georasters) (1.1.0)\n",
            "Requirement already satisfied: typing-extensions>=3.6.4 in /usr/local/lib/python3.7/dist-packages (from importlib-metadata->jsonschema==3.*->quilt3->segregation>=2.0.0->pysal->georasters) (3.10.0.2)\n",
            "Requirement already satisfied: zipp>=0.5 in /usr/local/lib/python3.7/dist-packages (from importlib-metadata->jsonschema==3.*->quilt3->segregation>=2.0.0->pysal->georasters) (3.7.0)\n",
            "Requirement already satisfied: snuggs>=1.4.1 in /usr/local/lib/python3.7/dist-packages (from rasterio->tobler>=0.8.2->pysal->georasters) (1.4.7)\n",
            "Requirement already satisfied: simplejson in /usr/local/lib/python3.7/dist-packages (from rasterstats->georasters) (3.17.6)\n",
            "Requirement already satisfied: imageio>=2.3.0 in /usr/local/lib/python3.7/dist-packages (from scikit-image->georasters) (2.4.1)\n",
            "Requirement already satisfied: PyWavelets>=1.1.1 in /usr/local/lib/python3.7/dist-packages (from scikit-image->georasters) (1.2.0)\n",
            "Requirement already satisfied: tifffile>=2019.7.26 in /usr/local/lib/python3.7/dist-packages (from scikit-image->georasters) (2021.11.2)\n",
            "Requirement already satisfied: pillow!=7.1.0,!=7.1.1,>=4.3.0 in /usr/local/lib/python3.7/dist-packages (from scikit-image->georasters) (7.1.2)\n",
            "Requirement already satisfied: patsy>=0.4.0 in /usr/local/lib/python3.7/dist-packages (from statsmodels->tobler>=0.8.2->pysal->georasters) (0.5.2)\n",
            "Requirement already satisfied: mpmath>=0.19 in /usr/local/lib/python3.7/dist-packages (from sympy->quantecon>=0.4.7->giddy>=2.3.3->pysal->georasters) (1.2.1)\n"
          ]
        },
        {
          "output_type": "stream",
          "name": "stderr",
          "text": [
            "/usr/local/lib/python3.7/dist-packages/geopandas/_compat.py:115: UserWarning: The Shapely GEOS version (3.9.1-CAPI-1.14.2) is incompatible with the GEOS version PyGEOS was compiled with (3.10.1-CAPI-1.16.0). Conversions between both will be slow.\n",
            "  shapely_geos_version, geos_capi_version_string\n"
          ]
        },
        {
          "output_type": "stream",
          "name": "stdout",
          "text": [
            "To authorize access needed by Earth Engine, open the following URL in a web browser and follow the instructions. If the web browser does not start automatically, please manually browse the URL below.\n",
            "\n",
            "    https://accounts.google.com/o/oauth2/auth?client_id=517222506229-vsmmajv00ul0bs7p89v5m89qs8eb9359.apps.googleusercontent.com&scope=https%3A%2F%2Fwww.googleapis.com%2Fauth%2Fearthengine+https%3A%2F%2Fwww.googleapis.com%2Fauth%2Fdevstorage.full_control&redirect_uri=urn%3Aietf%3Awg%3Aoauth%3A2.0%3Aoob&response_type=code&code_challenge=Po7lwWkAB-U0reXnto8rYWcwaIEjAVgLvc0yVrK5w5c&code_challenge_method=S256\n",
            "\n",
            "The authorization workflow will generate a code, which you should paste in the box below. \n",
            "Enter verification code: 4/1AX4XfWjjgv6r8LWpnAAzYYUkI3encAk4bU6Vsh-ZAq6QOBXfe-I9eK2yVi4\n",
            "\n",
            "Successfully saved authorization token.\n"
          ]
        }
      ]
    },
    {
      "cell_type": "markdown",
      "metadata": {
        "id": "lfF17zdwXX5f"
      },
      "source": [
        "# Helper Function"
      ]
    },
    {
      "cell_type": "code",
      "metadata": {
        "id": "UcvBJK_zXZl_"
      },
      "source": [
        "def add_ee_layer(self, ee_image_object, vis_params, name):\n",
        "    \"\"\"Adds a method for displaying Earth Engine image tiles to folium map.\"\"\"\n",
        "    map_id_dict = ee.Image(ee_image_object).getMapId(vis_params)\n",
        "    folium.raster_layers.TileLayer(\n",
        "        tiles=map_id_dict['tile_fetcher'].url_format,\n",
        "        attr='Map Data &copy; <a href=\"https://earthengine.google.com/\">Google Earth Engine</a>',\n",
        "        name=name,\n",
        "        overlay=True,\n",
        "        control=True\n",
        "    ).add_to(self)\n",
        "\n",
        "folium.Map.add_ee_layer = add_ee_layer"
      ],
      "execution_count": null,
      "outputs": []
    },
    {
      "cell_type": "markdown",
      "metadata": {
        "id": "SLM7VNk4EuLh"
      },
      "source": [
        "# Area of Interest"
      ]
    },
    {
      "cell_type": "markdown",
      "metadata": {
        "id": "WwhWQYZb7YDT"
      },
      "source": [
        "## Point of Interest"
      ]
    },
    {
      "cell_type": "code",
      "metadata": {
        "id": "FBs9cupHOU15"
      },
      "source": [
        "# Pekanbaru\n",
        "lat = 0.511189523538957 \n",
        "lon = 101.44666084225209\n",
        "poi = ee.Geometry.Point(lon, lat)\n",
        "\n",
        "# # Singapore\n",
        "# lat = 1.4311524391271884 \n",
        "# lon = 103.91858465490296"
      ],
      "execution_count": null,
      "outputs": []
    },
    {
      "cell_type": "markdown",
      "metadata": {
        "id": "ppXeOXd_7j4C"
      },
      "source": [
        "## Region of Interest"
      ]
    },
    {
      "cell_type": "code",
      "metadata": {
        "colab": {
          "base_uri": "https://localhost:8080/"
        },
        "id": "qbDX-3AWExJZ",
        "outputId": "d602fe7b-451a-49b6-c0ba-a5daf3ab9d43"
      },
      "source": [
        "! wget https://biogeo.ucdavis.edu/data/gadm3.6/shp/gadm36_IDN_shp.zip\n",
        "! unzip gadm36_IDN_shp.zip\n",
        "! ls"
      ],
      "execution_count": null,
      "outputs": [
        {
          "output_type": "stream",
          "name": "stdout",
          "text": [
            "--2022-01-17 02:25:30--  https://biogeo.ucdavis.edu/data/gadm3.6/shp/gadm36_IDN_shp.zip\n",
            "Resolving biogeo.ucdavis.edu (biogeo.ucdavis.edu)... 128.120.228.172\n",
            "Connecting to biogeo.ucdavis.edu (biogeo.ucdavis.edu)|128.120.228.172|:443... connected.\n",
            "HTTP request sent, awaiting response... 302 Found\n",
            "Location: https://data.biogeo.ucdavis.edu/data/gadm3.6/shp/gadm36_IDN_shp.zip [following]\n",
            "--2022-01-17 02:25:31--  https://data.biogeo.ucdavis.edu/data/gadm3.6/shp/gadm36_IDN_shp.zip\n",
            "Resolving data.biogeo.ucdavis.edu (data.biogeo.ucdavis.edu)... 128.120.228.172\n",
            "Connecting to data.biogeo.ucdavis.edu (data.biogeo.ucdavis.edu)|128.120.228.172|:443... connected.\n",
            "HTTP request sent, awaiting response... 200 OK\n",
            "Length: 161235162 (154M) [application/zip]\n",
            "Saving to: ‘gadm36_IDN_shp.zip.1’\n",
            "\n",
            "gadm36_IDN_shp.zip. 100%[===================>] 153.77M  35.9MB/s    in 4.7s    \n",
            "\n",
            "2022-01-17 02:25:37 (32.5 MB/s) - ‘gadm36_IDN_shp.zip.1’ saved [161235162/161235162]\n",
            "\n",
            "Archive:  gadm36_IDN_shp.zip\n",
            "replace gadm36_IDN_1.cpg? [y]es, [n]o, [A]ll, [N]one, [r]ename: A\n",
            " extracting: gadm36_IDN_1.cpg        \n",
            "  inflating: gadm36_IDN_1.dbf        \n",
            "  inflating: gadm36_IDN_1.prj        \n",
            "  inflating: gadm36_IDN_1.shp        \n",
            "  inflating: gadm36_IDN_1.shx        \n",
            " extracting: gadm36_IDN_2.cpg        \n",
            "  inflating: gadm36_IDN_2.dbf        \n",
            "  inflating: gadm36_IDN_2.prj        \n",
            "  inflating: gadm36_IDN_2.shp        \n",
            "  inflating: gadm36_IDN_2.shx        \n",
            " extracting: gadm36_IDN_3.cpg        \n",
            "  inflating: gadm36_IDN_3.dbf        \n",
            "  inflating: gadm36_IDN_3.prj        \n",
            "  inflating: gadm36_IDN_3.shp        \n",
            "  inflating: gadm36_IDN_3.shx        \n",
            " extracting: gadm36_IDN_4.cpg        \n",
            "  inflating: gadm36_IDN_4.dbf        \n",
            "  inflating: gadm36_IDN_4.prj        \n",
            "  inflating: gadm36_IDN_4.shp        \n",
            "  inflating: gadm36_IDN_4.shx        \n",
            "  inflating: license.txt             \n",
            "gadm36_IDN_1.cpg  gadm36_IDN_2.dbf  gadm36_IDN_3.prj  gadm36_IDN_4.shp\n",
            "gadm36_IDN_1.dbf  gadm36_IDN_2.prj  gadm36_IDN_3.shp  gadm36_IDN_4.shx\n",
            "gadm36_IDN_1.prj  gadm36_IDN_2.shp  gadm36_IDN_3.shx  gadm36_IDN_shp.zip\n",
            "gadm36_IDN_1.shp  gadm36_IDN_2.shx  gadm36_IDN_4.cpg  gadm36_IDN_shp.zip.1\n",
            "gadm36_IDN_1.shx  gadm36_IDN_3.cpg  gadm36_IDN_4.dbf  license.txt\n",
            "gadm36_IDN_2.cpg  gadm36_IDN_3.dbf  gadm36_IDN_4.prj  sample_data\n"
          ]
        }
      ]
    },
    {
      "cell_type": "code",
      "metadata": {
        "colab": {
          "base_uri": "https://localhost:8080/",
          "height": 197
        },
        "id": "Q2GaoWhyGose",
        "outputId": "5ab88e6f-cdbd-4d83-e25a-8a0a22020b72"
      },
      "source": [
        "prov = gpd.read_file('gadm36_IDN_1.shp')\n",
        "riau = prov[prov['NAME_1'] == 'Riau'] \n",
        "riau"
      ],
      "execution_count": null,
      "outputs": [
        {
          "output_type": "execute_result",
          "data": {
            "text/html": [
              "\n",
              "  <div id=\"df-5fdeb5e2-0cb9-4ff1-aff6-dedf56182ce2\">\n",
              "    <div class=\"colab-df-container\">\n",
              "      <div>\n",
              "<style scoped>\n",
              "    .dataframe tbody tr th:only-of-type {\n",
              "        vertical-align: middle;\n",
              "    }\n",
              "\n",
              "    .dataframe tbody tr th {\n",
              "        vertical-align: top;\n",
              "    }\n",
              "\n",
              "    .dataframe thead th {\n",
              "        text-align: right;\n",
              "    }\n",
              "</style>\n",
              "<table border=\"1\" class=\"dataframe\">\n",
              "  <thead>\n",
              "    <tr style=\"text-align: right;\">\n",
              "      <th></th>\n",
              "      <th>GID_0</th>\n",
              "      <th>NAME_0</th>\n",
              "      <th>GID_1</th>\n",
              "      <th>NAME_1</th>\n",
              "      <th>VARNAME_1</th>\n",
              "      <th>NL_NAME_1</th>\n",
              "      <th>TYPE_1</th>\n",
              "      <th>ENGTYPE_1</th>\n",
              "      <th>CC_1</th>\n",
              "      <th>HASC_1</th>\n",
              "      <th>geometry</th>\n",
              "    </tr>\n",
              "  </thead>\n",
              "  <tbody>\n",
              "    <tr>\n",
              "      <th>23</th>\n",
              "      <td>IDN</td>\n",
              "      <td>Indonesia</td>\n",
              "      <td>IDN.24_1</td>\n",
              "      <td>Riau</td>\n",
              "      <td>None</td>\n",
              "      <td>None</td>\n",
              "      <td>Propinisi</td>\n",
              "      <td>Province</td>\n",
              "      <td>14</td>\n",
              "      <td>ID.RI</td>\n",
              "      <td>MULTIPOLYGON (((103.41634 -0.67546, 103.41668 ...</td>\n",
              "    </tr>\n",
              "  </tbody>\n",
              "</table>\n",
              "</div>\n",
              "      <button class=\"colab-df-convert\" onclick=\"convertToInteractive('df-5fdeb5e2-0cb9-4ff1-aff6-dedf56182ce2')\"\n",
              "              title=\"Convert this dataframe to an interactive table.\"\n",
              "              style=\"display:none;\">\n",
              "        \n",
              "  <svg xmlns=\"http://www.w3.org/2000/svg\" height=\"24px\"viewBox=\"0 0 24 24\"\n",
              "       width=\"24px\">\n",
              "    <path d=\"M0 0h24v24H0V0z\" fill=\"none\"/>\n",
              "    <path d=\"M18.56 5.44l.94 2.06.94-2.06 2.06-.94-2.06-.94-.94-2.06-.94 2.06-2.06.94zm-11 1L8.5 8.5l.94-2.06 2.06-.94-2.06-.94L8.5 2.5l-.94 2.06-2.06.94zm10 10l.94 2.06.94-2.06 2.06-.94-2.06-.94-.94-2.06-.94 2.06-2.06.94z\"/><path d=\"M17.41 7.96l-1.37-1.37c-.4-.4-.92-.59-1.43-.59-.52 0-1.04.2-1.43.59L10.3 9.45l-7.72 7.72c-.78.78-.78 2.05 0 2.83L4 21.41c.39.39.9.59 1.41.59.51 0 1.02-.2 1.41-.59l7.78-7.78 2.81-2.81c.8-.78.8-2.07 0-2.86zM5.41 20L4 18.59l7.72-7.72 1.47 1.35L5.41 20z\"/>\n",
              "  </svg>\n",
              "      </button>\n",
              "      \n",
              "  <style>\n",
              "    .colab-df-container {\n",
              "      display:flex;\n",
              "      flex-wrap:wrap;\n",
              "      gap: 12px;\n",
              "    }\n",
              "\n",
              "    .colab-df-convert {\n",
              "      background-color: #E8F0FE;\n",
              "      border: none;\n",
              "      border-radius: 50%;\n",
              "      cursor: pointer;\n",
              "      display: none;\n",
              "      fill: #1967D2;\n",
              "      height: 32px;\n",
              "      padding: 0 0 0 0;\n",
              "      width: 32px;\n",
              "    }\n",
              "\n",
              "    .colab-df-convert:hover {\n",
              "      background-color: #E2EBFA;\n",
              "      box-shadow: 0px 1px 2px rgba(60, 64, 67, 0.3), 0px 1px 3px 1px rgba(60, 64, 67, 0.15);\n",
              "      fill: #174EA6;\n",
              "    }\n",
              "\n",
              "    [theme=dark] .colab-df-convert {\n",
              "      background-color: #3B4455;\n",
              "      fill: #D2E3FC;\n",
              "    }\n",
              "\n",
              "    [theme=dark] .colab-df-convert:hover {\n",
              "      background-color: #434B5C;\n",
              "      box-shadow: 0px 1px 3px 1px rgba(0, 0, 0, 0.15);\n",
              "      filter: drop-shadow(0px 1px 2px rgba(0, 0, 0, 0.3));\n",
              "      fill: #FFFFFF;\n",
              "    }\n",
              "  </style>\n",
              "\n",
              "      <script>\n",
              "        const buttonEl =\n",
              "          document.querySelector('#df-5fdeb5e2-0cb9-4ff1-aff6-dedf56182ce2 button.colab-df-convert');\n",
              "        buttonEl.style.display =\n",
              "          google.colab.kernel.accessAllowed ? 'block' : 'none';\n",
              "\n",
              "        async function convertToInteractive(key) {\n",
              "          const element = document.querySelector('#df-5fdeb5e2-0cb9-4ff1-aff6-dedf56182ce2');\n",
              "          const dataTable =\n",
              "            await google.colab.kernel.invokeFunction('convertToInteractive',\n",
              "                                                     [key], {});\n",
              "          if (!dataTable) return;\n",
              "\n",
              "          const docLinkHtml = 'Like what you see? Visit the ' +\n",
              "            '<a target=\"_blank\" href=https://colab.research.google.com/notebooks/data_table.ipynb>data table notebook</a>'\n",
              "            + ' to learn more about interactive tables.';\n",
              "          element.innerHTML = '';\n",
              "          dataTable['output_type'] = 'display_data';\n",
              "          await google.colab.output.renderOutput(dataTable, element);\n",
              "          const docLink = document.createElement('div');\n",
              "          docLink.innerHTML = docLinkHtml;\n",
              "          element.appendChild(docLink);\n",
              "        }\n",
              "      </script>\n",
              "    </div>\n",
              "  </div>\n",
              "  "
            ],
            "text/plain": [
              "   GID_0     NAME_0  ... HASC_1                                           geometry\n",
              "23   IDN  Indonesia  ...  ID.RI  MULTIPOLYGON (((103.41634 -0.67546, 103.41668 ...\n",
              "\n",
              "[1 rows x 11 columns]"
            ]
          },
          "metadata": {},
          "execution_count": 5
        }
      ]
    },
    {
      "cell_type": "code",
      "metadata": {
        "colab": {
          "base_uri": "https://localhost:8080/"
        },
        "id": "SG78aQjoQgXh",
        "outputId": "bad390cd-0aee-42c0-90ab-c8a5ab5c12f2"
      },
      "source": [
        "riau.crs"
      ],
      "execution_count": null,
      "outputs": [
        {
          "output_type": "execute_result",
          "data": {
            "text/plain": [
              "<Geographic 2D CRS: EPSG:4326>\n",
              "Name: WGS 84\n",
              "Axis Info [ellipsoidal]:\n",
              "- Lat[north]: Geodetic latitude (degree)\n",
              "- Lon[east]: Geodetic longitude (degree)\n",
              "Area of Use:\n",
              "- name: World.\n",
              "- bounds: (-180.0, -90.0, 180.0, 90.0)\n",
              "Datum: World Geodetic System 1984 ensemble\n",
              "- Ellipsoid: WGS 84\n",
              "- Prime Meridian: Greenwich"
            ]
          },
          "metadata": {},
          "execution_count": 6
        }
      ]
    },
    {
      "cell_type": "code",
      "metadata": {
        "colab": {
          "base_uri": "https://localhost:8080/",
          "height": 282
        },
        "id": "RxuA0sghHcgW",
        "outputId": "da454401-8300-4a91-a7da-180457452348"
      },
      "source": [
        "riau.plot()"
      ],
      "execution_count": null,
      "outputs": [
        {
          "output_type": "execute_result",
          "data": {
            "text/plain": [
              "<matplotlib.axes._subplots.AxesSubplot at 0x7f2269c7d190>"
            ]
          },
          "metadata": {},
          "execution_count": 7
        },
        {
          "output_type": "display_data",
          "data": {
            "image/png": "[encoded data removed]",
            "text/plain": [
              "<Figure size 432x288 with 1 Axes>"
            ]
          },
          "metadata": {
            "needs_background": "light"
          }
        }
      ]
    },
    {
      "cell_type": "markdown",
      "metadata": {
        "id": "iwN-bcnKtjbb"
      },
      "source": [
        "### Finding Minimum Bounding Box"
      ]
    },
    {
      "cell_type": "code",
      "metadata": {
        "id": "GSvElq1iY2lI"
      },
      "source": [
        "riau.to_file('riau.shp')"
      ],
      "execution_count": null,
      "outputs": []
    },
    {
      "cell_type": "code",
      "metadata": {
        "colab": {
          "base_uri": "https://localhost:8080/"
        },
        "id": "WhUB6zTiYmog",
        "outputId": "8f350340-1bd4-497b-e28a-5763ebb74e10"
      },
      "source": [
        "# Get minimum bounding rectangle\n",
        "shp =  fiona.open('riau.shp')\n",
        "shp.bounds"
      ],
      "execution_count": null,
      "outputs": [
        {
          "output_type": "execute_result",
          "data": {
            "text/plain": [
              "(100.02484894, -1.12227285, 103.81461334, 2.91912794)"
            ]
          },
          "metadata": {},
          "execution_count": 9
        }
      ]
    },
    {
      "cell_type": "code",
      "metadata": {
        "id": "7E7our_RZoxM"
      },
      "source": [
        "riau_bounding_box = ee.Geometry.Rectangle([100.02484894, -1.12227285, 103.81461334, 2.91912794])"
      ],
      "execution_count": null,
      "outputs": []
    },
    {
      "cell_type": "markdown",
      "metadata": {
        "id": "5wHypUA4toI-"
      },
      "source": [
        "### Get The Region to GeoJSON"
      ]
    },
    {
      "cell_type": "code",
      "metadata": {
        "id": "SpjJG2hIH0CN"
      },
      "source": [
        "riau.to_file('riau.geojson', driver='GeoJSON')"
      ],
      "execution_count": null,
      "outputs": []
    },
    {
      "cell_type": "code",
      "metadata": {
        "id": "_wcxfFfNILSa"
      },
      "source": [
        "with open('riau.geojson') as f:\n",
        "  riau_geojson = geojson.load(f)\n",
        "\n",
        "riau_geojson = ee.Geometry(riau_geojson['features'][0]['geometry'])"
      ],
      "execution_count": null,
      "outputs": []
    },
    {
      "cell_type": "code",
      "metadata": {
        "colab": {
          "base_uri": "https://localhost:8080/"
        },
        "id": "dZVbAzoK4d-j",
        "outputId": "283eb171-bf3a-4837-f1ba-ed25012d4278"
      },
      "source": [
        "print(riau_geojson.projection().getInfo())"
      ],
      "execution_count": null,
      "outputs": [
        {
          "output_type": "stream",
          "name": "stdout",
          "text": [
            "{'type': 'Projection', 'crs': 'EPSG:4326', 'transform': [1, 0, 0, 0, 1, 0]}\n"
          ]
        }
      ]
    },
    {
      "cell_type": "markdown",
      "metadata": {
        "id": "kKuAskjLEI3J"
      },
      "source": [
        "# Satellite"
      ]
    },
    {
      "cell_type": "markdown",
      "metadata": {
        "id": "fBdfr7LK7Olq"
      },
      "source": [
        "## Precipitation from TRMM"
      ]
    },
    {
      "cell_type": "code",
      "metadata": {
        "id": "bUiG29v8Q4Jw"
      },
      "source": [
        "# Import the satellite images\n",
        "trmm = ee.ImageCollection('TRMM/3B43V7')\n",
        "# Select the band\n",
        "trmm = trmm.select('precipitation')\n",
        "# Filter the date\n",
        "trmm = trmm.filterDate('2018-01-01', '2018-12-31')\n",
        "# Reduce the TRMM and Reproject Them\n",
        "trmm_img = trmm.reduce(ee.Reducer.mean())\n",
        "# Reproject with original resolution\n",
        "trmm_img = trmm_img.reproject(crs=riau_geojson.projection(), scale=25000)\n",
        "# Clip the Image\n",
        "trmm_img = trmm_img.clip(riau_geojson)\n",
        "# Params for Visualization\n",
        "trmm_params = {\n",
        "    'min':0.1, 'max':1.2, 'region': riau_geojson, 'dimension':512,\n",
        "    'palette': ['blue', 'yellow', 'orange', 'red']\n",
        "}"
      ],
      "execution_count": null,
      "outputs": []
    },
    {
      "cell_type": "markdown",
      "metadata": {
        "id": "yeLTmmnh750b"
      },
      "source": [
        "## Digital Elevation Model from STRM"
      ]
    },
    {
      "cell_type": "code",
      "metadata": {
        "id": "0oaJH0Xo8CS0"
      },
      "source": [
        "# Get the satellite images\n",
        "srtm = ee.Image('CGIAR/SRTM90_V4')\n",
        "# Select the band\n",
        "elevation = srtm.select('elevation')\n",
        "# Get the slope from the band\n",
        "slope = ee.Terrain.slope(elevation)\n",
        "# Reproject the Map\n",
        "slope_ori = slope.reproject(crs=riau_geojson.projection(), scale=90)\n",
        "# Clip the image\n",
        "slope_ori = slope_ori.clip(riau_geojson)\n",
        "# Params for Visualization\n",
        "slope_params = {\n",
        "    'min':0, \n",
        "    'max':60\n",
        "}"
      ],
      "execution_count": null,
      "outputs": []
    },
    {
      "cell_type": "markdown",
      "metadata": {
        "id": "3nTV1H5098qH"
      },
      "source": [
        "## NDVI from MODIS"
      ]
    },
    {
      "cell_type": "code",
      "metadata": {
        "id": "mfPqtovn9N3H"
      },
      "source": [
        "# Select the satellite images\n",
        "modis = ee.ImageCollection('MODIS/006/MOD13A2')\n",
        "# Select the band\n",
        "ndvi = modis.select('NDVI')\n",
        "# Retrieve the first image\n",
        "ndvi = ndvi.filterDate('2018-01-01', '2018-12-31')\n",
        "# Get the annual NDVI and Reproject the Map\n",
        "ndvi = ndvi.reduce(ee.Reducer.mean())\n",
        "# Reproject with original scale\n",
        "ndvi_ori = ndvi.reproject(crs=riau_geojson.projection(), scale=1000)\n",
        "# Clip the Image\n",
        "ndvi_ori = ndvi_ori.clip(riau_geojson)\n",
        "# Params for visualization\n",
        "ndvi_params = {\n",
        "  'min': 0.0,\n",
        "  'max': 9000.0,\n",
        "  'palette': [\n",
        "    'FFFFFF', 'CE7E45', 'DF923D', 'F1B555', 'FCD163', '99B718', '74A901',\n",
        "    '66A000', '529400', '3E8601', '207401', '056201', '004C00', '023B01',\n",
        "    '012E01', '011D01', '011301'\n",
        "  ],\n",
        "}"
      ],
      "execution_count": null,
      "outputs": []
    },
    {
      "cell_type": "markdown",
      "metadata": {
        "id": "HYymIL1XBm_O"
      },
      "source": [
        "## Land Cover from MODIS"
      ]
    },
    {
      "cell_type": "code",
      "metadata": {
        "id": "31ay0VD3Bm_P"
      },
      "source": [
        "modis = ee.ImageCollection('MODIS/006/MCD12Q1')\n",
        "lc = modis.select('LC_Type1')\n",
        "lc = lc.filterDate('2018-01-01', '2018-05-31').first()\n",
        "lc_ori = lc.reproject(crs=riau_geojson.projection(), scale=500) \n",
        "lc_ori = lc_ori.clip(riau_geojson)\n",
        "lc_params = {\n",
        "  'min': 1.0,\n",
        "  'max': 17.0,\n",
        "  'palette': [\n",
        "    '05450a', '086a10', '54a708', '78d203', '009900', 'c6b044', 'dcd159',\n",
        "    'dade48', 'fbff13', 'b6ff05', '27ff87', 'c24f44', 'a5a5a5', 'ff6d4c',\n",
        "    '69fff8', 'f9ffa4', '1c0dff'\n",
        "  ],\n",
        "}"
      ],
      "execution_count": null,
      "outputs": []
    },
    {
      "cell_type": "markdown",
      "metadata": {
        "id": "N9NaRynxdc1M"
      },
      "source": [
        "# Visualization"
      ]
    },
    {
      "cell_type": "code",
      "metadata": {
        "colab": {
          "base_uri": "https://localhost:8080/",
          "height": 498
        },
        "id": "pR5ME0jjalLo",
        "outputId": "ed89df57-7cc2-46bc-8d21-98a67fce089a"
      },
      "source": [
        "my_map = folium.Map(location=[lat, lon], zoom_start=8)\n",
        "my_map.add_ee_layer(trmm_img, trmm_params, 'Precipitation from TRMM')\n",
        "my_map.add_ee_layer(slope_ori, slope_params, 'SRTM Digital Elevation Model')\n",
        "my_map.add_ee_layer(ndvi_ori, ndvi_params, 'NDVI from MODIS')\n",
        "my_map.add_ee_layer(lc_ori, lc_params, 'Land Cover from MODIS')\n",
        "folium.LayerControl().add_to(my_map)\n",
        "display(my_map)"
      ],
      "execution_count": null,
      "outputs": [
        {
          "output_type": "display_data",
          "data": {
            "text/html": [
              "<div style=\"width:100%;\"><div style=\"position:relative;width:100%;height:0;padding-bottom:60%;\"><span style=\"color:#565656\">Make this Notebook Trusted to load map: File -> Trust Notebook</span><iframe src=\"about:blank\" style=\"position:absolute;width:100%;height:100%;left:0;top:0;border:none !important;\" data-html=%3C%21DOCTYPE%20html%3E%0A%3Chead%3E%20%20%20%20%0A%20%20%20%20%3Cmeta%20http-equiv%3D%22content-type%22%20content%3D%22text/html%3B%20charset%3DUTF-8%22%20/%3E%0A%20%20%20%20%3Cscript%3EL_PREFER_CANVAS%3Dfalse%3B%20L_NO_TOUCH%3Dfalse%3B%20L_DISABLE_3D%3Dfalse%3B%3C/script%3E%0A%20%20%20%20%3Cscript%20src%3D%22https%3A//cdn.jsdelivr.net/npm/leaflet%401.4.0/dist/leaflet.js%22%3E%3C/script%3E%0A%20%20%20%20%3Cscript%20src%3D%22https%3A//code.jquery.com/jquery-1.12.4.min.js%22%3E%3C/script%3E%0A%20%20%20%20%3Cscript%20src%3D%22https%3A//maxcdn.bootstrapcdn.com/bootstrap/3.2.0/js/bootstrap.min.js%22%3E%3C/script%3E%0A%20%20%20%20%3Cscript%20src%3D%22https%3A//cdnjs.cloudflare.com/ajax/libs/Leaflet.awesome-markers/2.0.2/leaflet.awesome-markers.js%22%3E%3C/script%3E%0A%20%20%20%20%3Clink%20rel%3D%22stylesheet%22%20href%3D%22https%3A//cdn.jsdelivr.net/npm/leaflet%401.4.0/dist/leaflet.css%22/%3E%0A%20%20%20%20%3Clink%20rel%3D%22stylesheet%22%20href%3D%22https%3A//maxcdn.bootstrapcdn.com/bootstrap/3.2.0/css/bootstrap.min.css%22/%3E%0A%20%20%20%20%3Clink%20rel%3D%22stylesheet%22%20href%3D%22https%3A//maxcdn.bootstrapcdn.com/bootstrap/3.2.0/css/bootstrap-theme.min.css%22/%3E%0A%20%20%20%20%3Clink%20rel%3D%22stylesheet%22%20href%3D%22https%3A//maxcdn.bootstrapcdn.com/font-awesome/4.6.3/css/font-awesome.min.css%22/%3E%0A%20%20%20%20%3Clink%20rel%3D%22stylesheet%22%20href%3D%22https%3A//cdnjs.cloudflare.com/ajax/libs/Leaflet.awesome-markers/2.0.2/leaflet.awesome-markers.css%22/%3E%0A%20%20%20%20%3Clink%20rel%3D%22stylesheet%22%20href%3D%22https%3A//rawcdn.githack.com/python-visualization/folium/master/folium/templates/leaflet.awesome.rotate.css%22/%3E%0A%20%20%20%20%3Cstyle%3Ehtml%2C%20body%20%7Bwidth%3A%20100%25%3Bheight%3A%20100%25%3Bmargin%3A%200%3Bpadding%3A%200%3B%7D%3C/style%3E%0A%20%20%20%20%3Cstyle%3E%23map%20%7Bposition%3Aabsolute%3Btop%3A0%3Bbottom%3A0%3Bright%3A0%3Bleft%3A0%3B%7D%3C/style%3E%0A%20%20%20%20%0A%20%20%20%20%3Cmeta%20name%3D%22viewport%22%20content%3D%22width%3Ddevice-width%2C%0A%20%20%20%20%20%20%20%20initial-scale%3D1.0%2C%20maximum-scale%3D1.0%2C%20user-scalable%3Dno%22%20/%3E%0A%20%20%20%20%3Cstyle%3E%23map_7c46c14d47424e2c8169da455baa5d8d%20%7B%0A%20%20%20%20%20%20%20%20position%3A%20relative%3B%0A%20%20%20%20%20%20%20%20width%3A%20100.0%25%3B%0A%20%20%20%20%20%20%20%20height%3A%20100.0%25%3B%0A%20%20%20%20%20%20%20%20left%3A%200.0%25%3B%0A%20%20%20%20%20%20%20%20top%3A%200.0%25%3B%0A%20%20%20%20%20%20%20%20%7D%0A%20%20%20%20%3C/style%3E%0A%3C/head%3E%0A%3Cbody%3E%20%20%20%20%0A%20%20%20%20%0A%20%20%20%20%3Cdiv%20class%3D%22folium-map%22%20id%3D%22map_7c46c14d47424e2c8169da455baa5d8d%22%20%3E%3C/div%3E%0A%3C/body%3E%0A%3Cscript%3E%20%20%20%20%0A%20%20%20%20%0A%20%20%20%20%0A%20%20%20%20%20%20%20%20var%20bounds%20%3D%20null%3B%0A%20%20%20%20%0A%0A%20%20%20%20var%20map_7c46c14d47424e2c8169da455baa5d8d%20%3D%20L.map%28%0A%20%20%20%20%20%20%20%20%27map_7c46c14d47424e2c8169da455baa5d8d%27%2C%20%7B%0A%20%20%20%20%20%20%20%20center%3A%20%5B0.511189523538957%2C%20101.44666084225209%5D%2C%0A%20%20%20%20%20%20%20%20zoom%3A%208%2C%0A%20%20%20%20%20%20%20%20maxBounds%3A%20bounds%2C%0A%20%20%20%20%20%20%20%20layers%3A%20%5B%5D%2C%0A%20%20%20%20%20%20%20%20worldCopyJump%3A%20false%2C%0A%20%20%20%20%20%20%20%20crs%3A%20L.CRS.EPSG3857%2C%0A%20%20%20%20%20%20%20%20zoomControl%3A%20true%2C%0A%20%20%20%20%20%20%20%20%7D%29%3B%0A%0A%0A%20%20%20%20%0A%20%20%20%20var%20tile_layer_75910abf3ea4425ba588eba11e754a2f%20%3D%20L.tileLayer%28%0A%20%20%20%20%20%20%20%20%27https%3A//%7Bs%7D.tile.openstreetmap.org/%7Bz%7D/%7Bx%7D/%7By%7D.png%27%2C%0A%20%20%20%20%20%20%20%20%7B%0A%20%20%20%20%20%20%20%20%22attribution%22%3A%20null%2C%0A%20%20%20%20%20%20%20%20%22detectRetina%22%3A%20false%2C%0A%20%20%20%20%20%20%20%20%22maxNativeZoom%22%3A%2018%2C%0A%20%20%20%20%20%20%20%20%22maxZoom%22%3A%2018%2C%0A%20%20%20%20%20%20%20%20%22minZoom%22%3A%200%2C%0A%20%20%20%20%20%20%20%20%22noWrap%22%3A%20false%2C%0A%20%20%20%20%20%20%20%20%22opacity%22%3A%201%2C%0A%20%20%20%20%20%20%20%20%22subdomains%22%3A%20%22abc%22%2C%0A%20%20%20%20%20%20%20%20%22tms%22%3A%20false%0A%7D%29.addTo%28map_7c46c14d47424e2c8169da455baa5d8d%29%3B%0A%20%20%20%20var%20tile_layer_3268f48134504f05a77161ca7eb9a333%20%3D%20L.tileLayer%28%0A%20%20%20%20%20%20%20%20%27https%3A//earthengine.googleapis.com/v1alpha/projects/earthengine-legacy/maps/0fe7a082fd00dea8c2222d2e5fb97610-a2bb3bbfbce2cc65162b10683af86e2f/tiles/%7Bz%7D/%7Bx%7D/%7By%7D%27%2C%0A%20%20%20%20%20%20%20%20%7B%0A%20%20%20%20%20%20%20%20%22attribution%22%3A%20%22Map%20Data%20%26copy%3B%20%3Ca%20href%3D%5C%22https%3A//earthengine.google.com/%5C%22%3EGoogle%20Earth%20Engine%3C/a%3E%22%2C%0A%20%20%20%20%20%20%20%20%22detectRetina%22%3A%20false%2C%0A%20%20%20%20%20%20%20%20%22maxNativeZoom%22%3A%2018%2C%0A%20%20%20%20%20%20%20%20%22maxZoom%22%3A%2018%2C%0A%20%20%20%20%20%20%20%20%22minZoom%22%3A%200%2C%0A%20%20%20%20%20%20%20%20%22noWrap%22%3A%20false%2C%0A%20%20%20%20%20%20%20%20%22opacity%22%3A%201%2C%0A%20%20%20%20%20%20%20%20%22subdomains%22%3A%20%22abc%22%2C%0A%20%20%20%20%20%20%20%20%22tms%22%3A%20false%0A%7D%29.addTo%28map_7c46c14d47424e2c8169da455baa5d8d%29%3B%0A%20%20%20%20var%20tile_layer_7342ca5bf4d14443bb03ace6685c52ee%20%3D%20L.tileLayer%28%0A%20%20%20%20%20%20%20%20%27https%3A//earthengine.googleapis.com/v1alpha/projects/earthengine-legacy/maps/b672acdcb15379e4f8dd0d01fdc65db8-2b5501131d3f95ec364738a43c753d16/tiles/%7Bz%7D/%7Bx%7D/%7By%7D%27%2C%0A%20%20%20%20%20%20%20%20%7B%0A%20%20%20%20%20%20%20%20%22attribution%22%3A%20%22Map%20Data%20%26copy%3B%20%3Ca%20href%3D%5C%22https%3A//earthengine.google.com/%5C%22%3EGoogle%20Earth%20Engine%3C/a%3E%22%2C%0A%20%20%20%20%20%20%20%20%22detectRetina%22%3A%20false%2C%0A%20%20%20%20%20%20%20%20%22maxNativeZoom%22%3A%2018%2C%0A%20%20%20%20%20%20%20%20%22maxZoom%22%3A%2018%2C%0A%20%20%20%20%20%20%20%20%22minZoom%22%3A%200%2C%0A%20%20%20%20%20%20%20%20%22noWrap%22%3A%20false%2C%0A%20%20%20%20%20%20%20%20%22opacity%22%3A%201%2C%0A%20%20%20%20%20%20%20%20%22subdomains%22%3A%20%22abc%22%2C%0A%20%20%20%20%20%20%20%20%22tms%22%3A%20false%0A%7D%29.addTo%28map_7c46c14d47424e2c8169da455baa5d8d%29%3B%0A%20%20%20%20var%20tile_layer_88a46cce502d4f18a09e249ff3fa49c2%20%3D%20L.tileLayer%28%0A%20%20%20%20%20%20%20%20%27https%3A//earthengine.googleapis.com/v1alpha/projects/earthengine-legacy/maps/9eea73b3a08f265a9f1ef18bb9cf04e6-632e97337ec5e8ca8a0764232d3fb9ce/tiles/%7Bz%7D/%7Bx%7D/%7By%7D%27%2C%0A%20%20%20%20%20%20%20%20%7B%0A%20%20%20%20%20%20%20%20%22attribution%22%3A%20%22Map%20Data%20%26copy%3B%20%3Ca%20href%3D%5C%22https%3A//earthengine.google.com/%5C%22%3EGoogle%20Earth%20Engine%3C/a%3E%22%2C%0A%20%20%20%20%20%20%20%20%22detectRetina%22%3A%20false%2C%0A%20%20%20%20%20%20%20%20%22maxNativeZoom%22%3A%2018%2C%0A%20%20%20%20%20%20%20%20%22maxZoom%22%3A%2018%2C%0A%20%20%20%20%20%20%20%20%22minZoom%22%3A%200%2C%0A%20%20%20%20%20%20%20%20%22noWrap%22%3A%20false%2C%0A%20%20%20%20%20%20%20%20%22opacity%22%3A%201%2C%0A%20%20%20%20%20%20%20%20%22subdomains%22%3A%20%22abc%22%2C%0A%20%20%20%20%20%20%20%20%22tms%22%3A%20false%0A%7D%29.addTo%28map_7c46c14d47424e2c8169da455baa5d8d%29%3B%0A%20%20%20%20var%20tile_layer_fe1c351568ac452daf8dc90350b3bece%20%3D%20L.tileLayer%28%0A%20%20%20%20%20%20%20%20%27https%3A//earthengine.googleapis.com/v1alpha/projects/earthengine-legacy/maps/f9cd4443b6111347871d41ec77ea41d0-93093ffe754c0feece31cd189c55d79a/tiles/%7Bz%7D/%7Bx%7D/%7By%7D%27%2C%0A%20%20%20%20%20%20%20%20%7B%0A%20%20%20%20%20%20%20%20%22attribution%22%3A%20%22Map%20Data%20%26copy%3B%20%3Ca%20href%3D%5C%22https%3A//earthengine.google.com/%5C%22%3EGoogle%20Earth%20Engine%3C/a%3E%22%2C%0A%20%20%20%20%20%20%20%20%22detectRetina%22%3A%20false%2C%0A%20%20%20%20%20%20%20%20%22maxNativeZoom%22%3A%2018%2C%0A%20%20%20%20%20%20%20%20%22maxZoom%22%3A%2018%2C%0A%20%20%20%20%20%20%20%20%22minZoom%22%3A%200%2C%0A%20%20%20%20%20%20%20%20%22noWrap%22%3A%20false%2C%0A%20%20%20%20%20%20%20%20%22opacity%22%3A%201%2C%0A%20%20%20%20%20%20%20%20%22subdomains%22%3A%20%22abc%22%2C%0A%20%20%20%20%20%20%20%20%22tms%22%3A%20false%0A%7D%29.addTo%28map_7c46c14d47424e2c8169da455baa5d8d%29%3B%0A%20%20%20%20%0A%20%20%20%20%20%20%20%20%20%20%20%20var%20layer_control_5608e0cc3376450daf0f4284a8476ca3%20%3D%20%7B%0A%20%20%20%20%20%20%20%20%20%20%20%20%20%20%20%20base_layers%20%3A%20%7B%20%22openstreetmap%22%20%3A%20tile_layer_75910abf3ea4425ba588eba11e754a2f%2C%20%7D%2C%0A%20%20%20%20%20%20%20%20%20%20%20%20%20%20%20%20overlays%20%3A%20%7B%20%22Precipitation%20from%20TRMM%22%20%3A%20tile_layer_3268f48134504f05a77161ca7eb9a333%2C%22SRTM%20Digital%20Elevation%20Model%22%20%3A%20tile_layer_7342ca5bf4d14443bb03ace6685c52ee%2C%22NDVI%20from%20MODIS%22%20%3A%20tile_layer_88a46cce502d4f18a09e249ff3fa49c2%2C%22Land%20Cover%20from%20MODIS%22%20%3A%20tile_layer_fe1c351568ac452daf8dc90350b3bece%2C%20%7D%0A%20%20%20%20%20%20%20%20%20%20%20%20%20%20%20%20%7D%3B%0A%20%20%20%20%20%20%20%20%20%20%20%20L.control.layers%28%0A%20%20%20%20%20%20%20%20%20%20%20%20%20%20%20%20layer_control_5608e0cc3376450daf0f4284a8476ca3.base_layers%2C%0A%20%20%20%20%20%20%20%20%20%20%20%20%20%20%20%20layer_control_5608e0cc3376450daf0f4284a8476ca3.overlays%2C%0A%20%20%20%20%20%20%20%20%20%20%20%20%20%20%20%20%7Bposition%3A%20%27topright%27%2C%0A%20%20%20%20%20%20%20%20%20%20%20%20%20%20%20%20%20collapsed%3A%20true%2C%0A%20%20%20%20%20%20%20%20%20%20%20%20%20%20%20%20%20autoZIndex%3A%20true%0A%20%20%20%20%20%20%20%20%20%20%20%20%20%20%20%20%7D%29.addTo%28map_7c46c14d47424e2c8169da455baa5d8d%29%3B%0A%20%20%20%20%20%20%20%20%20%20%20%20%0A%20%20%20%20%20%20%20%20%0A%3C/script%3E onload=\"this.contentDocument.open();this.contentDocument.write(    decodeURIComponent(this.getAttribute('data-html')));this.contentDocument.close();\" allowfullscreen webkitallowfullscreen mozallowfullscreen></iframe></div></div>"
            ],
            "text/plain": [
              "<folium.folium.Map at 0x7f226975bb10>"
            ]
          },
          "metadata": {}
        }
      ]
    },
    {
      "cell_type": "code",
      "metadata": {
        "colab": {
          "base_uri": "https://localhost:8080/"
        },
        "id": "xK_jfopVAi8K",
        "outputId": "59306b29-fa89-404b-d38f-7ce89e7aea1c"
      },
      "source": [
        "print(trmm_img.projection().getInfo())\n",
        "print(slope_ori.projection().getInfo())\n",
        "print(ndvi_ori.projection().getInfo())\n",
        "print(lc_ori.projection().getInfo())"
      ],
      "execution_count": null,
      "outputs": [
        {
          "output_type": "stream",
          "name": "stdout",
          "text": [
            "{'type': 'Projection', 'crs': 'EPSG:4326', 'transform': [0.22457882102988036, 0, 0, 0, -0.22457882102988036, 0]}\n",
            "{'type': 'Projection', 'crs': 'EPSG:4326', 'transform': [0.0008084837557075694, 0, 0, 0, -0.0008084837557075694, 0]}\n",
            "{'type': 'Projection', 'crs': 'EPSG:4326', 'transform': [0.008983152841195215, 0, 0, 0, -0.008983152841195215, 0]}\n",
            "{'type': 'Projection', 'crs': 'EPSG:4326', 'transform': [0.004491576420597608, 0, 0, 0, -0.004491576420597608, 0]}\n"
          ]
        }
      ]
    },
    {
      "cell_type": "markdown",
      "metadata": {
        "id": "shbisDBFdXLz"
      },
      "source": [
        "# Resample and Reproject The Images"
      ]
    },
    {
      "cell_type": "markdown",
      "metadata": {
        "id": "f0yb24VkdZij"
      },
      "source": [
        "## 25 KM"
      ]
    },
    {
      "cell_type": "code",
      "metadata": {
        "colab": {
          "base_uri": "https://localhost:8080/",
          "height": 498
        },
        "id": "KMpf7hxiq2UC",
        "outputId": "898beaf9-5ee9-4b83-ffe9-d670c77002fe"
      },
      "source": [
        "ndvi_25km = ndvi.reproject(crs=riau_geojson.projection(), scale=25000).reduceResolution(reducer=ee.Reducer.mean(), maxPixels=1024)\n",
        "slope_25km = slope.reproject(crs=riau_geojson.projection(), scale=25000).reduceResolution(reducer=ee.Reducer.mean(), maxPixels=1024)\n",
        "lc_25km = lc.reproject(crs=riau_geojson.projection(), scale=25000).reduceResolution(reducer=ee.Reducer.mean(), maxPixels=1024)\n",
        "\n",
        "ndvi_25km = ndvi_25km.clip(riau_geojson)\n",
        "slope_25km = slope_25km.clip(riau_geojson)\n",
        "lc_25km = lc_25km.clip(riau_geojson)\n",
        "\n",
        "ndvi_params = {\n",
        "  'min': 0.0,\n",
        "  'max': 9000.0,\n",
        "  'palette': [\n",
        "    'FFFFFF', 'CE7E45', 'DF923D', 'F1B555', 'FCD163', '99B718', '74A901',\n",
        "    '66A000', '529400', '3E8601', '207401', '056201', '004C00', '023B01',\n",
        "    '012E01', '011D01', '011301'\n",
        "  ],\n",
        "}\n",
        "\n",
        "slope_params = {\n",
        "    'min':0, \n",
        "    'max':60\n",
        "}\n",
        "\n",
        "lc_params = {\n",
        "  'min': 1.0,\n",
        "  'max': 17.0,\n",
        "  'palette': [\n",
        "    '05450a', '086a10', '54a708', '78d203', '009900', 'c6b044', 'dcd159',\n",
        "    'dade48', 'fbff13', 'b6ff05', '27ff87', 'c24f44', 'a5a5a5', 'ff6d4c',\n",
        "    '69fff8', 'f9ffa4', '1c0dff'\n",
        "  ],\n",
        "}\n",
        "\n",
        "my_map = folium.Map(location=[lat, lon], zoom_start=8)\n",
        "my_map.add_ee_layer(trmm_img, trmm_params, 'Precipitation from TRMM')\n",
        "my_map.add_ee_layer(ndvi_25km, ndvi_params, 'NDVI from MODIS')\n",
        "my_map.add_ee_layer(slope_25km, slope_params, 'DEM from SRTM')\n",
        "my_map.add_ee_layer(lc_25km, lc_params, 'LC from MODIS')\n",
        "folium.LayerControl().add_to(my_map)\n",
        "display(my_map)"
      ],
      "execution_count": null,
      "outputs": [
        {
          "output_type": "display_data",
          "data": {
            "text/html": [
              "<div style=\"width:100%;\"><div style=\"position:relative;width:100%;height:0;padding-bottom:60%;\"><span style=\"color:#565656\">Make this Notebook Trusted to load map: File -> Trust Notebook</span><iframe src=\"about:blank\" style=\"position:absolute;width:100%;height:100%;left:0;top:0;border:none !important;\" data-html=%3C%21DOCTYPE%20html%3E%0A%3Chead%3E%20%20%20%20%0A%20%20%20%20%3Cmeta%20http-equiv%3D%22content-type%22%20content%3D%22text/html%3B%20charset%3DUTF-8%22%20/%3E%0A%20%20%20%20%3Cscript%3EL_PREFER_CANVAS%3Dfalse%3B%20L_NO_TOUCH%3Dfalse%3B%20L_DISABLE_3D%3Dfalse%3B%3C/script%3E%0A%20%20%20%20%3Cscript%20src%3D%22https%3A//cdn.jsdelivr.net/npm/leaflet%401.4.0/dist/leaflet.js%22%3E%3C/script%3E%0A%20%20%20%20%3Cscript%20src%3D%22https%3A//code.jquery.com/jquery-1.12.4.min.js%22%3E%3C/script%3E%0A%20%20%20%20%3Cscript%20src%3D%22https%3A//maxcdn.bootstrapcdn.com/bootstrap/3.2.0/js/bootstrap.min.js%22%3E%3C/script%3E%0A%20%20%20%20%3Cscript%20src%3D%22https%3A//cdnjs.cloudflare.com/ajax/libs/Leaflet.awesome-markers/2.0.2/leaflet.awesome-markers.js%22%3E%3C/script%3E%0A%20%20%20%20%3Clink%20rel%3D%22stylesheet%22%20href%3D%22https%3A//cdn.jsdelivr.net/npm/leaflet%401.4.0/dist/leaflet.css%22/%3E%0A%20%20%20%20%3Clink%20rel%3D%22stylesheet%22%20href%3D%22https%3A//maxcdn.bootstrapcdn.com/bootstrap/3.2.0/css/bootstrap.min.css%22/%3E%0A%20%20%20%20%3Clink%20rel%3D%22stylesheet%22%20href%3D%22https%3A//maxcdn.bootstrapcdn.com/bootstrap/3.2.0/css/bootstrap-theme.min.css%22/%3E%0A%20%20%20%20%3Clink%20rel%3D%22stylesheet%22%20href%3D%22https%3A//maxcdn.bootstrapcdn.com/font-awesome/4.6.3/css/font-awesome.min.css%22/%3E%0A%20%20%20%20%3Clink%20rel%3D%22stylesheet%22%20href%3D%22https%3A//cdnjs.cloudflare.com/ajax/libs/Leaflet.awesome-markers/2.0.2/leaflet.awesome-markers.css%22/%3E%0A%20%20%20%20%3Clink%20rel%3D%22stylesheet%22%20href%3D%22https%3A//rawcdn.githack.com/python-visualization/folium/master/folium/templates/leaflet.awesome.rotate.css%22/%3E%0A%20%20%20%20%3Cstyle%3Ehtml%2C%20body%20%7Bwidth%3A%20100%25%3Bheight%3A%20100%25%3Bmargin%3A%200%3Bpadding%3A%200%3B%7D%3C/style%3E%0A%20%20%20%20%3Cstyle%3E%23map%20%7Bposition%3Aabsolute%3Btop%3A0%3Bbottom%3A0%3Bright%3A0%3Bleft%3A0%3B%7D%3C/style%3E%0A%20%20%20%20%0A%20%20%20%20%3Cmeta%20name%3D%22viewport%22%20content%3D%22width%3Ddevice-width%2C%0A%20%20%20%20%20%20%20%20initial-scale%3D1.0%2C%20maximum-scale%3D1.0%2C%20user-scalable%3Dno%22%20/%3E%0A%20%20%20%20%3Cstyle%3E%23map_03ab67ce1dc540f7ab1971fd544a6006%20%7B%0A%20%20%20%20%20%20%20%20position%3A%20relative%3B%0A%20%20%20%20%20%20%20%20width%3A%20100.0%25%3B%0A%20%20%20%20%20%20%20%20height%3A%20100.0%25%3B%0A%20%20%20%20%20%20%20%20left%3A%200.0%25%3B%0A%20%20%20%20%20%20%20%20top%3A%200.0%25%3B%0A%20%20%20%20%20%20%20%20%7D%0A%20%20%20%20%3C/style%3E%0A%3C/head%3E%0A%3Cbody%3E%20%20%20%20%0A%20%20%20%20%0A%20%20%20%20%3Cdiv%20class%3D%22folium-map%22%20id%3D%22map_03ab67ce1dc540f7ab1971fd544a6006%22%20%3E%3C/div%3E%0A%3C/body%3E%0A%3Cscript%3E%20%20%20%20%0A%20%20%20%20%0A%20%20%20%20%0A%20%20%20%20%20%20%20%20var%20bounds%20%3D%20null%3B%0A%20%20%20%20%0A%0A%20%20%20%20var%20map_03ab67ce1dc540f7ab1971fd544a6006%20%3D%20L.map%28%0A%20%20%20%20%20%20%20%20%27map_03ab67ce1dc540f7ab1971fd544a6006%27%2C%20%7B%0A%20%20%20%20%20%20%20%20center%3A%20%5B0.511189523538957%2C%20101.44666084225209%5D%2C%0A%20%20%20%20%20%20%20%20zoom%3A%208%2C%0A%20%20%20%20%20%20%20%20maxBounds%3A%20bounds%2C%0A%20%20%20%20%20%20%20%20layers%3A%20%5B%5D%2C%0A%20%20%20%20%20%20%20%20worldCopyJump%3A%20false%2C%0A%20%20%20%20%20%20%20%20crs%3A%20L.CRS.EPSG3857%2C%0A%20%20%20%20%20%20%20%20zoomControl%3A%20true%2C%0A%20%20%20%20%20%20%20%20%7D%29%3B%0A%0A%0A%20%20%20%20%0A%20%20%20%20var%20tile_layer_25b9d9682ca945caadd582d4bfc40add%20%3D%20L.tileLayer%28%0A%20%20%20%20%20%20%20%20%27https%3A//%7Bs%7D.tile.openstreetmap.org/%7Bz%7D/%7Bx%7D/%7By%7D.png%27%2C%0A%20%20%20%20%20%20%20%20%7B%0A%20%20%20%20%20%20%20%20%22attribution%22%3A%20null%2C%0A%20%20%20%20%20%20%20%20%22detectRetina%22%3A%20false%2C%0A%20%20%20%20%20%20%20%20%22maxNativeZoom%22%3A%2018%2C%0A%20%20%20%20%20%20%20%20%22maxZoom%22%3A%2018%2C%0A%20%20%20%20%20%20%20%20%22minZoom%22%3A%200%2C%0A%20%20%20%20%20%20%20%20%22noWrap%22%3A%20false%2C%0A%20%20%20%20%20%20%20%20%22opacity%22%3A%201%2C%0A%20%20%20%20%20%20%20%20%22subdomains%22%3A%20%22abc%22%2C%0A%20%20%20%20%20%20%20%20%22tms%22%3A%20false%0A%7D%29.addTo%28map_03ab67ce1dc540f7ab1971fd544a6006%29%3B%0A%20%20%20%20var%20tile_layer_9f9a5ca838a84ddaa7e61c2acac47e13%20%3D%20L.tileLayer%28%0A%20%20%20%20%20%20%20%20%27https%3A//earthengine.googleapis.com/v1alpha/projects/earthengine-legacy/maps/0fe7a082fd00dea8c2222d2e5fb97610-509990c1c50eabceab8b1dc300a61af9/tiles/%7Bz%7D/%7Bx%7D/%7By%7D%27%2C%0A%20%20%20%20%20%20%20%20%7B%0A%20%20%20%20%20%20%20%20%22attribution%22%3A%20%22Map%20Data%20%26copy%3B%20%3Ca%20href%3D%5C%22https%3A//earthengine.google.com/%5C%22%3EGoogle%20Earth%20Engine%3C/a%3E%22%2C%0A%20%20%20%20%20%20%20%20%22detectRetina%22%3A%20false%2C%0A%20%20%20%20%20%20%20%20%22maxNativeZoom%22%3A%2018%2C%0A%20%20%20%20%20%20%20%20%22maxZoom%22%3A%2018%2C%0A%20%20%20%20%20%20%20%20%22minZoom%22%3A%200%2C%0A%20%20%20%20%20%20%20%20%22noWrap%22%3A%20false%2C%0A%20%20%20%20%20%20%20%20%22opacity%22%3A%201%2C%0A%20%20%20%20%20%20%20%20%22subdomains%22%3A%20%22abc%22%2C%0A%20%20%20%20%20%20%20%20%22tms%22%3A%20false%0A%7D%29.addTo%28map_03ab67ce1dc540f7ab1971fd544a6006%29%3B%0A%20%20%20%20var%20tile_layer_4328ca76d9ed403c9b2d7bf841d85dbd%20%3D%20L.tileLayer%28%0A%20%20%20%20%20%20%20%20%27https%3A//earthengine.googleapis.com/v1alpha/projects/earthengine-legacy/maps/9376094aa4ab31cca203da49c0ebdc88-3d3349460cde6866a20da78e61d26d32/tiles/%7Bz%7D/%7Bx%7D/%7By%7D%27%2C%0A%20%20%20%20%20%20%20%20%7B%0A%20%20%20%20%20%20%20%20%22attribution%22%3A%20%22Map%20Data%20%26copy%3B%20%3Ca%20href%3D%5C%22https%3A//earthengine.google.com/%5C%22%3EGoogle%20Earth%20Engine%3C/a%3E%22%2C%0A%20%20%20%20%20%20%20%20%22detectRetina%22%3A%20false%2C%0A%20%20%20%20%20%20%20%20%22maxNativeZoom%22%3A%2018%2C%0A%20%20%20%20%20%20%20%20%22maxZoom%22%3A%2018%2C%0A%20%20%20%20%20%20%20%20%22minZoom%22%3A%200%2C%0A%20%20%20%20%20%20%20%20%22noWrap%22%3A%20false%2C%0A%20%20%20%20%20%20%20%20%22opacity%22%3A%201%2C%0A%20%20%20%20%20%20%20%20%22subdomains%22%3A%20%22abc%22%2C%0A%20%20%20%20%20%20%20%20%22tms%22%3A%20false%0A%7D%29.addTo%28map_03ab67ce1dc540f7ab1971fd544a6006%29%3B%0A%20%20%20%20var%20tile_layer_8df6e0b4a45c4b6081679fa81398cafb%20%3D%20L.tileLayer%28%0A%20%20%20%20%20%20%20%20%27https%3A//earthengine.googleapis.com/v1alpha/projects/earthengine-legacy/maps/20c2cd8fa21d16027debbd41b426e933-fbd5b6e2b8726b9ffcaa087bfe954afb/tiles/%7Bz%7D/%7Bx%7D/%7By%7D%27%2C%0A%20%20%20%20%20%20%20%20%7B%0A%20%20%20%20%20%20%20%20%22attribution%22%3A%20%22Map%20Data%20%26copy%3B%20%3Ca%20href%3D%5C%22https%3A//earthengine.google.com/%5C%22%3EGoogle%20Earth%20Engine%3C/a%3E%22%2C%0A%20%20%20%20%20%20%20%20%22detectRetina%22%3A%20false%2C%0A%20%20%20%20%20%20%20%20%22maxNativeZoom%22%3A%2018%2C%0A%20%20%20%20%20%20%20%20%22maxZoom%22%3A%2018%2C%0A%20%20%20%20%20%20%20%20%22minZoom%22%3A%200%2C%0A%20%20%20%20%20%20%20%20%22noWrap%22%3A%20false%2C%0A%20%20%20%20%20%20%20%20%22opacity%22%3A%201%2C%0A%20%20%20%20%20%20%20%20%22subdomains%22%3A%20%22abc%22%2C%0A%20%20%20%20%20%20%20%20%22tms%22%3A%20false%0A%7D%29.addTo%28map_03ab67ce1dc540f7ab1971fd544a6006%29%3B%0A%20%20%20%20var%20tile_layer_219d484941564068bffd5b944ab67274%20%3D%20L.tileLayer%28%0A%20%20%20%20%20%20%20%20%27https%3A//earthengine.googleapis.com/v1alpha/projects/earthengine-legacy/maps/93afc8a6e69589094fa33357dfba585e-0ba2c766df874833e6de142d3dbf30b2/tiles/%7Bz%7D/%7Bx%7D/%7By%7D%27%2C%0A%20%20%20%20%20%20%20%20%7B%0A%20%20%20%20%20%20%20%20%22attribution%22%3A%20%22Map%20Data%20%26copy%3B%20%3Ca%20href%3D%5C%22https%3A//earthengine.google.com/%5C%22%3EGoogle%20Earth%20Engine%3C/a%3E%22%2C%0A%20%20%20%20%20%20%20%20%22detectRetina%22%3A%20false%2C%0A%20%20%20%20%20%20%20%20%22maxNativeZoom%22%3A%2018%2C%0A%20%20%20%20%20%20%20%20%22maxZoom%22%3A%2018%2C%0A%20%20%20%20%20%20%20%20%22minZoom%22%3A%200%2C%0A%20%20%20%20%20%20%20%20%22noWrap%22%3A%20false%2C%0A%20%20%20%20%20%20%20%20%22opacity%22%3A%201%2C%0A%20%20%20%20%20%20%20%20%22subdomains%22%3A%20%22abc%22%2C%0A%20%20%20%20%20%20%20%20%22tms%22%3A%20false%0A%7D%29.addTo%28map_03ab67ce1dc540f7ab1971fd544a6006%29%3B%0A%20%20%20%20%0A%20%20%20%20%20%20%20%20%20%20%20%20var%20layer_control_d0d6290a86194be2a2b83b85363f9bd7%20%3D%20%7B%0A%20%20%20%20%20%20%20%20%20%20%20%20%20%20%20%20base_layers%20%3A%20%7B%20%22openstreetmap%22%20%3A%20tile_layer_25b9d9682ca945caadd582d4bfc40add%2C%20%7D%2C%0A%20%20%20%20%20%20%20%20%20%20%20%20%20%20%20%20overlays%20%3A%20%7B%20%22Precipitation%20from%20TRMM%22%20%3A%20tile_layer_9f9a5ca838a84ddaa7e61c2acac47e13%2C%22NDVI%20from%20MODIS%22%20%3A%20tile_layer_4328ca76d9ed403c9b2d7bf841d85dbd%2C%22DEM%20from%20SRTM%22%20%3A%20tile_layer_8df6e0b4a45c4b6081679fa81398cafb%2C%22LC%20from%20MODIS%22%20%3A%20tile_layer_219d484941564068bffd5b944ab67274%2C%20%7D%0A%20%20%20%20%20%20%20%20%20%20%20%20%20%20%20%20%7D%3B%0A%20%20%20%20%20%20%20%20%20%20%20%20L.control.layers%28%0A%20%20%20%20%20%20%20%20%20%20%20%20%20%20%20%20layer_control_d0d6290a86194be2a2b83b85363f9bd7.base_layers%2C%0A%20%20%20%20%20%20%20%20%20%20%20%20%20%20%20%20layer_control_d0d6290a86194be2a2b83b85363f9bd7.overlays%2C%0A%20%20%20%20%20%20%20%20%20%20%20%20%20%20%20%20%7Bposition%3A%20%27topright%27%2C%0A%20%20%20%20%20%20%20%20%20%20%20%20%20%20%20%20%20collapsed%3A%20true%2C%0A%20%20%20%20%20%20%20%20%20%20%20%20%20%20%20%20%20autoZIndex%3A%20true%0A%20%20%20%20%20%20%20%20%20%20%20%20%20%20%20%20%7D%29.addTo%28map_03ab67ce1dc540f7ab1971fd544a6006%29%3B%0A%20%20%20%20%20%20%20%20%20%20%20%20%0A%20%20%20%20%20%20%20%20%0A%3C/script%3E onload=\"this.contentDocument.open();this.contentDocument.write(    decodeURIComponent(this.getAttribute('data-html')));this.contentDocument.close();\" allowfullscreen webkitallowfullscreen mozallowfullscreen></iframe></div></div>"
            ],
            "text/plain": [
              "<folium.folium.Map at 0x7f22695169d0>"
            ]
          },
          "metadata": {}
        }
      ]
    },
    {
      "cell_type": "markdown",
      "metadata": {
        "id": "1ROzMwTsrAU6"
      },
      "source": [
        "## 1 KM"
      ]
    },
    {
      "cell_type": "code",
      "metadata": {
        "colab": {
          "base_uri": "https://localhost:8080/",
          "height": 498
        },
        "id": "F7WNU5Mmdpfh",
        "outputId": "14013743-7b64-4a27-d433-fa3edeb715f4"
      },
      "source": [
        "# Rescale from origin scale => 1x1KM\n",
        "ndvi_1km = ndvi.reproject(crs=riau_geojson.projection(), scale=1000).reduceResolution(reducer=ee.Reducer.mean(), maxPixels=1024)\n",
        "slope_1km = slope.reproject(crs=riau_geojson.projection(), scale=1000).reduceResolution(reducer=ee.Reducer.mean(), maxPixels=1024)\n",
        "lc_1km = lc.reproject(crs=riau_geojson.projection(), scale=1000).reduceResolution(reducer=ee.Reducer.mean(), maxPixels=1024)\n",
        "\n",
        "# Focus on the Region of Interest\n",
        "ndvi_1km = ndvi_1km.clip(riau_geojson)\n",
        "slope_1km = slope_1km.clip(riau_geojson)\n",
        "lc_1km = lc_1km.clip(riau_geojson)\n",
        "\n",
        "ndvi_params = {\n",
        "  'min': 0.0,\n",
        "  'max': 9000.0,\n",
        "  'palette': [\n",
        "    'FFFFFF', 'CE7E45', 'DF923D', 'F1B555', 'FCD163', '99B718', '74A901',\n",
        "    '66A000', '529400', '3E8601', '207401', '056201', '004C00', '023B01',\n",
        "    '012E01', '011D01', '011301'\n",
        "  ],\n",
        "}\n",
        "\n",
        "slope_params = {\n",
        "    'min':0, \n",
        "    'max':60\n",
        "}\n",
        "\n",
        "lc_params = {\n",
        "  'min': 1.0,\n",
        "  'max': 17.0,\n",
        "  'palette': [\n",
        "    '05450a', '086a10', '54a708', '78d203', '009900', 'c6b044', 'dcd159',\n",
        "    'dade48', 'fbff13', 'b6ff05', '27ff87', 'c24f44', 'a5a5a5', 'ff6d4c',\n",
        "    '69fff8', 'f9ffa4', '1c0dff'\n",
        "  ],\n",
        "}\n",
        "\n",
        "my_map = folium.Map(location=[lat, lon], zoom_start=8)\n",
        "my_map.add_ee_layer(ndvi_1km, ndvi_params, 'NDVI from MODIS')\n",
        "my_map.add_ee_layer(slope_1km, slope_params, 'DEM from SRTM')\n",
        "my_map.add_ee_layer(lc_1km, lc_params, 'LC from MODIS')\n",
        "folium.LayerControl().add_to(my_map)\n",
        "display(my_map)"
      ],
      "execution_count": null,
      "outputs": [
        {
          "output_type": "display_data",
          "data": {
            "text/html": [
              "<div style=\"width:100%;\"><div style=\"position:relative;width:100%;height:0;padding-bottom:60%;\"><span style=\"color:#565656\">Make this Notebook Trusted to load map: File -> Trust Notebook</span><iframe src=\"about:blank\" style=\"position:absolute;width:100%;height:100%;left:0;top:0;border:none !important;\" data-html=%3C%21DOCTYPE%20html%3E%0A%3Chead%3E%20%20%20%20%0A%20%20%20%20%3Cmeta%20http-equiv%3D%22content-type%22%20content%3D%22text/html%3B%20charset%3DUTF-8%22%20/%3E%0A%20%20%20%20%3Cscript%3EL_PREFER_CANVAS%3Dfalse%3B%20L_NO_TOUCH%3Dfalse%3B%20L_DISABLE_3D%3Dfalse%3B%3C/script%3E%0A%20%20%20%20%3Cscript%20src%3D%22https%3A//cdn.jsdelivr.net/npm/leaflet%401.4.0/dist/leaflet.js%22%3E%3C/script%3E%0A%20%20%20%20%3Cscript%20src%3D%22https%3A//code.jquery.com/jquery-1.12.4.min.js%22%3E%3C/script%3E%0A%20%20%20%20%3Cscript%20src%3D%22https%3A//maxcdn.bootstrapcdn.com/bootstrap/3.2.0/js/bootstrap.min.js%22%3E%3C/script%3E%0A%20%20%20%20%3Cscript%20src%3D%22https%3A//cdnjs.cloudflare.com/ajax/libs/Leaflet.awesome-markers/2.0.2/leaflet.awesome-markers.js%22%3E%3C/script%3E%0A%20%20%20%20%3Clink%20rel%3D%22stylesheet%22%20href%3D%22https%3A//cdn.jsdelivr.net/npm/leaflet%401.4.0/dist/leaflet.css%22/%3E%0A%20%20%20%20%3Clink%20rel%3D%22stylesheet%22%20href%3D%22https%3A//maxcdn.bootstrapcdn.com/bootstrap/3.2.0/css/bootstrap.min.css%22/%3E%0A%20%20%20%20%3Clink%20rel%3D%22stylesheet%22%20href%3D%22https%3A//maxcdn.bootstrapcdn.com/bootstrap/3.2.0/css/bootstrap-theme.min.css%22/%3E%0A%20%20%20%20%3Clink%20rel%3D%22stylesheet%22%20href%3D%22https%3A//maxcdn.bootstrapcdn.com/font-awesome/4.6.3/css/font-awesome.min.css%22/%3E%0A%20%20%20%20%3Clink%20rel%3D%22stylesheet%22%20href%3D%22https%3A//cdnjs.cloudflare.com/ajax/libs/Leaflet.awesome-markers/2.0.2/leaflet.awesome-markers.css%22/%3E%0A%20%20%20%20%3Clink%20rel%3D%22stylesheet%22%20href%3D%22https%3A//rawcdn.githack.com/python-visualization/folium/master/folium/templates/leaflet.awesome.rotate.css%22/%3E%0A%20%20%20%20%3Cstyle%3Ehtml%2C%20body%20%7Bwidth%3A%20100%25%3Bheight%3A%20100%25%3Bmargin%3A%200%3Bpadding%3A%200%3B%7D%3C/style%3E%0A%20%20%20%20%3Cstyle%3E%23map%20%7Bposition%3Aabsolute%3Btop%3A0%3Bbottom%3A0%3Bright%3A0%3Bleft%3A0%3B%7D%3C/style%3E%0A%20%20%20%20%0A%20%20%20%20%3Cmeta%20name%3D%22viewport%22%20content%3D%22width%3Ddevice-width%2C%0A%20%20%20%20%20%20%20%20initial-scale%3D1.0%2C%20maximum-scale%3D1.0%2C%20user-scalable%3Dno%22%20/%3E%0A%20%20%20%20%3Cstyle%3E%23map_119365619c2a43969ecbd32e5ad585f9%20%7B%0A%20%20%20%20%20%20%20%20position%3A%20relative%3B%0A%20%20%20%20%20%20%20%20width%3A%20100.0%25%3B%0A%20%20%20%20%20%20%20%20height%3A%20100.0%25%3B%0A%20%20%20%20%20%20%20%20left%3A%200.0%25%3B%0A%20%20%20%20%20%20%20%20top%3A%200.0%25%3B%0A%20%20%20%20%20%20%20%20%7D%0A%20%20%20%20%3C/style%3E%0A%3C/head%3E%0A%3Cbody%3E%20%20%20%20%0A%20%20%20%20%0A%20%20%20%20%3Cdiv%20class%3D%22folium-map%22%20id%3D%22map_119365619c2a43969ecbd32e5ad585f9%22%20%3E%3C/div%3E%0A%3C/body%3E%0A%3Cscript%3E%20%20%20%20%0A%20%20%20%20%0A%20%20%20%20%0A%20%20%20%20%20%20%20%20var%20bounds%20%3D%20null%3B%0A%20%20%20%20%0A%0A%20%20%20%20var%20map_119365619c2a43969ecbd32e5ad585f9%20%3D%20L.map%28%0A%20%20%20%20%20%20%20%20%27map_119365619c2a43969ecbd32e5ad585f9%27%2C%20%7B%0A%20%20%20%20%20%20%20%20center%3A%20%5B0.511189523538957%2C%20101.44666084225209%5D%2C%0A%20%20%20%20%20%20%20%20zoom%3A%208%2C%0A%20%20%20%20%20%20%20%20maxBounds%3A%20bounds%2C%0A%20%20%20%20%20%20%20%20layers%3A%20%5B%5D%2C%0A%20%20%20%20%20%20%20%20worldCopyJump%3A%20false%2C%0A%20%20%20%20%20%20%20%20crs%3A%20L.CRS.EPSG3857%2C%0A%20%20%20%20%20%20%20%20zoomControl%3A%20true%2C%0A%20%20%20%20%20%20%20%20%7D%29%3B%0A%0A%0A%20%20%20%20%0A%20%20%20%20var%20tile_layer_b15411ff6fdf45128e7941f2f2226aec%20%3D%20L.tileLayer%28%0A%20%20%20%20%20%20%20%20%27https%3A//%7Bs%7D.tile.openstreetmap.org/%7Bz%7D/%7Bx%7D/%7By%7D.png%27%2C%0A%20%20%20%20%20%20%20%20%7B%0A%20%20%20%20%20%20%20%20%22attribution%22%3A%20null%2C%0A%20%20%20%20%20%20%20%20%22detectRetina%22%3A%20false%2C%0A%20%20%20%20%20%20%20%20%22maxNativeZoom%22%3A%2018%2C%0A%20%20%20%20%20%20%20%20%22maxZoom%22%3A%2018%2C%0A%20%20%20%20%20%20%20%20%22minZoom%22%3A%200%2C%0A%20%20%20%20%20%20%20%20%22noWrap%22%3A%20false%2C%0A%20%20%20%20%20%20%20%20%22opacity%22%3A%201%2C%0A%20%20%20%20%20%20%20%20%22subdomains%22%3A%20%22abc%22%2C%0A%20%20%20%20%20%20%20%20%22tms%22%3A%20false%0A%7D%29.addTo%28map_119365619c2a43969ecbd32e5ad585f9%29%3B%0A%20%20%20%20var%20tile_layer_761a3694b55d48e283d1c51e751b966f%20%3D%20L.tileLayer%28%0A%20%20%20%20%20%20%20%20%27https%3A//earthengine.googleapis.com/v1alpha/projects/earthengine-legacy/maps/432d934d34266d384d6c4c6833b7f534-a5bab3113b5f47f7dd7a08c32a48e4ab/tiles/%7Bz%7D/%7Bx%7D/%7By%7D%27%2C%0A%20%20%20%20%20%20%20%20%7B%0A%20%20%20%20%20%20%20%20%22attribution%22%3A%20%22Map%20Data%20%26copy%3B%20%3Ca%20href%3D%5C%22https%3A//earthengine.google.com/%5C%22%3EGoogle%20Earth%20Engine%3C/a%3E%22%2C%0A%20%20%20%20%20%20%20%20%22detectRetina%22%3A%20false%2C%0A%20%20%20%20%20%20%20%20%22maxNativeZoom%22%3A%2018%2C%0A%20%20%20%20%20%20%20%20%22maxZoom%22%3A%2018%2C%0A%20%20%20%20%20%20%20%20%22minZoom%22%3A%200%2C%0A%20%20%20%20%20%20%20%20%22noWrap%22%3A%20false%2C%0A%20%20%20%20%20%20%20%20%22opacity%22%3A%201%2C%0A%20%20%20%20%20%20%20%20%22subdomains%22%3A%20%22abc%22%2C%0A%20%20%20%20%20%20%20%20%22tms%22%3A%20false%0A%7D%29.addTo%28map_119365619c2a43969ecbd32e5ad585f9%29%3B%0A%20%20%20%20var%20tile_layer_94e02636b080400b90b0e4da9ddc7806%20%3D%20L.tileLayer%28%0A%20%20%20%20%20%20%20%20%27https%3A//earthengine.googleapis.com/v1alpha/projects/earthengine-legacy/maps/111c2440e6a6cbe3de2e75991c3259d5-17fde15efb7d9d58ad01a28ea82655e0/tiles/%7Bz%7D/%7Bx%7D/%7By%7D%27%2C%0A%20%20%20%20%20%20%20%20%7B%0A%20%20%20%20%20%20%20%20%22attribution%22%3A%20%22Map%20Data%20%26copy%3B%20%3Ca%20href%3D%5C%22https%3A//earthengine.google.com/%5C%22%3EGoogle%20Earth%20Engine%3C/a%3E%22%2C%0A%20%20%20%20%20%20%20%20%22detectRetina%22%3A%20false%2C%0A%20%20%20%20%20%20%20%20%22maxNativeZoom%22%3A%2018%2C%0A%20%20%20%20%20%20%20%20%22maxZoom%22%3A%2018%2C%0A%20%20%20%20%20%20%20%20%22minZoom%22%3A%200%2C%0A%20%20%20%20%20%20%20%20%22noWrap%22%3A%20false%2C%0A%20%20%20%20%20%20%20%20%22opacity%22%3A%201%2C%0A%20%20%20%20%20%20%20%20%22subdomains%22%3A%20%22abc%22%2C%0A%20%20%20%20%20%20%20%20%22tms%22%3A%20false%0A%7D%29.addTo%28map_119365619c2a43969ecbd32e5ad585f9%29%3B%0A%20%20%20%20var%20tile_layer_83f97a020965450ca84151be50cb2798%20%3D%20L.tileLayer%28%0A%20%20%20%20%20%20%20%20%27https%3A//earthengine.googleapis.com/v1alpha/projects/earthengine-legacy/maps/7831290be80f381daa38315c123c2e03-79ae18c3dde787bf074095f341031160/tiles/%7Bz%7D/%7Bx%7D/%7By%7D%27%2C%0A%20%20%20%20%20%20%20%20%7B%0A%20%20%20%20%20%20%20%20%22attribution%22%3A%20%22Map%20Data%20%26copy%3B%20%3Ca%20href%3D%5C%22https%3A//earthengine.google.com/%5C%22%3EGoogle%20Earth%20Engine%3C/a%3E%22%2C%0A%20%20%20%20%20%20%20%20%22detectRetina%22%3A%20false%2C%0A%20%20%20%20%20%20%20%20%22maxNativeZoom%22%3A%2018%2C%0A%20%20%20%20%20%20%20%20%22maxZoom%22%3A%2018%2C%0A%20%20%20%20%20%20%20%20%22minZoom%22%3A%200%2C%0A%20%20%20%20%20%20%20%20%22noWrap%22%3A%20false%2C%0A%20%20%20%20%20%20%20%20%22opacity%22%3A%201%2C%0A%20%20%20%20%20%20%20%20%22subdomains%22%3A%20%22abc%22%2C%0A%20%20%20%20%20%20%20%20%22tms%22%3A%20false%0A%7D%29.addTo%28map_119365619c2a43969ecbd32e5ad585f9%29%3B%0A%20%20%20%20%0A%20%20%20%20%20%20%20%20%20%20%20%20var%20layer_control_8bbecddd54d6438dacb957a31d39356a%20%3D%20%7B%0A%20%20%20%20%20%20%20%20%20%20%20%20%20%20%20%20base_layers%20%3A%20%7B%20%22openstreetmap%22%20%3A%20tile_layer_b15411ff6fdf45128e7941f2f2226aec%2C%20%7D%2C%0A%20%20%20%20%20%20%20%20%20%20%20%20%20%20%20%20overlays%20%3A%20%7B%20%22NDVI%20from%20MODIS%22%20%3A%20tile_layer_761a3694b55d48e283d1c51e751b966f%2C%22DEM%20from%20SRTM%22%20%3A%20tile_layer_94e02636b080400b90b0e4da9ddc7806%2C%22LC%20from%20MODIS%22%20%3A%20tile_layer_83f97a020965450ca84151be50cb2798%2C%20%7D%0A%20%20%20%20%20%20%20%20%20%20%20%20%20%20%20%20%7D%3B%0A%20%20%20%20%20%20%20%20%20%20%20%20L.control.layers%28%0A%20%20%20%20%20%20%20%20%20%20%20%20%20%20%20%20layer_control_8bbecddd54d6438dacb957a31d39356a.base_layers%2C%0A%20%20%20%20%20%20%20%20%20%20%20%20%20%20%20%20layer_control_8bbecddd54d6438dacb957a31d39356a.overlays%2C%0A%20%20%20%20%20%20%20%20%20%20%20%20%20%20%20%20%7Bposition%3A%20%27topright%27%2C%0A%20%20%20%20%20%20%20%20%20%20%20%20%20%20%20%20%20collapsed%3A%20true%2C%0A%20%20%20%20%20%20%20%20%20%20%20%20%20%20%20%20%20autoZIndex%3A%20true%0A%20%20%20%20%20%20%20%20%20%20%20%20%20%20%20%20%7D%29.addTo%28map_119365619c2a43969ecbd32e5ad585f9%29%3B%0A%20%20%20%20%20%20%20%20%20%20%20%20%0A%20%20%20%20%20%20%20%20%0A%3C/script%3E onload=\"this.contentDocument.open();this.contentDocument.write(    decodeURIComponent(this.getAttribute('data-html')));this.contentDocument.close();\" allowfullscreen webkitallowfullscreen mozallowfullscreen></iframe></div></div>"
            ],
            "text/plain": [
              "<folium.folium.Map at 0x7f226a1f6110>"
            ]
          },
          "metadata": {}
        }
      ]
    },
    {
      "cell_type": "markdown",
      "metadata": {
        "id": "-lIVP4fPpJGi"
      },
      "source": [
        "# Projection Information"
      ]
    },
    {
      "cell_type": "code",
      "metadata": {
        "colab": {
          "base_uri": "https://localhost:8080/"
        },
        "id": "wyu_EC_3vBtV",
        "outputId": "7dc717ff-2391-4f57-f8ea-f93beba80673"
      },
      "source": [
        "print(\"Original Projection\")\n",
        "print(trmm_img.projection().getInfo())\n",
        "print(ndvi_ori.projection().getInfo())\n",
        "print(slope_ori.projection().getInfo())\n",
        "print(lc_ori.projection().getInfo())\n",
        "print()\n",
        "print(\"New Projection: 25KM\")\n",
        "print(ndvi_25km.projection().getInfo())\n",
        "print(slope_25km.projection().getInfo())\n",
        "print(lc_25km.projection().getInfo())\n",
        "print(\"New Projection: 1KM\")\n",
        "print(ndvi_1km.projection().getInfo())\n",
        "print(slope_1km.projection().getInfo())\n",
        "print(lc_1km.projection().getInfo())"
      ],
      "execution_count": null,
      "outputs": [
        {
          "output_type": "stream",
          "name": "stdout",
          "text": [
            "Original Projection\n",
            "{'type': 'Projection', 'crs': 'EPSG:4326', 'transform': [0.22457882102988036, 0, 0, 0, -0.22457882102988036, 0]}\n",
            "{'type': 'Projection', 'crs': 'EPSG:4326', 'transform': [0.008983152841195215, 0, 0, 0, -0.008983152841195215, 0]}\n",
            "{'type': 'Projection', 'crs': 'EPSG:4326', 'transform': [0.0008084837557075694, 0, 0, 0, -0.0008084837557075694, 0]}\n",
            "{'type': 'Projection', 'crs': 'EPSG:4326', 'transform': [0.004491576420597608, 0, 0, 0, -0.004491576420597608, 0]}\n",
            "\n",
            "New Projection: 25KM\n",
            "{'type': 'Projection', 'crs': 'EPSG:4326', 'transform': [0.22457882102988036, 0, 0, 0, -0.22457882102988036, 0]}\n",
            "{'type': 'Projection', 'crs': 'EPSG:4326', 'transform': [0.22457882102988036, 0, 0, 0, -0.22457882102988036, 0]}\n",
            "{'type': 'Projection', 'crs': 'EPSG:4326', 'transform': [0.22457882102988036, 0, 0, 0, -0.22457882102988036, 0]}\n",
            "New Projection: 1KM\n",
            "{'type': 'Projection', 'crs': 'EPSG:4326', 'transform': [0.008983152841195215, 0, 0, 0, -0.008983152841195215, 0]}\n",
            "{'type': 'Projection', 'crs': 'EPSG:4326', 'transform': [0.008983152841195215, 0, 0, 0, -0.008983152841195215, 0]}\n",
            "{'type': 'Projection', 'crs': 'EPSG:4326', 'transform': [0.008983152841195215, 0, 0, 0, -0.008983152841195215, 0]}\n"
          ]
        }
      ]
    },
    {
      "cell_type": "markdown",
      "metadata": {
        "id": "ItRU1J08rXZO"
      },
      "source": [
        "# Save the Satellite Images"
      ]
    },
    {
      "cell_type": "markdown",
      "metadata": {
        "id": "VPgAq4HIsg6x"
      },
      "source": [
        "## TRMM"
      ]
    },
    {
      "cell_type": "code",
      "metadata": {
        "colab": {
          "base_uri": "https://localhost:8080/"
        },
        "id": "33U3ATw0rX60",
        "outputId": "828d0fab-c9e9-46b5-e0ef-643e912b479c"
      },
      "source": [
        "task = ee.batch.Export.image.toDrive(\n",
        "    image=trmm_img,\n",
        "    description='trmm_25km',\n",
        "    folder='spatial-downscaling-trmm',\n",
        "    region=riau_geojson,\n",
        "    fileFormat='GeoTIFF'\n",
        ")\n",
        "\n",
        "task.start()\n",
        "task.status()"
      ],
      "execution_count": null,
      "outputs": [
        {
          "output_type": "execute_result",
          "data": {
            "text/plain": [
              "{'creation_timestamp_ms': 1641518114014,\n",
              " 'description': 'trmm_25km',\n",
              " 'id': 'M72Z66QW662KAX27HS62DTAZ',\n",
              " 'name': 'projects/earthengine-legacy/operations/M72Z66QW662KAX27HS62DTAZ',\n",
              " 'start_timestamp_ms': 0,\n",
              " 'state': 'READY',\n",
              " 'task_type': 'EXPORT_IMAGE',\n",
              " 'update_timestamp_ms': 1641518114014}"
            ]
          },
          "metadata": {},
          "execution_count": 25
        }
      ]
    },
    {
      "cell_type": "markdown",
      "metadata": {
        "id": "flnfph4msixD"
      },
      "source": [
        "## NDVI"
      ]
    },
    {
      "cell_type": "code",
      "metadata": {
        "colab": {
          "base_uri": "https://localhost:8080/"
        },
        "id": "X4seQhCpsgZx",
        "outputId": "ec54dab7-e7e5-45a3-ecb1-442ff41a87ee"
      },
      "source": [
        "task = ee.batch.Export.image.toDrive(\n",
        "    image=ndvi_25km,\n",
        "    description='ndvi_25km',\n",
        "    folder='spatial-downscaling-trmm',\n",
        "    region=riau_geojson,\n",
        "    fileFormat='GeoTIFF'\n",
        ")\n",
        "\n",
        "task.start()\n",
        "task.status()"
      ],
      "execution_count": null,
      "outputs": [
        {
          "output_type": "execute_result",
          "data": {
            "text/plain": [
              "{'creation_timestamp_ms': 1641518122654,\n",
              " 'description': 'ndvi_25km',\n",
              " 'id': 'F4MA2G7WARCY6ATDCGLJKJBC',\n",
              " 'name': 'projects/earthengine-legacy/operations/F4MA2G7WARCY6ATDCGLJKJBC',\n",
              " 'start_timestamp_ms': 0,\n",
              " 'state': 'READY',\n",
              " 'task_type': 'EXPORT_IMAGE',\n",
              " 'update_timestamp_ms': 1641518122654}"
            ]
          },
          "metadata": {},
          "execution_count": 26
        }
      ]
    },
    {
      "cell_type": "code",
      "metadata": {
        "colab": {
          "base_uri": "https://localhost:8080/"
        },
        "id": "01uyxxcNvRNo",
        "outputId": "146d3d53-5a06-4c1c-ac8d-d9baf290e5f6"
      },
      "source": [
        "task = ee.batch.Export.image.toDrive(\n",
        "    image=ndvi_1km,\n",
        "    description='ndvi_1km',\n",
        "    folder='spatial-downscaling-trmm',\n",
        "    region=riau_geojson,\n",
        "    fileFormat='GeoTIFF'\n",
        ")\n",
        "\n",
        "task.start()\n",
        "task.status()"
      ],
      "execution_count": null,
      "outputs": [
        {
          "output_type": "execute_result",
          "data": {
            "text/plain": [
              "{'creation_timestamp_ms': 1641518127334,\n",
              " 'description': 'ndvi_1km',\n",
              " 'id': 'I35HO7AYDKHY5N52UK2DSMPH',\n",
              " 'name': 'projects/earthengine-legacy/operations/I35HO7AYDKHY5N52UK2DSMPH',\n",
              " 'start_timestamp_ms': 0,\n",
              " 'state': 'READY',\n",
              " 'task_type': 'EXPORT_IMAGE',\n",
              " 'update_timestamp_ms': 1641518127334}"
            ]
          },
          "metadata": {},
          "execution_count": 27
        }
      ]
    },
    {
      "cell_type": "markdown",
      "metadata": {
        "id": "O6Y0Fa4OszVS"
      },
      "source": [
        "## DEM"
      ]
    },
    {
      "cell_type": "code",
      "metadata": {
        "colab": {
          "base_uri": "https://localhost:8080/"
        },
        "id": "oeiyZ19fszVS",
        "outputId": "68cb4a33-3bd3-4112-c1e9-5f1674b37397"
      },
      "source": [
        "task = ee.batch.Export.image.toDrive(\n",
        "    image=slope_25km,\n",
        "    description='dem_25km',\n",
        "    folder='spatial-downscaling-trmm',\n",
        "    region=riau_geojson,\n",
        "    fileFormat='GeoTIFF'\n",
        ")\n",
        "\n",
        "task.start()\n",
        "task.status()"
      ],
      "execution_count": null,
      "outputs": [
        {
          "output_type": "execute_result",
          "data": {
            "text/plain": [
              "{'creation_timestamp_ms': 1641518132463,\n",
              " 'description': 'dem_25km',\n",
              " 'id': '457EG45WRA4BCBTB3JRU5JK6',\n",
              " 'name': 'projects/earthengine-legacy/operations/457EG45WRA4BCBTB3JRU5JK6',\n",
              " 'start_timestamp_ms': 0,\n",
              " 'state': 'READY',\n",
              " 'task_type': 'EXPORT_IMAGE',\n",
              " 'update_timestamp_ms': 1641518132463}"
            ]
          },
          "metadata": {},
          "execution_count": 28
        }
      ]
    },
    {
      "cell_type": "code",
      "metadata": {
        "colab": {
          "base_uri": "https://localhost:8080/"
        },
        "id": "p_Wo4UvhvqyS",
        "outputId": "57958485-24dc-489f-db6d-671f5bd544e6"
      },
      "source": [
        "task = ee.batch.Export.image.toDrive(\n",
        "    image=slope_1km,\n",
        "    description='dem_1km',\n",
        "    folder='spatial-downscaling-trmm',\n",
        "    region=riau_geojson,\n",
        "    fileFormat='GeoTIFF'\n",
        ")\n",
        "\n",
        "task.start()\n",
        "task.status()"
      ],
      "execution_count": null,
      "outputs": [
        {
          "output_type": "execute_result",
          "data": {
            "text/plain": [
              "{'creation_timestamp_ms': 1641518276250,\n",
              " 'description': 'dem_1km',\n",
              " 'id': 'G6JDKOVNL54KR6N6XIDVXNZZ',\n",
              " 'name': 'projects/earthengine-legacy/operations/G6JDKOVNL54KR6N6XIDVXNZZ',\n",
              " 'start_timestamp_ms': 0,\n",
              " 'state': 'READY',\n",
              " 'task_type': 'EXPORT_IMAGE',\n",
              " 'update_timestamp_ms': 1641518276250}"
            ]
          },
          "metadata": {},
          "execution_count": 29
        }
      ]
    },
    {
      "cell_type": "markdown",
      "metadata": {
        "id": "BlIojXg1szxf"
      },
      "source": [
        "## Land Cover"
      ]
    },
    {
      "cell_type": "code",
      "metadata": {
        "colab": {
          "base_uri": "https://localhost:8080/"
        },
        "id": "V5CO60wCszxf",
        "outputId": "63919a38-5056-4f69-9da6-6cc52a0c5d88"
      },
      "source": [
        "task = ee.batch.Export.image.toDrive(\n",
        "    image=lc_25km,\n",
        "    description='lc_25km',\n",
        "    folder='spatial-downscaling-trmm',\n",
        "    region=riau_geojson,\n",
        "    fileFormat='GeoTIFF'\n",
        ")\n",
        "\n",
        "task.start()\n",
        "task.status()"
      ],
      "execution_count": null,
      "outputs": [
        {
          "output_type": "execute_result",
          "data": {
            "text/plain": [
              "{'creation_timestamp_ms': 1641518281936,\n",
              " 'description': 'lc_25km',\n",
              " 'id': 'UYLXZUWIKZN3CRSHVGQZWZKR',\n",
              " 'name': 'projects/earthengine-legacy/operations/UYLXZUWIKZN3CRSHVGQZWZKR',\n",
              " 'start_timestamp_ms': 0,\n",
              " 'state': 'READY',\n",
              " 'task_type': 'EXPORT_IMAGE',\n",
              " 'update_timestamp_ms': 1641518281936}"
            ]
          },
          "metadata": {},
          "execution_count": 30
        }
      ]
    },
    {
      "cell_type": "code",
      "metadata": {
        "colab": {
          "base_uri": "https://localhost:8080/"
        },
        "id": "vBK5NFT2we39",
        "outputId": "d05895b0-a0bc-44bc-e2d1-522367c638a3"
      },
      "source": [
        "task = ee.batch.Export.image.toDrive(\n",
        "    image=lc_1km,\n",
        "    description='lc_1km',\n",
        "    folder='spatial-downscaling-trmm',\n",
        "    region=riau_geojson,\n",
        "    fileFormat='GeoTIFF'\n",
        ")\n",
        "\n",
        "task.start()\n",
        "task.status()"
      ],
      "execution_count": null,
      "outputs": [
        {
          "output_type": "execute_result",
          "data": {
            "text/plain": [
              "{'creation_timestamp_ms': 1641518287306,\n",
              " 'description': 'lc_1km',\n",
              " 'id': 'WRV5KSUCQJV7UNAVG4Y5BB2J',\n",
              " 'name': 'projects/earthengine-legacy/operations/WRV5KSUCQJV7UNAVG4Y5BB2J',\n",
              " 'start_timestamp_ms': 0,\n",
              " 'state': 'READY',\n",
              " 'task_type': 'EXPORT_IMAGE',\n",
              " 'update_timestamp_ms': 1641518287306}"
            ]
          },
          "metadata": {},
          "execution_count": 31
        }
      ]
    },
    {
      "cell_type": "markdown",
      "metadata": {
        "id": "hGChGWbeK0Ha"
      },
      "source": [
        "# Build The Machine Learning Model"
      ]
    },
    {
      "cell_type": "code",
      "source": [
        "from google.colab import drive\n",
        "drive.mount('/content/drive')"
      ],
      "metadata": {
        "colab": {
          "base_uri": "https://localhost:8080/"
        },
        "id": "YGiuBiYDH4yK",
        "outputId": "cfcb0fc1-8900-46ae-af93-173ea534737c"
      },
      "execution_count": null,
      "outputs": [
        {
          "output_type": "stream",
          "name": "stdout",
          "text": [
            "Mounted at /content/drive\n"
          ]
        }
      ]
    },
    {
      "cell_type": "code",
      "metadata": {
        "id": "wLT6XOWuQaUK",
        "colab": {
          "base_uri": "https://localhost:8080/"
        },
        "outputId": "682fdc2c-ae35-4c03-b050-03b2611414a5"
      },
      "source": [
        "# ! pip install georasters\n",
        "\n",
        "import georasters as gr\n",
        "\n",
        "trmm_25km = gr.from_file('/content/drive/MyDrive/spatial-downscaling-trmm/trmm_25km.tif')\n",
        "ndvi_25km = gr.from_file('/content/drive/MyDrive/spatial-downscaling-trmm/ndvi_25km.tif')\n",
        "dem_25km = gr.from_file('/content/drive/MyDrive/spatial-downscaling-trmm/dem_25km.tif')\n",
        "lc_25km = gr.from_file('/content/drive/MyDrive/spatial-downscaling-trmm/lc_25km.tif')"
      ],
      "execution_count": null,
      "outputs": [
        {
          "output_type": "stream",
          "name": "stderr",
          "text": [
            "/usr/local/lib/python3.7/dist-packages/geopandas/_compat.py:115: UserWarning: The Shapely GEOS version (3.9.1-CAPI-1.14.2) is incompatible with the GEOS version PyGEOS was compiled with (3.10.1-CAPI-1.16.0). Conversions between both will be slow.\n",
            "  shapely_geos_version, geos_capi_version_string\n"
          ]
        }
      ]
    },
    {
      "cell_type": "code",
      "metadata": {
        "colab": {
          "base_uri": "https://localhost:8080/"
        },
        "id": "viFmMNyvpSjv",
        "outputId": "5561164a-c300-4f7d-8470-722ba56a4bcd"
      },
      "source": [
        "print(trmm_25km.raster.shape)\n",
        "print(ndvi_25km.raster.shape)\n",
        "print(dem_25km.raster.shape)\n",
        "print(lc_25km.raster.shape)"
      ],
      "execution_count": null,
      "outputs": [
        {
          "output_type": "stream",
          "name": "stdout",
          "text": [
            "(18, 18)\n",
            "(18, 18)\n",
            "(18, 18)\n",
            "(18, 18)\n"
          ]
        }
      ]
    },
    {
      "cell_type": "markdown",
      "metadata": {
        "id": "6_E33A0CW7QW"
      },
      "source": [
        "## Visualize the satellite images"
      ]
    },
    {
      "cell_type": "code",
      "source": [
        "import matplotlib.pyplot as plt\n",
        "\n",
        "fig, ax  = plt.subplots(1, 4, figsize=(20, 5))\n",
        "ax[0].matshow(trmm_25km.raster)\n",
        "ax[0].set_title('TRMM (25 KM)')\n",
        "ax[0].axis('off')\n",
        "ax[1].matshow(dem_25km.raster)\n",
        "ax[1].set_title('DEM (25 KM)')\n",
        "ax[1].axis('off')\n",
        "ax[2].matshow(ndvi_25km.raster)\n",
        "ax[2].set_title('NDVI (25 KM)')\n",
        "ax[2].axis('off')\n",
        "ax[3].matshow(lc_25km.raster)\n",
        "ax[3].set_title('LC (25 KM)')\n",
        "ax[3].axis('off')\n",
        "\n",
        "plt.savefig('Figure 2.png', dpi=300)\n",
        "plt.show()"
      ],
      "metadata": {
        "colab": {
          "base_uri": "https://localhost:8080/",
          "height": 267
        },
        "id": "VJDI3vcWIe5K",
        "outputId": "2b6c1993-26c6-4556-cc98-25718d637bf9"
      },
      "execution_count": null,
      "outputs": [
        {
          "output_type": "display_data",
          "data": {
            "image/png": "[encoded data removed]",
            "text/plain": [
              "<Figure size 1440x360 with 4 Axes>"
            ]
          },
          "metadata": {
            "needs_background": "light"
          }
        }
      ]
    },
    {
      "cell_type": "code",
      "source": [
        "ndvi_1km = gr.from_file('/content/drive/MyDrive/spatial-downscaling-trmm/ndvi_1km.tif')\n",
        "dem_1km = gr.from_file('/content/drive/MyDrive/spatial-downscaling-trmm/dem_1km.tif')\n",
        "lc_1km = gr.from_file('/content/drive/MyDrive/spatial-downscaling-trmm/lc_1km.tif')\n",
        "\n",
        "fig, ax  = plt.subplots(1, 3, figsize=(15, 5))\n",
        "\n",
        "ax[0].matshow(dem_1km.raster)\n",
        "ax[0].set_title('DEM (1 KM)')\n",
        "ax[0].axis('off')\n",
        "ax[1].matshow(ndvi_1km.raster)\n",
        "ax[1].set_title('NDVI (1 KM)')\n",
        "ax[1].axis('off')\n",
        "ax[2].matshow(lc_1km.raster)\n",
        "ax[2].set_title('LC (1 KM)')\n",
        "ax[2].axis('off')\n",
        "\n",
        "plt.savefig('Figure 3.png', dpi=300)\n",
        "plt.show()"
      ],
      "metadata": {
        "colab": {
          "base_uri": "https://localhost:8080/",
          "height": 322
        },
        "id": "cqZqyTY2MD4x",
        "outputId": "ae564dfa-28b7-43b3-d0c2-55eeb2eb5a73"
      },
      "execution_count": null,
      "outputs": [
        {
          "output_type": "display_data",
          "data": {
            "image/png": "[encoded data removed]",
            "text/plain": [
              "<Figure size 1080x360 with 3 Axes>"
            ]
          },
          "metadata": {
            "needs_background": "light"
          }
        }
      ]
    },
    {
      "cell_type": "markdown",
      "metadata": {
        "id": "ZG7ui0iPXGm0"
      },
      "source": [
        "## Prepare The Dataframe"
      ]
    },
    {
      "cell_type": "code",
      "metadata": {
        "id": "Nh0pLJMaRphd"
      },
      "source": [
        "def prepare_df(data, colnames):\n",
        "  df = data.to_pandas()\n",
        "  # df = df.drop(['x', 'y'], axis=1)\n",
        "  df.columns = ['row', 'col', colnames, 'x', 'y']\n",
        "  df['coordinates'] = df['row'].astype('str') + df['col'].astype('str')\n",
        "  # df = df.drop(['row', 'col'], axis=1)\n",
        "  return df"
      ],
      "execution_count": null,
      "outputs": []
    },
    {
      "cell_type": "code",
      "metadata": {
        "id": "_xhqfp29RmaK"
      },
      "source": [
        "ndvi_25km_df = prepare_df(ndvi_25km, 'ndvi')\n",
        "dem_25km_df = prepare_df(dem_25km, 'dem')\n",
        "lc_25km_df = prepare_df(lc_25km, 'land_cover')\n",
        "trmm_25km_df = prepare_df(trmm_25km, 'precipitation')"
      ],
      "execution_count": null,
      "outputs": []
    },
    {
      "cell_type": "code",
      "metadata": {
        "colab": {
          "base_uri": "https://localhost:8080/"
        },
        "id": "pRXa-XGLTtjS",
        "outputId": "9d5abe7d-3072-4612-92ee-6396dea810b5"
      },
      "source": [
        "final_25km_df = trmm_25km_df.merge(lc_25km_df, on='coordinates').merge(ndvi_25km_df, on='coordinates').merge(dem_25km_df, on='coordinates')\n",
        "print(final_25km_df.shape)\n",
        "final_25km_df.head()"
      ],
      "execution_count": null,
      "outputs": [
        {
          "output_type": "stream",
          "name": "stdout",
          "text": [
            "(173, 21)\n"
          ]
        },
        {
          "output_type": "execute_result",
          "data": {
            "text/html": [
              "\n",
              "  <div id=\"df-4c5beeb5-e450-4fe6-8acc-57804fc18fa0\">\n",
              "    <div class=\"colab-df-container\">\n",
              "      <div>\n",
              "<style scoped>\n",
              "    .dataframe tbody tr th:only-of-type {\n",
              "        vertical-align: middle;\n",
              "    }\n",
              "\n",
              "    .dataframe tbody tr th {\n",
              "        vertical-align: top;\n",
              "    }\n",
              "\n",
              "    .dataframe thead th {\n",
              "        text-align: right;\n",
              "    }\n",
              "</style>\n",
              "<table border=\"1\" class=\"dataframe\">\n",
              "  <thead>\n",
              "    <tr style=\"text-align: right;\">\n",
              "      <th></th>\n",
              "      <th>row_x</th>\n",
              "      <th>col_x</th>\n",
              "      <th>precipitation</th>\n",
              "      <th>x_x</th>\n",
              "      <th>y_x</th>\n",
              "      <th>coordinates</th>\n",
              "      <th>row_y</th>\n",
              "      <th>col_y</th>\n",
              "      <th>land_cover</th>\n",
              "      <th>x_y</th>\n",
              "      <th>y_y</th>\n",
              "      <th>row_x</th>\n",
              "      <th>col_x</th>\n",
              "      <th>ndvi</th>\n",
              "      <th>x_x</th>\n",
              "      <th>y_x</th>\n",
              "      <th>row_y</th>\n",
              "      <th>col_y</th>\n",
              "      <th>dem</th>\n",
              "      <th>x_y</th>\n",
              "      <th>y_y</th>\n",
              "    </tr>\n",
              "  </thead>\n",
              "  <tbody>\n",
              "    <tr>\n",
              "      <th>0</th>\n",
              "      <td>1</td>\n",
              "      <td>1</td>\n",
              "      <td>0.353415</td>\n",
              "      <td>100.162154</td>\n",
              "      <td>2.694946</td>\n",
              "      <td>11</td>\n",
              "      <td>1</td>\n",
              "      <td>1</td>\n",
              "      <td>17.0</td>\n",
              "      <td>100.162154</td>\n",
              "      <td>2.694946</td>\n",
              "      <td>1</td>\n",
              "      <td>1</td>\n",
              "      <td>5348.822964</td>\n",
              "      <td>100.162154</td>\n",
              "      <td>2.694946</td>\n",
              "      <td>1</td>\n",
              "      <td>1</td>\n",
              "      <td>0.006042</td>\n",
              "      <td>100.162154</td>\n",
              "      <td>2.694946</td>\n",
              "    </tr>\n",
              "    <tr>\n",
              "      <th>1</th>\n",
              "      <td>2</td>\n",
              "      <td>1</td>\n",
              "      <td>0.300940</td>\n",
              "      <td>100.162154</td>\n",
              "      <td>2.470367</td>\n",
              "      <td>21</td>\n",
              "      <td>2</td>\n",
              "      <td>1</td>\n",
              "      <td>8.0</td>\n",
              "      <td>100.162154</td>\n",
              "      <td>2.470367</td>\n",
              "      <td>2</td>\n",
              "      <td>1</td>\n",
              "      <td>6153.956522</td>\n",
              "      <td>100.162154</td>\n",
              "      <td>2.470367</td>\n",
              "      <td>2</td>\n",
              "      <td>1</td>\n",
              "      <td>0.016921</td>\n",
              "      <td>100.162154</td>\n",
              "      <td>2.470367</td>\n",
              "    </tr>\n",
              "    <tr>\n",
              "      <th>2</th>\n",
              "      <td>3</td>\n",
              "      <td>1</td>\n",
              "      <td>0.289074</td>\n",
              "      <td>100.162154</td>\n",
              "      <td>2.245788</td>\n",
              "      <td>31</td>\n",
              "      <td>3</td>\n",
              "      <td>1</td>\n",
              "      <td>2.0</td>\n",
              "      <td>100.162154</td>\n",
              "      <td>2.245788</td>\n",
              "      <td>3</td>\n",
              "      <td>1</td>\n",
              "      <td>6908.739130</td>\n",
              "      <td>100.162154</td>\n",
              "      <td>2.245788</td>\n",
              "      <td>3</td>\n",
              "      <td>1</td>\n",
              "      <td>0.025218</td>\n",
              "      <td>100.162154</td>\n",
              "      <td>2.245788</td>\n",
              "    </tr>\n",
              "    <tr>\n",
              "      <th>3</th>\n",
              "      <td>3</td>\n",
              "      <td>2</td>\n",
              "      <td>0.289074</td>\n",
              "      <td>100.386733</td>\n",
              "      <td>2.245788</td>\n",
              "      <td>32</td>\n",
              "      <td>3</td>\n",
              "      <td>2</td>\n",
              "      <td>17.0</td>\n",
              "      <td>100.386733</td>\n",
              "      <td>2.245788</td>\n",
              "      <td>3</td>\n",
              "      <td>2</td>\n",
              "      <td>5233.732372</td>\n",
              "      <td>100.386733</td>\n",
              "      <td>2.245788</td>\n",
              "      <td>3</td>\n",
              "      <td>2</td>\n",
              "      <td>0.002702</td>\n",
              "      <td>100.386733</td>\n",
              "      <td>2.245788</td>\n",
              "    </tr>\n",
              "    <tr>\n",
              "      <th>4</th>\n",
              "      <td>3</td>\n",
              "      <td>3</td>\n",
              "      <td>0.277604</td>\n",
              "      <td>100.611312</td>\n",
              "      <td>2.245788</td>\n",
              "      <td>33</td>\n",
              "      <td>3</td>\n",
              "      <td>3</td>\n",
              "      <td>17.0</td>\n",
              "      <td>100.611312</td>\n",
              "      <td>2.245788</td>\n",
              "      <td>3</td>\n",
              "      <td>3</td>\n",
              "      <td>4966.967133</td>\n",
              "      <td>100.611312</td>\n",
              "      <td>2.245788</td>\n",
              "      <td>3</td>\n",
              "      <td>3</td>\n",
              "      <td>0.027595</td>\n",
              "      <td>100.611312</td>\n",
              "      <td>2.245788</td>\n",
              "    </tr>\n",
              "  </tbody>\n",
              "</table>\n",
              "</div>\n",
              "      <button class=\"colab-df-convert\" onclick=\"convertToInteractive('df-4c5beeb5-e450-4fe6-8acc-57804fc18fa0')\"\n",
              "              title=\"Convert this dataframe to an interactive table.\"\n",
              "              style=\"display:none;\">\n",
              "        \n",
              "  <svg xmlns=\"http://www.w3.org/2000/svg\" height=\"24px\"viewBox=\"0 0 24 24\"\n",
              "       width=\"24px\">\n",
              "    <path d=\"M0 0h24v24H0V0z\" fill=\"none\"/>\n",
              "    <path d=\"M18.56 5.44l.94 2.06.94-2.06 2.06-.94-2.06-.94-.94-2.06-.94 2.06-2.06.94zm-11 1L8.5 8.5l.94-2.06 2.06-.94-2.06-.94L8.5 2.5l-.94 2.06-2.06.94zm10 10l.94 2.06.94-2.06 2.06-.94-2.06-.94-.94-2.06-.94 2.06-2.06.94z\"/><path d=\"M17.41 7.96l-1.37-1.37c-.4-.4-.92-.59-1.43-.59-.52 0-1.04.2-1.43.59L10.3 9.45l-7.72 7.72c-.78.78-.78 2.05 0 2.83L4 21.41c.39.39.9.59 1.41.59.51 0 1.02-.2 1.41-.59l7.78-7.78 2.81-2.81c.8-.78.8-2.07 0-2.86zM5.41 20L4 18.59l7.72-7.72 1.47 1.35L5.41 20z\"/>\n",
              "  </svg>\n",
              "      </button>\n",
              "      \n",
              "  <style>\n",
              "    .colab-df-container {\n",
              "      display:flex;\n",
              "      flex-wrap:wrap;\n",
              "      gap: 12px;\n",
              "    }\n",
              "\n",
              "    .colab-df-convert {\n",
              "      background-color: #E8F0FE;\n",
              "      border: none;\n",
              "      border-radius: 50%;\n",
              "      cursor: pointer;\n",
              "      display: none;\n",
              "      fill: #1967D2;\n",
              "      height: 32px;\n",
              "      padding: 0 0 0 0;\n",
              "      width: 32px;\n",
              "    }\n",
              "\n",
              "    .colab-df-convert:hover {\n",
              "      background-color: #E2EBFA;\n",
              "      box-shadow: 0px 1px 2px rgba(60, 64, 67, 0.3), 0px 1px 3px 1px rgba(60, 64, 67, 0.15);\n",
              "      fill: #174EA6;\n",
              "    }\n",
              "\n",
              "    [theme=dark] .colab-df-convert {\n",
              "      background-color: #3B4455;\n",
              "      fill: #D2E3FC;\n",
              "    }\n",
              "\n",
              "    [theme=dark] .colab-df-convert:hover {\n",
              "      background-color: #434B5C;\n",
              "      box-shadow: 0px 1px 3px 1px rgba(0, 0, 0, 0.15);\n",
              "      filter: drop-shadow(0px 1px 2px rgba(0, 0, 0, 0.3));\n",
              "      fill: #FFFFFF;\n",
              "    }\n",
              "  </style>\n",
              "\n",
              "      <script>\n",
              "        const buttonEl =\n",
              "          document.querySelector('#df-4c5beeb5-e450-4fe6-8acc-57804fc18fa0 button.colab-df-convert');\n",
              "        buttonEl.style.display =\n",
              "          google.colab.kernel.accessAllowed ? 'block' : 'none';\n",
              "\n",
              "        async function convertToInteractive(key) {\n",
              "          const element = document.querySelector('#df-4c5beeb5-e450-4fe6-8acc-57804fc18fa0');\n",
              "          const dataTable =\n",
              "            await google.colab.kernel.invokeFunction('convertToInteractive',\n",
              "                                                     [key], {});\n",
              "          if (!dataTable) return;\n",
              "\n",
              "          const docLinkHtml = 'Like what you see? Visit the ' +\n",
              "            '<a target=\"_blank\" href=https://colab.research.google.com/notebooks/data_table.ipynb>data table notebook</a>'\n",
              "            + ' to learn more about interactive tables.';\n",
              "          element.innerHTML = '';\n",
              "          dataTable['output_type'] = 'display_data';\n",
              "          await google.colab.output.renderOutput(dataTable, element);\n",
              "          const docLink = document.createElement('div');\n",
              "          docLink.innerHTML = docLinkHtml;\n",
              "          element.appendChild(docLink);\n",
              "        }\n",
              "      </script>\n",
              "    </div>\n",
              "  </div>\n",
              "  "
            ],
            "text/plain": [
              "   row_x  col_x  precipitation  ...       dem         x_y       y_y\n",
              "0      1      1       0.353415  ...  0.006042  100.162154  2.694946\n",
              "1      2      1       0.300940  ...  0.016921  100.162154  2.470367\n",
              "2      3      1       0.289074  ...  0.025218  100.162154  2.245788\n",
              "3      3      2       0.289074  ...  0.002702  100.386733  2.245788\n",
              "4      3      3       0.277604  ...  0.027595  100.611312  2.245788\n",
              "\n",
              "[5 rows x 21 columns]"
            ]
          },
          "metadata": {},
          "execution_count": 71
        }
      ]
    },
    {
      "cell_type": "code",
      "metadata": {
        "colab": {
          "base_uri": "https://localhost:8080/"
        },
        "id": "f8DGY-hjsj-G",
        "outputId": "3c29a213-dbf8-4bff-e029-28aaf962e7d2"
      },
      "source": [
        "data_for_modeling = final_25km_df[['coordinates', 'land_cover', 'ndvi', 'dem', 'precipitation']]\n",
        "data_for_modeling.head()"
      ],
      "execution_count": null,
      "outputs": [
        {
          "output_type": "execute_result",
          "data": {
            "text/html": [
              "\n",
              "  <div id=\"df-af5146d4-b266-41a0-9dd0-a48b993e20b0\">\n",
              "    <div class=\"colab-df-container\">\n",
              "      <div>\n",
              "<style scoped>\n",
              "    .dataframe tbody tr th:only-of-type {\n",
              "        vertical-align: middle;\n",
              "    }\n",
              "\n",
              "    .dataframe tbody tr th {\n",
              "        vertical-align: top;\n",
              "    }\n",
              "\n",
              "    .dataframe thead th {\n",
              "        text-align: right;\n",
              "    }\n",
              "</style>\n",
              "<table border=\"1\" class=\"dataframe\">\n",
              "  <thead>\n",
              "    <tr style=\"text-align: right;\">\n",
              "      <th></th>\n",
              "      <th>coordinates</th>\n",
              "      <th>land_cover</th>\n",
              "      <th>ndvi</th>\n",
              "      <th>dem</th>\n",
              "      <th>precipitation</th>\n",
              "    </tr>\n",
              "  </thead>\n",
              "  <tbody>\n",
              "    <tr>\n",
              "      <th>0</th>\n",
              "      <td>11</td>\n",
              "      <td>17.0</td>\n",
              "      <td>5348.822964</td>\n",
              "      <td>0.006042</td>\n",
              "      <td>0.353415</td>\n",
              "    </tr>\n",
              "    <tr>\n",
              "      <th>1</th>\n",
              "      <td>21</td>\n",
              "      <td>8.0</td>\n",
              "      <td>6153.956522</td>\n",
              "      <td>0.016921</td>\n",
              "      <td>0.300940</td>\n",
              "    </tr>\n",
              "    <tr>\n",
              "      <th>2</th>\n",
              "      <td>31</td>\n",
              "      <td>2.0</td>\n",
              "      <td>6908.739130</td>\n",
              "      <td>0.025218</td>\n",
              "      <td>0.289074</td>\n",
              "    </tr>\n",
              "    <tr>\n",
              "      <th>3</th>\n",
              "      <td>32</td>\n",
              "      <td>17.0</td>\n",
              "      <td>5233.732372</td>\n",
              "      <td>0.002702</td>\n",
              "      <td>0.289074</td>\n",
              "    </tr>\n",
              "    <tr>\n",
              "      <th>4</th>\n",
              "      <td>33</td>\n",
              "      <td>17.0</td>\n",
              "      <td>4966.967133</td>\n",
              "      <td>0.027595</td>\n",
              "      <td>0.277604</td>\n",
              "    </tr>\n",
              "  </tbody>\n",
              "</table>\n",
              "</div>\n",
              "      <button class=\"colab-df-convert\" onclick=\"convertToInteractive('df-af5146d4-b266-41a0-9dd0-a48b993e20b0')\"\n",
              "              title=\"Convert this dataframe to an interactive table.\"\n",
              "              style=\"display:none;\">\n",
              "        \n",
              "  <svg xmlns=\"http://www.w3.org/2000/svg\" height=\"24px\"viewBox=\"0 0 24 24\"\n",
              "       width=\"24px\">\n",
              "    <path d=\"M0 0h24v24H0V0z\" fill=\"none\"/>\n",
              "    <path d=\"M18.56 5.44l.94 2.06.94-2.06 2.06-.94-2.06-.94-.94-2.06-.94 2.06-2.06.94zm-11 1L8.5 8.5l.94-2.06 2.06-.94-2.06-.94L8.5 2.5l-.94 2.06-2.06.94zm10 10l.94 2.06.94-2.06 2.06-.94-2.06-.94-.94-2.06-.94 2.06-2.06.94z\"/><path d=\"M17.41 7.96l-1.37-1.37c-.4-.4-.92-.59-1.43-.59-.52 0-1.04.2-1.43.59L10.3 9.45l-7.72 7.72c-.78.78-.78 2.05 0 2.83L4 21.41c.39.39.9.59 1.41.59.51 0 1.02-.2 1.41-.59l7.78-7.78 2.81-2.81c.8-.78.8-2.07 0-2.86zM5.41 20L4 18.59l7.72-7.72 1.47 1.35L5.41 20z\"/>\n",
              "  </svg>\n",
              "      </button>\n",
              "      \n",
              "  <style>\n",
              "    .colab-df-container {\n",
              "      display:flex;\n",
              "      flex-wrap:wrap;\n",
              "      gap: 12px;\n",
              "    }\n",
              "\n",
              "    .colab-df-convert {\n",
              "      background-color: #E8F0FE;\n",
              "      border: none;\n",
              "      border-radius: 50%;\n",
              "      cursor: pointer;\n",
              "      display: none;\n",
              "      fill: #1967D2;\n",
              "      height: 32px;\n",
              "      padding: 0 0 0 0;\n",
              "      width: 32px;\n",
              "    }\n",
              "\n",
              "    .colab-df-convert:hover {\n",
              "      background-color: #E2EBFA;\n",
              "      box-shadow: 0px 1px 2px rgba(60, 64, 67, 0.3), 0px 1px 3px 1px rgba(60, 64, 67, 0.15);\n",
              "      fill: #174EA6;\n",
              "    }\n",
              "\n",
              "    [theme=dark] .colab-df-convert {\n",
              "      background-color: #3B4455;\n",
              "      fill: #D2E3FC;\n",
              "    }\n",
              "\n",
              "    [theme=dark] .colab-df-convert:hover {\n",
              "      background-color: #434B5C;\n",
              "      box-shadow: 0px 1px 3px 1px rgba(0, 0, 0, 0.15);\n",
              "      filter: drop-shadow(0px 1px 2px rgba(0, 0, 0, 0.3));\n",
              "      fill: #FFFFFF;\n",
              "    }\n",
              "  </style>\n",
              "\n",
              "      <script>\n",
              "        const buttonEl =\n",
              "          document.querySelector('#df-af5146d4-b266-41a0-9dd0-a48b993e20b0 button.colab-df-convert');\n",
              "        buttonEl.style.display =\n",
              "          google.colab.kernel.accessAllowed ? 'block' : 'none';\n",
              "\n",
              "        async function convertToInteractive(key) {\n",
              "          const element = document.querySelector('#df-af5146d4-b266-41a0-9dd0-a48b993e20b0');\n",
              "          const dataTable =\n",
              "            await google.colab.kernel.invokeFunction('convertToInteractive',\n",
              "                                                     [key], {});\n",
              "          if (!dataTable) return;\n",
              "\n",
              "          const docLinkHtml = 'Like what you see? Visit the ' +\n",
              "            '<a target=\"_blank\" href=https://colab.research.google.com/notebooks/data_table.ipynb>data table notebook</a>'\n",
              "            + ' to learn more about interactive tables.';\n",
              "          element.innerHTML = '';\n",
              "          dataTable['output_type'] = 'display_data';\n",
              "          await google.colab.output.renderOutput(dataTable, element);\n",
              "          const docLink = document.createElement('div');\n",
              "          docLink.innerHTML = docLinkHtml;\n",
              "          element.appendChild(docLink);\n",
              "        }\n",
              "      </script>\n",
              "    </div>\n",
              "  </div>\n",
              "  "
            ],
            "text/plain": [
              "  coordinates  land_cover         ndvi       dem  precipitation\n",
              "0          11        17.0  5348.822964  0.006042       0.353415\n",
              "1          21         8.0  6153.956522  0.016921       0.300940\n",
              "2          31         2.0  6908.739130  0.025218       0.289074\n",
              "3          32        17.0  5233.732372  0.002702       0.289074\n",
              "4          33        17.0  4966.967133  0.027595       0.277604"
            ]
          },
          "metadata": {},
          "execution_count": 72
        }
      ]
    },
    {
      "cell_type": "markdown",
      "metadata": {
        "id": "r75b0iKeXKXo"
      },
      "source": [
        "## Data Exploration"
      ]
    },
    {
      "cell_type": "code",
      "metadata": {
        "colab": {
          "base_uri": "https://localhost:8080/"
        },
        "id": "bq0Ei0pAMhaP",
        "outputId": "30480171-63d7-4d4a-b2ab-b769be956fa8"
      },
      "source": [
        "for i in [trmm_25km, ndvi_25km, dem_25km, lc_25km]:\n",
        "  print(i.raster.shape)\n",
        "  df = i.to_pandas()\n",
        "  print(df.shape)\n",
        "  print(df['row'].min(), df['col'].min())\n",
        "  print(df['row'].max(), df['col'].max())\n",
        "  print()"
      ],
      "execution_count": null,
      "outputs": [
        {
          "output_type": "stream",
          "name": "stdout",
          "text": [
            "(18, 18)\n",
            "(190, 5)\n",
            "1 0\n",
            "17 17\n",
            "\n",
            "(18, 18)\n",
            "(183, 5)\n",
            "1 0\n",
            "17 17\n",
            "\n",
            "(18, 18)\n",
            "(174, 5)\n",
            "1 0\n",
            "17 16\n",
            "\n",
            "(18, 18)\n",
            "(190, 5)\n",
            "1 0\n",
            "17 17\n",
            "\n"
          ]
        }
      ]
    },
    {
      "cell_type": "code",
      "metadata": {
        "colab": {
          "base_uri": "https://localhost:8080/",
          "height": 453
        },
        "id": "q7u5ew03XNwi",
        "outputId": "35ea5cb7-47ce-4c7c-b8db-191393759d5c"
      },
      "source": [
        "import matplotlib.pyplot as plt\n",
        "import seaborn as sns\n",
        "\n",
        "sns.lmplot(data=data_for_modeling, x='ndvi', y='precipitation', height=6, aspect=2).set(title='Line Plot between NDVI and Precipitation', xlabel='NDVI', ylabel='Precipitation')\n",
        "plt.savefig('Figure 4.png', dpi=300, bbox_inches='tight')\n",
        "plt.show()"
      ],
      "execution_count": null,
      "outputs": [
        {
          "output_type": "display_data",
          "data": {
            "image/png": "[encoded data removed]",
            "text/plain": [
              "<Figure size 864x432 with 1 Axes>"
            ]
          },
          "metadata": {}
        }
      ]
    },
    {
      "cell_type": "code",
      "metadata": {
        "colab": {
          "base_uri": "https://localhost:8080/",
          "height": 453
        },
        "id": "S_r74SrmX--b",
        "outputId": "058eda9f-4de3-491b-bb63-b85c3aacb608"
      },
      "source": [
        "sns.lmplot(data=data_for_modeling, x='dem', y='precipitation', height=6, aspect=2).set(title='Line Plot between DEM and Precipitation', xlabel='DEM', ylabel='Precipitation')\n",
        "plt.savefig('Figure 5.png', dpi=300, bbox_inches='tight')\n",
        "plt.show()"
      ],
      "execution_count": null,
      "outputs": [
        {
          "output_type": "display_data",
          "data": {
            "image/png": "[encoded data removed]",
            "text/plain": [
              "<Figure size 864x432 with 1 Axes>"
            ]
          },
          "metadata": {}
        }
      ]
    },
    {
      "cell_type": "code",
      "metadata": {
        "colab": {
          "base_uri": "https://localhost:8080/",
          "height": 409
        },
        "id": "5gOQtewTYFK4",
        "outputId": "d102870f-41b8-49ef-af89-5639138be89e"
      },
      "source": [
        "sns.set(rc={'figure.figsize': (12, 6)})\n",
        "\n",
        "sns.boxplot(data=data_for_modeling, x='land_cover', y='precipitation').set(title='The Box Plot of Precipitation based on Its Land Cover Class', xlabel='Land Cover', ylabel='Precipitation')\n",
        "plt.savefig('Figure 6.png', dpi=300)\n",
        "plt.show()"
      ],
      "execution_count": null,
      "outputs": [
        {
          "output_type": "display_data",
          "data": {
            "image/png": "[encoded data removed]",
            "text/plain": [
              "<Figure size 864x432 with 1 Axes>"
            ]
          },
          "metadata": {}
        }
      ]
    },
    {
      "cell_type": "code",
      "metadata": {
        "colab": {
          "base_uri": "https://localhost:8080/",
          "height": 409
        },
        "id": "849oDFJlvY0n",
        "outputId": "f695cf9e-b36a-49f9-8264-76bd82109ea5"
      },
      "source": [
        "sns.set(rc={'figure.figsize':(12,6)})\n",
        "\n",
        "sns.histplot(data=data_for_modeling, x='precipitation').set(title='The Distribution of Precipitation in Riau Province', xlabel='Precipitation')\n",
        "plt.savefig('Figure 7.png', dpi=300)\n",
        "plt.show()"
      ],
      "execution_count": null,
      "outputs": [
        {
          "output_type": "display_data",
          "data": {
            "image/png": "[encoded data removed]",
            "text/plain": [
              "<Figure size 864x432 with 1 Axes>"
            ]
          },
          "metadata": {}
        }
      ]
    },
    {
      "cell_type": "markdown",
      "metadata": {
        "id": "JxWhgAaFZA61"
      },
      "source": [
        "## Preprocessing for modelling"
      ]
    },
    {
      "cell_type": "code",
      "source": [
        "from sklearn.preprocessing import StandardScaler\n",
        "from sklearn.model_selection import train_test_split\n",
        "\n",
        "# Prepare the X and y\n",
        "X = data_for_modeling[['ndvi', 'dem', 'land_cover']]\n",
        "y = data_for_modeling[['precipitation']]\n",
        "\n",
        "# Standardize the data\n",
        "scaler = StandardScaler()\n",
        "X_scaled_original = scaler.fit_transform(X)\n",
        "\n",
        "# Split the data \n",
        "X_train, X_test, y_train, y_test = train_test_split(X_scaled_original, y, test_size=0.1, random_state=42)\n",
        "\n",
        "# y_train = y_train.reshape(-1)\n",
        "# y_test = y_test.reshape(-1)\n",
        "\n",
        "print(y_train.shape)"
      ],
      "metadata": {
        "colab": {
          "base_uri": "https://localhost:8080/"
        },
        "id": "7VCiIi3_rZzT",
        "outputId": "ea3ea6cb-73a1-40e9-8071-794420d4bbda"
      },
      "execution_count": null,
      "outputs": [
        {
          "output_type": "stream",
          "name": "stdout",
          "text": [
            "(155, 1)\n"
          ]
        }
      ]
    },
    {
      "cell_type": "code",
      "metadata": {
        "id": "vhP6CrWMZC-V",
        "colab": {
          "base_uri": "https://localhost:8080/"
        },
        "outputId": "b48aa92d-95d2-4e0e-d6dd-7aa5e9409652"
      },
      "source": [
        "from sklearn.preprocessing import StandardScaler\n",
        "from sklearn.model_selection import train_test_split\n",
        "\n",
        "# Prepare the X and y\n",
        "X = data_for_modeling[['ndvi', 'dem', 'land_cover']].values\n",
        "y = data_for_modeling[['precipitation']].values\n",
        "\n",
        "# Standardize the data\n",
        "scaler = StandardScaler()\n",
        "X_scaled_original = scaler.fit_transform(X)\n",
        "\n",
        "# Split the data \n",
        "X_train, X_test, y_train, y_test = train_test_split(X_scaled_original, y, test_size=0.1, random_state=42)\n",
        "\n",
        "y_train = y_train.reshape(-1)\n",
        "y_test = y_test.reshape(-1)\n",
        "\n",
        "print(y_train.shape)"
      ],
      "execution_count": null,
      "outputs": [
        {
          "output_type": "stream",
          "name": "stdout",
          "text": [
            "(155,)\n"
          ]
        }
      ]
    },
    {
      "cell_type": "markdown",
      "metadata": {
        "id": "DOGIt5Ap2DHh"
      },
      "source": [
        "## Hyperparameter Tuning x Cross-Validation"
      ]
    },
    {
      "cell_type": "code",
      "source": [
        "from sklearn.model_selection import GridSearchCV, KFold\n",
        "from sklearn.metrics import mean_squared_error, r2_score\n",
        "\n",
        "def cv_downscaling(model, param_grid=None):\n",
        "  if param_grid != None:\n",
        "    grid = GridSearchCV(model, param_grid, cv=10)\n",
        "    grid.fit(X_train, y_train)\n",
        "    y_pred = grid.predict(X_test)\n",
        "    print(grid.best_params_)\n",
        "  else:\n",
        "    model.fit(X_train, y_train)\n",
        "    y_pred = model.predict(X_test)\n",
        "\n",
        "  print(\"MSE:\\t\", mean_squared_error(y_test, y_pred))\n",
        "  print(\"R^2:\\t\", r2_score(y_test, y_pred))"
      ],
      "metadata": {
        "id": "RU_SVK5l5x2C"
      },
      "execution_count": null,
      "outputs": []
    },
    {
      "cell_type": "code",
      "source": [
        "from sklearn.ensemble import RandomForestRegressor \n",
        "\n",
        "random_grid = {\n",
        "  'n_estimators': [5,20,50,100],\n",
        "  'max_features': ['auto', 'sqrt'],\n",
        "  'max_depth': [int(x) for x in np.linspace(10, 120, num = 12)],\n",
        "  'min_samples_split': [2, 6, 10],\n",
        "  'min_samples_leaf': [1, 3, 4],\n",
        "  'bootstrap': [True, False]\n",
        "}\n",
        "\n",
        "model = RandomForestRegressor(random_state=42)\n",
        "cv_downscaling(model, random_grid)"
      ],
      "metadata": {
        "colab": {
          "base_uri": "https://localhost:8080/"
        },
        "id": "r0ILjfR95haG",
        "outputId": "5f06f75d-882f-4dc6-c51b-ee207d3cc65e"
      },
      "execution_count": null,
      "outputs": [
        {
          "output_type": "stream",
          "name": "stdout",
          "text": [
            "{'bootstrap': True, 'max_depth': 10, 'max_features': 'auto', 'min_samples_leaf': 4, 'min_samples_split': 10, 'n_estimators': 5}\n",
            "MSE:\t 0.0007106903141339881\n",
            "R^2:\t 0.5195243473884699\n"
          ]
        }
      ]
    },
    {
      "cell_type": "code",
      "source": [
        "from sklearn.svm import SVR \n",
        "\n",
        "param_grid = {'C': [0.1, 1, 10, 100, 1000],\n",
        "              'gamma': [1, 0.1, 0.01, 0.001, 0.0001],\n",
        "              'kernel': ['rbf']}\n",
        "model = SVR()\n",
        "\n",
        "cv_downscaling(model, param_grid)"
      ],
      "metadata": {
        "colab": {
          "base_uri": "https://localhost:8080/"
        },
        "id": "BO2kcw_46Hk8",
        "outputId": "67897646-9433-48ce-c137-21c7e290ef7b"
      },
      "execution_count": null,
      "outputs": [
        {
          "output_type": "stream",
          "name": "stdout",
          "text": [
            "{'C': 0.1, 'gamma': 1, 'kernel': 'rbf'}\n",
            "MSE:\t 0.001926555508443321\n",
            "R^2:\t -0.30248435472152146\n"
          ]
        }
      ]
    },
    {
      "cell_type": "code",
      "source": [
        "from sklearn.tree import DecisionTreeRegressor\n",
        "\n",
        "params = {\n",
        "    'max_depth': [2, 3, 5, 10, 20],\n",
        "    'min_samples_leaf': [5, 10, 20, 50, 100]\n",
        "}\n",
        "model = DecisionTreeRegressor(random_state=42)\n",
        "\n",
        "cv_downscaling(model, params)"
      ],
      "metadata": {
        "colab": {
          "base_uri": "https://localhost:8080/"
        },
        "id": "ytcJYliz7vca",
        "outputId": "fed26b24-4534-43c4-a2de-d3dabc3a8f50"
      },
      "execution_count": null,
      "outputs": [
        {
          "output_type": "stream",
          "name": "stdout",
          "text": [
            "{'max_depth': 2, 'min_samples_leaf': 10}\n",
            "MSE:\t 0.0004865245212695259\n",
            "R^2:\t 0.6710758790158271\n"
          ]
        }
      ]
    },
    {
      "cell_type": "code",
      "source": [
        "from sklearn.linear_model import LinearRegression \n",
        "\n",
        "model = LinearRegression()\n",
        "cv_downscaling(model)"
      ],
      "metadata": {
        "colab": {
          "base_uri": "https://localhost:8080/"
        },
        "id": "Hq_umqr58-AA",
        "outputId": "4d4647dd-72d8-4410-ee4a-7badfa1c8c3d"
      },
      "execution_count": null,
      "outputs": [
        {
          "output_type": "stream",
          "name": "stdout",
          "text": [
            "MSE:\t 0.0008826344674874721\n",
            "R^2:\t 0.4032782446173595\n"
          ]
        }
      ]
    },
    {
      "cell_type": "markdown",
      "source": [
        "## Build The Model"
      ],
      "metadata": {
        "id": "_zzDN31I5HDK"
      }
    },
    {
      "cell_type": "code",
      "source": [
        "from sklearn.tree import DecisionTreeRegressor\n",
        "from joblib import dump, load\n",
        "\n",
        "model = DecisionTreeRegressor(random_state=42, max_depth=2, min_samples_leaf=10)\n",
        "model.fit(X_scaled, y.ravel())\n",
        "\n",
        "dump(model, 'model_downscale_dt.joblib')\n",
        "\n",
        "# ! cp 'model_downscale_dt.joblib' /content/drive/MyDrive/spatial-downscaling-trmm/"
      ],
      "metadata": {
        "id": "TQIBmsTri-lc",
        "colab": {
          "base_uri": "https://localhost:8080/"
        },
        "outputId": "2ce330dc-3bc7-404c-fd31-6d389739ca52"
      },
      "execution_count": null,
      "outputs": [
        {
          "output_type": "execute_result",
          "data": {
            "text/plain": [
              "['model_downscale_dt.joblib']"
            ]
          },
          "metadata": {},
          "execution_count": 40
        }
      ]
    },
    {
      "cell_type": "markdown",
      "source": [
        "### Random Forest"
      ],
      "metadata": {
        "id": "lEzY9jVQlWQh"
      }
    },
    {
      "cell_type": "code",
      "metadata": {
        "colab": {
          "base_uri": "https://localhost:8080/"
        },
        "id": "bj-X8umj2JW7",
        "outputId": "078011f3-df6a-43eb-e609-bd34c8cec62e"
      },
      "source": [
        "model = RandomForestRegressor(random_state=42)\n",
        "model.fit(X_scaled, y.ravel())\n",
        "\n",
        "print(['ndvi', 'dem', 'land_cover'])\n",
        "print(model.feature_importances_)"
      ],
      "execution_count": null,
      "outputs": [
        {
          "output_type": "stream",
          "name": "stdout",
          "text": [
            "['ndvi', 'dem', 'land_cover']\n",
            "[0.14468735 0.81604743 0.03926522]\n"
          ]
        }
      ]
    },
    {
      "cell_type": "code",
      "source": [
        "from joblib import dump, load \n",
        "\n",
        "dump(model, 'model_downscale_dt.joblib')"
      ],
      "metadata": {
        "colab": {
          "base_uri": "https://localhost:8080/"
        },
        "id": "72Mkcc1pUZ4E",
        "outputId": "338e10f6-734d-4472-b2ee-9cfcde54b3ee"
      },
      "execution_count": null,
      "outputs": [
        {
          "output_type": "execute_result",
          "data": {
            "text/plain": [
              "['model_downscale_dt.joblib']"
            ]
          },
          "metadata": {},
          "execution_count": 40
        }
      ]
    },
    {
      "cell_type": "code",
      "source": [
        "cp 'model_downscale_dt.joblib' /content/drive/MyDrive/spatial-downscaling-trmm/"
      ],
      "metadata": {
        "id": "XOQgJoulU4Zc"
      },
      "execution_count": null,
      "outputs": []
    },
    {
      "cell_type": "code",
      "source": [
        "model = load('model_downscale_dt.joblib')\n",
        "model.feature_importances_"
      ],
      "metadata": {
        "colab": {
          "base_uri": "https://localhost:8080/"
        },
        "id": "DJbAGptlUuaJ",
        "outputId": "6a451a6d-226f-42c4-cbf0-90d9ed5d8cb3"
      },
      "execution_count": null,
      "outputs": [
        {
          "output_type": "execute_result",
          "data": {
            "text/plain": [
              "array([0.14468735, 0.81604743, 0.03926522])"
            ]
          },
          "metadata": {},
          "execution_count": 41
        }
      ]
    },
    {
      "cell_type": "markdown",
      "metadata": {
        "id": "V9pIRdJiLZ-q"
      },
      "source": [
        "# Downscale the Image"
      ]
    },
    {
      "cell_type": "code",
      "metadata": {
        "id": "FMaheCkmvVcY"
      },
      "source": [
        "ndvi_1km = gr.from_file('/content/drive/MyDrive/spatial-downscaling-trmm/ndvi_1km.tif')\n",
        "dem_1km = gr.from_file('/content/drive/MyDrive/spatial-downscaling-trmm/dem_1km.tif')\n",
        "lc_1km = gr.from_file('/content/drive/MyDrive/spatial-downscaling-trmm/lc_1km.tif')"
      ],
      "execution_count": null,
      "outputs": []
    },
    {
      "cell_type": "code",
      "metadata": {
        "colab": {
          "base_uri": "https://localhost:8080/",
          "height": 258
        },
        "id": "w-bt6885qlLn",
        "outputId": "33dd73f0-db0b-49dd-add7-8eb5f59c1f65"
      },
      "source": [
        "print(dem_1km.raster.shape)\n",
        "print(ndvi_1km.raster.shape)\n",
        "print(lc_1km.raster.shape)\n",
        "dem_1km.to_pandas().head()"
      ],
      "execution_count": null,
      "outputs": [
        {
          "output_type": "stream",
          "name": "stdout",
          "text": [
            "(450, 423)\n",
            "(450, 423)\n",
            "(450, 423)\n"
          ]
        },
        {
          "output_type": "execute_result",
          "data": {
            "text/html": [
              "\n",
              "  <div id=\"df-41e3b66a-9566-4c35-8f6f-3bbca2e4a796\">\n",
              "    <div class=\"colab-df-container\">\n",
              "      <div>\n",
              "<style scoped>\n",
              "    .dataframe tbody tr th:only-of-type {\n",
              "        vertical-align: middle;\n",
              "    }\n",
              "\n",
              "    .dataframe tbody tr th {\n",
              "        vertical-align: top;\n",
              "    }\n",
              "\n",
              "    .dataframe thead th {\n",
              "        text-align: right;\n",
              "    }\n",
              "</style>\n",
              "<table border=\"1\" class=\"dataframe\">\n",
              "  <thead>\n",
              "    <tr style=\"text-align: right;\">\n",
              "      <th></th>\n",
              "      <th>row</th>\n",
              "      <th>col</th>\n",
              "      <th>value</th>\n",
              "      <th>x</th>\n",
              "      <th>y</th>\n",
              "    </tr>\n",
              "  </thead>\n",
              "  <tbody>\n",
              "    <tr>\n",
              "      <th>0</th>\n",
              "      <td>41</td>\n",
              "      <td>33</td>\n",
              "      <td>0.208289</td>\n",
              "      <td>100.314868</td>\n",
              "      <td>2.551215</td>\n",
              "    </tr>\n",
              "    <tr>\n",
              "      <th>1</th>\n",
              "      <td>42</td>\n",
              "      <td>33</td>\n",
              "      <td>0.345923</td>\n",
              "      <td>100.314868</td>\n",
              "      <td>2.542232</td>\n",
              "    </tr>\n",
              "    <tr>\n",
              "      <th>2</th>\n",
              "      <td>43</td>\n",
              "      <td>33</td>\n",
              "      <td>0.193294</td>\n",
              "      <td>100.314868</td>\n",
              "      <td>2.533249</td>\n",
              "    </tr>\n",
              "    <tr>\n",
              "      <th>3</th>\n",
              "      <td>44</td>\n",
              "      <td>33</td>\n",
              "      <td>0.139431</td>\n",
              "      <td>100.314868</td>\n",
              "      <td>2.524266</td>\n",
              "    </tr>\n",
              "    <tr>\n",
              "      <th>4</th>\n",
              "      <td>45</td>\n",
              "      <td>32</td>\n",
              "      <td>0.416562</td>\n",
              "      <td>100.305885</td>\n",
              "      <td>2.515283</td>\n",
              "    </tr>\n",
              "  </tbody>\n",
              "</table>\n",
              "</div>\n",
              "      <button class=\"colab-df-convert\" onclick=\"convertToInteractive('df-41e3b66a-9566-4c35-8f6f-3bbca2e4a796')\"\n",
              "              title=\"Convert this dataframe to an interactive table.\"\n",
              "              style=\"display:none;\">\n",
              "        \n",
              "  <svg xmlns=\"http://www.w3.org/2000/svg\" height=\"24px\"viewBox=\"0 0 24 24\"\n",
              "       width=\"24px\">\n",
              "    <path d=\"M0 0h24v24H0V0z\" fill=\"none\"/>\n",
              "    <path d=\"M18.56 5.44l.94 2.06.94-2.06 2.06-.94-2.06-.94-.94-2.06-.94 2.06-2.06.94zm-11 1L8.5 8.5l.94-2.06 2.06-.94-2.06-.94L8.5 2.5l-.94 2.06-2.06.94zm10 10l.94 2.06.94-2.06 2.06-.94-2.06-.94-.94-2.06-.94 2.06-2.06.94z\"/><path d=\"M17.41 7.96l-1.37-1.37c-.4-.4-.92-.59-1.43-.59-.52 0-1.04.2-1.43.59L10.3 9.45l-7.72 7.72c-.78.78-.78 2.05 0 2.83L4 21.41c.39.39.9.59 1.41.59.51 0 1.02-.2 1.41-.59l7.78-7.78 2.81-2.81c.8-.78.8-2.07 0-2.86zM5.41 20L4 18.59l7.72-7.72 1.47 1.35L5.41 20z\"/>\n",
              "  </svg>\n",
              "      </button>\n",
              "      \n",
              "  <style>\n",
              "    .colab-df-container {\n",
              "      display:flex;\n",
              "      flex-wrap:wrap;\n",
              "      gap: 12px;\n",
              "    }\n",
              "\n",
              "    .colab-df-convert {\n",
              "      background-color: #E8F0FE;\n",
              "      border: none;\n",
              "      border-radius: 50%;\n",
              "      cursor: pointer;\n",
              "      display: none;\n",
              "      fill: #1967D2;\n",
              "      height: 32px;\n",
              "      padding: 0 0 0 0;\n",
              "      width: 32px;\n",
              "    }\n",
              "\n",
              "    .colab-df-convert:hover {\n",
              "      background-color: #E2EBFA;\n",
              "      box-shadow: 0px 1px 2px rgba(60, 64, 67, 0.3), 0px 1px 3px 1px rgba(60, 64, 67, 0.15);\n",
              "      fill: #174EA6;\n",
              "    }\n",
              "\n",
              "    [theme=dark] .colab-df-convert {\n",
              "      background-color: #3B4455;\n",
              "      fill: #D2E3FC;\n",
              "    }\n",
              "\n",
              "    [theme=dark] .colab-df-convert:hover {\n",
              "      background-color: #434B5C;\n",
              "      box-shadow: 0px 1px 3px 1px rgba(0, 0, 0, 0.15);\n",
              "      filter: drop-shadow(0px 1px 2px rgba(0, 0, 0, 0.3));\n",
              "      fill: #FFFFFF;\n",
              "    }\n",
              "  </style>\n",
              "\n",
              "      <script>\n",
              "        const buttonEl =\n",
              "          document.querySelector('#df-41e3b66a-9566-4c35-8f6f-3bbca2e4a796 button.colab-df-convert');\n",
              "        buttonEl.style.display =\n",
              "          google.colab.kernel.accessAllowed ? 'block' : 'none';\n",
              "\n",
              "        async function convertToInteractive(key) {\n",
              "          const element = document.querySelector('#df-41e3b66a-9566-4c35-8f6f-3bbca2e4a796');\n",
              "          const dataTable =\n",
              "            await google.colab.kernel.invokeFunction('convertToInteractive',\n",
              "                                                     [key], {});\n",
              "          if (!dataTable) return;\n",
              "\n",
              "          const docLinkHtml = 'Like what you see? Visit the ' +\n",
              "            '<a target=\"_blank\" href=https://colab.research.google.com/notebooks/data_table.ipynb>data table notebook</a>'\n",
              "            + ' to learn more about interactive tables.';\n",
              "          element.innerHTML = '';\n",
              "          dataTable['output_type'] = 'display_data';\n",
              "          await google.colab.output.renderOutput(dataTable, element);\n",
              "          const docLink = document.createElement('div');\n",
              "          docLink.innerHTML = docLinkHtml;\n",
              "          element.appendChild(docLink);\n",
              "        }\n",
              "      </script>\n",
              "    </div>\n",
              "  </div>\n",
              "  "
            ],
            "text/plain": [
              "   row  col     value           x         y\n",
              "0   41   33  0.208289  100.314868  2.551215\n",
              "1   42   33  0.345923  100.314868  2.542232\n",
              "2   43   33  0.193294  100.314868  2.533249\n",
              "3   44   33  0.139431  100.314868  2.524266\n",
              "4   45   32  0.416562  100.305885  2.515283"
            ]
          },
          "metadata": {},
          "execution_count": 43
        }
      ]
    },
    {
      "cell_type": "code",
      "metadata": {
        "id": "ra1pW0Lu4VGx"
      },
      "source": [
        "def prepare_df(data, colnames):\n",
        "  df = data.to_pandas()\n",
        "  # df = df.drop(['x', 'y'], axis=1)\n",
        "  df.columns = ['row', 'col', colnames, 'x', 'y']\n",
        "  df['coordinates'] = df['row'].astype('str') + df['col'].astype('str')\n",
        "  # df = df.drop(['row', 'col'], axis=1)\n",
        "  return df"
      ],
      "execution_count": null,
      "outputs": []
    },
    {
      "cell_type": "code",
      "metadata": {
        "id": "l0TnqUR24VGy"
      },
      "source": [
        "ndvi_1km_df = prepare_df(ndvi_1km, 'ndvi')\n",
        "dem_1km_df = prepare_df(dem_1km, 'dem')\n",
        "lc_1km_df = prepare_df(lc_1km, 'land_cover')"
      ],
      "execution_count": null,
      "outputs": []
    },
    {
      "cell_type": "code",
      "metadata": {
        "colab": {
          "base_uri": "https://localhost:8080/",
          "height": 224
        },
        "id": "sS-66eRO4VGz",
        "outputId": "04d82ebe-cef4-4796-c0ce-6eb7e818e95d"
      },
      "source": [
        "final_1km_df = lc_1km_df.merge(ndvi_1km_df, on='coordinates').merge(dem_1km_df, on='coordinates')\n",
        "print(final_1km_df.shape)\n",
        "final_1km_df.head()"
      ],
      "execution_count": null,
      "outputs": [
        {
          "output_type": "stream",
          "name": "stdout",
          "text": [
            "(90708, 16)\n"
          ]
        },
        {
          "output_type": "execute_result",
          "data": {
            "text/html": [
              "\n",
              "  <div id=\"df-07f8c567-da86-4ed6-a2fb-f54ee01f77f3\">\n",
              "    <div class=\"colab-df-container\">\n",
              "      <div>\n",
              "<style scoped>\n",
              "    .dataframe tbody tr th:only-of-type {\n",
              "        vertical-align: middle;\n",
              "    }\n",
              "\n",
              "    .dataframe tbody tr th {\n",
              "        vertical-align: top;\n",
              "    }\n",
              "\n",
              "    .dataframe thead th {\n",
              "        text-align: right;\n",
              "    }\n",
              "</style>\n",
              "<table border=\"1\" class=\"dataframe\">\n",
              "  <thead>\n",
              "    <tr style=\"text-align: right;\">\n",
              "      <th></th>\n",
              "      <th>row_x</th>\n",
              "      <th>col_x</th>\n",
              "      <th>land_cover</th>\n",
              "      <th>x_x</th>\n",
              "      <th>y_x</th>\n",
              "      <th>coordinates</th>\n",
              "      <th>row_y</th>\n",
              "      <th>col_y</th>\n",
              "      <th>ndvi</th>\n",
              "      <th>x_y</th>\n",
              "      <th>y_y</th>\n",
              "      <th>row</th>\n",
              "      <th>col</th>\n",
              "      <th>dem</th>\n",
              "      <th>x</th>\n",
              "      <th>y</th>\n",
              "    </tr>\n",
              "  </thead>\n",
              "  <tbody>\n",
              "    <tr>\n",
              "      <th>0</th>\n",
              "      <td>41</td>\n",
              "      <td>33</td>\n",
              "      <td>11.0</td>\n",
              "      <td>100.314868</td>\n",
              "      <td>2.551215</td>\n",
              "      <td>4133</td>\n",
              "      <td>41</td>\n",
              "      <td>33</td>\n",
              "      <td>5398.869565</td>\n",
              "      <td>100.314868</td>\n",
              "      <td>2.551215</td>\n",
              "      <td>41</td>\n",
              "      <td>33</td>\n",
              "      <td>0.208289</td>\n",
              "      <td>100.314868</td>\n",
              "      <td>2.551215</td>\n",
              "    </tr>\n",
              "    <tr>\n",
              "      <th>1</th>\n",
              "      <td>42</td>\n",
              "      <td>33</td>\n",
              "      <td>8.0</td>\n",
              "      <td>100.314868</td>\n",
              "      <td>2.542232</td>\n",
              "      <td>4233</td>\n",
              "      <td>42</td>\n",
              "      <td>33</td>\n",
              "      <td>5547.652174</td>\n",
              "      <td>100.314868</td>\n",
              "      <td>2.542232</td>\n",
              "      <td>42</td>\n",
              "      <td>33</td>\n",
              "      <td>0.345923</td>\n",
              "      <td>100.314868</td>\n",
              "      <td>2.542232</td>\n",
              "    </tr>\n",
              "    <tr>\n",
              "      <th>2</th>\n",
              "      <td>43</td>\n",
              "      <td>33</td>\n",
              "      <td>8.0</td>\n",
              "      <td>100.314868</td>\n",
              "      <td>2.533249</td>\n",
              "      <td>4333</td>\n",
              "      <td>43</td>\n",
              "      <td>33</td>\n",
              "      <td>6516.434783</td>\n",
              "      <td>100.314868</td>\n",
              "      <td>2.533249</td>\n",
              "      <td>43</td>\n",
              "      <td>33</td>\n",
              "      <td>0.193294</td>\n",
              "      <td>100.314868</td>\n",
              "      <td>2.533249</td>\n",
              "    </tr>\n",
              "    <tr>\n",
              "      <th>3</th>\n",
              "      <td>44</td>\n",
              "      <td>33</td>\n",
              "      <td>8.0</td>\n",
              "      <td>100.314868</td>\n",
              "      <td>2.524266</td>\n",
              "      <td>4433</td>\n",
              "      <td>44</td>\n",
              "      <td>33</td>\n",
              "      <td>6421.130435</td>\n",
              "      <td>100.314868</td>\n",
              "      <td>2.524266</td>\n",
              "      <td>44</td>\n",
              "      <td>33</td>\n",
              "      <td>0.139431</td>\n",
              "      <td>100.314868</td>\n",
              "      <td>2.524266</td>\n",
              "    </tr>\n",
              "    <tr>\n",
              "      <th>4</th>\n",
              "      <td>45</td>\n",
              "      <td>32</td>\n",
              "      <td>8.0</td>\n",
              "      <td>100.305885</td>\n",
              "      <td>2.515283</td>\n",
              "      <td>4532</td>\n",
              "      <td>45</td>\n",
              "      <td>32</td>\n",
              "      <td>7089.913043</td>\n",
              "      <td>100.305885</td>\n",
              "      <td>2.515283</td>\n",
              "      <td>45</td>\n",
              "      <td>32</td>\n",
              "      <td>0.416562</td>\n",
              "      <td>100.305885</td>\n",
              "      <td>2.515283</td>\n",
              "    </tr>\n",
              "  </tbody>\n",
              "</table>\n",
              "</div>\n",
              "      <button class=\"colab-df-convert\" onclick=\"convertToInteractive('df-07f8c567-da86-4ed6-a2fb-f54ee01f77f3')\"\n",
              "              title=\"Convert this dataframe to an interactive table.\"\n",
              "              style=\"display:none;\">\n",
              "        \n",
              "  <svg xmlns=\"http://www.w3.org/2000/svg\" height=\"24px\"viewBox=\"0 0 24 24\"\n",
              "       width=\"24px\">\n",
              "    <path d=\"M0 0h24v24H0V0z\" fill=\"none\"/>\n",
              "    <path d=\"M18.56 5.44l.94 2.06.94-2.06 2.06-.94-2.06-.94-.94-2.06-.94 2.06-2.06.94zm-11 1L8.5 8.5l.94-2.06 2.06-.94-2.06-.94L8.5 2.5l-.94 2.06-2.06.94zm10 10l.94 2.06.94-2.06 2.06-.94-2.06-.94-.94-2.06-.94 2.06-2.06.94z\"/><path d=\"M17.41 7.96l-1.37-1.37c-.4-.4-.92-.59-1.43-.59-.52 0-1.04.2-1.43.59L10.3 9.45l-7.72 7.72c-.78.78-.78 2.05 0 2.83L4 21.41c.39.39.9.59 1.41.59.51 0 1.02-.2 1.41-.59l7.78-7.78 2.81-2.81c.8-.78.8-2.07 0-2.86zM5.41 20L4 18.59l7.72-7.72 1.47 1.35L5.41 20z\"/>\n",
              "  </svg>\n",
              "      </button>\n",
              "      \n",
              "  <style>\n",
              "    .colab-df-container {\n",
              "      display:flex;\n",
              "      flex-wrap:wrap;\n",
              "      gap: 12px;\n",
              "    }\n",
              "\n",
              "    .colab-df-convert {\n",
              "      background-color: #E8F0FE;\n",
              "      border: none;\n",
              "      border-radius: 50%;\n",
              "      cursor: pointer;\n",
              "      display: none;\n",
              "      fill: #1967D2;\n",
              "      height: 32px;\n",
              "      padding: 0 0 0 0;\n",
              "      width: 32px;\n",
              "    }\n",
              "\n",
              "    .colab-df-convert:hover {\n",
              "      background-color: #E2EBFA;\n",
              "      box-shadow: 0px 1px 2px rgba(60, 64, 67, 0.3), 0px 1px 3px 1px rgba(60, 64, 67, 0.15);\n",
              "      fill: #174EA6;\n",
              "    }\n",
              "\n",
              "    [theme=dark] .colab-df-convert {\n",
              "      background-color: #3B4455;\n",
              "      fill: #D2E3FC;\n",
              "    }\n",
              "\n",
              "    [theme=dark] .colab-df-convert:hover {\n",
              "      background-color: #434B5C;\n",
              "      box-shadow: 0px 1px 3px 1px rgba(0, 0, 0, 0.15);\n",
              "      filter: drop-shadow(0px 1px 2px rgba(0, 0, 0, 0.3));\n",
              "      fill: #FFFFFF;\n",
              "    }\n",
              "  </style>\n",
              "\n",
              "      <script>\n",
              "        const buttonEl =\n",
              "          document.querySelector('#df-07f8c567-da86-4ed6-a2fb-f54ee01f77f3 button.colab-df-convert');\n",
              "        buttonEl.style.display =\n",
              "          google.colab.kernel.accessAllowed ? 'block' : 'none';\n",
              "\n",
              "        async function convertToInteractive(key) {\n",
              "          const element = document.querySelector('#df-07f8c567-da86-4ed6-a2fb-f54ee01f77f3');\n",
              "          const dataTable =\n",
              "            await google.colab.kernel.invokeFunction('convertToInteractive',\n",
              "                                                     [key], {});\n",
              "          if (!dataTable) return;\n",
              "\n",
              "          const docLinkHtml = 'Like what you see? Visit the ' +\n",
              "            '<a target=\"_blank\" href=https://colab.research.google.com/notebooks/data_table.ipynb>data table notebook</a>'\n",
              "            + ' to learn more about interactive tables.';\n",
              "          element.innerHTML = '';\n",
              "          dataTable['output_type'] = 'display_data';\n",
              "          await google.colab.output.renderOutput(dataTable, element);\n",
              "          const docLink = document.createElement('div');\n",
              "          docLink.innerHTML = docLinkHtml;\n",
              "          element.appendChild(docLink);\n",
              "        }\n",
              "      </script>\n",
              "    </div>\n",
              "  </div>\n",
              "  "
            ],
            "text/plain": [
              "   row_x  col_x  land_cover         x_x  ...  col       dem           x         y\n",
              "0     41     33        11.0  100.314868  ...   33  0.208289  100.314868  2.551215\n",
              "1     42     33         8.0  100.314868  ...   33  0.345923  100.314868  2.542232\n",
              "2     43     33         8.0  100.314868  ...   33  0.193294  100.314868  2.533249\n",
              "3     44     33         8.0  100.314868  ...   33  0.139431  100.314868  2.524266\n",
              "4     45     32         8.0  100.305885  ...   32  0.416562  100.305885  2.515283\n",
              "\n",
              "[5 rows x 16 columns]"
            ]
          },
          "metadata": {},
          "execution_count": 46
        }
      ]
    },
    {
      "cell_type": "code",
      "metadata": {
        "colab": {
          "base_uri": "https://localhost:8080/",
          "height": 205
        },
        "id": "euTmKNKN4VG2",
        "outputId": "32e86ebb-5412-4e7d-93ed-78fafedd001e"
      },
      "source": [
        "data_for_prediction = final_1km_df[['coordinates', 'land_cover', 'ndvi', 'dem']]\n",
        "data_for_prediction.head()"
      ],
      "execution_count": null,
      "outputs": [
        {
          "output_type": "execute_result",
          "data": {
            "text/html": [
              "\n",
              "  <div id=\"df-b817b16a-b60e-46ab-b000-85d703487b85\">\n",
              "    <div class=\"colab-df-container\">\n",
              "      <div>\n",
              "<style scoped>\n",
              "    .dataframe tbody tr th:only-of-type {\n",
              "        vertical-align: middle;\n",
              "    }\n",
              "\n",
              "    .dataframe tbody tr th {\n",
              "        vertical-align: top;\n",
              "    }\n",
              "\n",
              "    .dataframe thead th {\n",
              "        text-align: right;\n",
              "    }\n",
              "</style>\n",
              "<table border=\"1\" class=\"dataframe\">\n",
              "  <thead>\n",
              "    <tr style=\"text-align: right;\">\n",
              "      <th></th>\n",
              "      <th>coordinates</th>\n",
              "      <th>land_cover</th>\n",
              "      <th>ndvi</th>\n",
              "      <th>dem</th>\n",
              "    </tr>\n",
              "  </thead>\n",
              "  <tbody>\n",
              "    <tr>\n",
              "      <th>0</th>\n",
              "      <td>4133</td>\n",
              "      <td>11.0</td>\n",
              "      <td>5398.869565</td>\n",
              "      <td>0.208289</td>\n",
              "    </tr>\n",
              "    <tr>\n",
              "      <th>1</th>\n",
              "      <td>4233</td>\n",
              "      <td>8.0</td>\n",
              "      <td>5547.652174</td>\n",
              "      <td>0.345923</td>\n",
              "    </tr>\n",
              "    <tr>\n",
              "      <th>2</th>\n",
              "      <td>4333</td>\n",
              "      <td>8.0</td>\n",
              "      <td>6516.434783</td>\n",
              "      <td>0.193294</td>\n",
              "    </tr>\n",
              "    <tr>\n",
              "      <th>3</th>\n",
              "      <td>4433</td>\n",
              "      <td>8.0</td>\n",
              "      <td>6421.130435</td>\n",
              "      <td>0.139431</td>\n",
              "    </tr>\n",
              "    <tr>\n",
              "      <th>4</th>\n",
              "      <td>4532</td>\n",
              "      <td>8.0</td>\n",
              "      <td>7089.913043</td>\n",
              "      <td>0.416562</td>\n",
              "    </tr>\n",
              "  </tbody>\n",
              "</table>\n",
              "</div>\n",
              "      <button class=\"colab-df-convert\" onclick=\"convertToInteractive('df-b817b16a-b60e-46ab-b000-85d703487b85')\"\n",
              "              title=\"Convert this dataframe to an interactive table.\"\n",
              "              style=\"display:none;\">\n",
              "        \n",
              "  <svg xmlns=\"http://www.w3.org/2000/svg\" height=\"24px\"viewBox=\"0 0 24 24\"\n",
              "       width=\"24px\">\n",
              "    <path d=\"M0 0h24v24H0V0z\" fill=\"none\"/>\n",
              "    <path d=\"M18.56 5.44l.94 2.06.94-2.06 2.06-.94-2.06-.94-.94-2.06-.94 2.06-2.06.94zm-11 1L8.5 8.5l.94-2.06 2.06-.94-2.06-.94L8.5 2.5l-.94 2.06-2.06.94zm10 10l.94 2.06.94-2.06 2.06-.94-2.06-.94-.94-2.06-.94 2.06-2.06.94z\"/><path d=\"M17.41 7.96l-1.37-1.37c-.4-.4-.92-.59-1.43-.59-.52 0-1.04.2-1.43.59L10.3 9.45l-7.72 7.72c-.78.78-.78 2.05 0 2.83L4 21.41c.39.39.9.59 1.41.59.51 0 1.02-.2 1.41-.59l7.78-7.78 2.81-2.81c.8-.78.8-2.07 0-2.86zM5.41 20L4 18.59l7.72-7.72 1.47 1.35L5.41 20z\"/>\n",
              "  </svg>\n",
              "      </button>\n",
              "      \n",
              "  <style>\n",
              "    .colab-df-container {\n",
              "      display:flex;\n",
              "      flex-wrap:wrap;\n",
              "      gap: 12px;\n",
              "    }\n",
              "\n",
              "    .colab-df-convert {\n",
              "      background-color: #E8F0FE;\n",
              "      border: none;\n",
              "      border-radius: 50%;\n",
              "      cursor: pointer;\n",
              "      display: none;\n",
              "      fill: #1967D2;\n",
              "      height: 32px;\n",
              "      padding: 0 0 0 0;\n",
              "      width: 32px;\n",
              "    }\n",
              "\n",
              "    .colab-df-convert:hover {\n",
              "      background-color: #E2EBFA;\n",
              "      box-shadow: 0px 1px 2px rgba(60, 64, 67, 0.3), 0px 1px 3px 1px rgba(60, 64, 67, 0.15);\n",
              "      fill: #174EA6;\n",
              "    }\n",
              "\n",
              "    [theme=dark] .colab-df-convert {\n",
              "      background-color: #3B4455;\n",
              "      fill: #D2E3FC;\n",
              "    }\n",
              "\n",
              "    [theme=dark] .colab-df-convert:hover {\n",
              "      background-color: #434B5C;\n",
              "      box-shadow: 0px 1px 3px 1px rgba(0, 0, 0, 0.15);\n",
              "      filter: drop-shadow(0px 1px 2px rgba(0, 0, 0, 0.3));\n",
              "      fill: #FFFFFF;\n",
              "    }\n",
              "  </style>\n",
              "\n",
              "      <script>\n",
              "        const buttonEl =\n",
              "          document.querySelector('#df-b817b16a-b60e-46ab-b000-85d703487b85 button.colab-df-convert');\n",
              "        buttonEl.style.display =\n",
              "          google.colab.kernel.accessAllowed ? 'block' : 'none';\n",
              "\n",
              "        async function convertToInteractive(key) {\n",
              "          const element = document.querySelector('#df-b817b16a-b60e-46ab-b000-85d703487b85');\n",
              "          const dataTable =\n",
              "            await google.colab.kernel.invokeFunction('convertToInteractive',\n",
              "                                                     [key], {});\n",
              "          if (!dataTable) return;\n",
              "\n",
              "          const docLinkHtml = 'Like what you see? Visit the ' +\n",
              "            '<a target=\"_blank\" href=https://colab.research.google.com/notebooks/data_table.ipynb>data table notebook</a>'\n",
              "            + ' to learn more about interactive tables.';\n",
              "          element.innerHTML = '';\n",
              "          dataTable['output_type'] = 'display_data';\n",
              "          await google.colab.output.renderOutput(dataTable, element);\n",
              "          const docLink = document.createElement('div');\n",
              "          docLink.innerHTML = docLinkHtml;\n",
              "          element.appendChild(docLink);\n",
              "        }\n",
              "      </script>\n",
              "    </div>\n",
              "  </div>\n",
              "  "
            ],
            "text/plain": [
              "  coordinates  land_cover         ndvi       dem\n",
              "0        4133        11.0  5398.869565  0.208289\n",
              "1        4233         8.0  5547.652174  0.345923\n",
              "2        4333         8.0  6516.434783  0.193294\n",
              "3        4433         8.0  6421.130435  0.139431\n",
              "4        4532         8.0  7089.913043  0.416562"
            ]
          },
          "metadata": {},
          "execution_count": 47
        }
      ]
    },
    {
      "cell_type": "code",
      "metadata": {
        "id": "M3KNahBahhK5"
      },
      "source": [
        "X = data_for_prediction[['ndvi', 'dem', 'land_cover']]\n",
        "scaler = StandardScaler()\n",
        "X_scaled = scaler.fit_transform(X)"
      ],
      "execution_count": null,
      "outputs": []
    },
    {
      "cell_type": "code",
      "metadata": {
        "colab": {
          "base_uri": "https://localhost:8080/"
        },
        "id": "7q4tIzwlhSk0",
        "outputId": "05b34b89-f420-454e-b16e-22e259b6997c"
      },
      "source": [
        "model"
      ],
      "execution_count": null,
      "outputs": [
        {
          "output_type": "execute_result",
          "data": {
            "text/plain": [
              "DecisionTreeRegressor(max_depth=2, min_samples_leaf=10, random_state=42)"
            ]
          },
          "metadata": {},
          "execution_count": 49
        }
      ]
    },
    {
      "cell_type": "code",
      "metadata": {
        "colab": {
          "base_uri": "https://localhost:8080/"
        },
        "id": "bu76COHkhTlH",
        "outputId": "44c2aef5-b163-4bfb-b981-ebfe0cc75074"
      },
      "source": [
        "y_pred = model.predict(X_scaled)\n",
        "y_pred.shape"
      ],
      "execution_count": null,
      "outputs": [
        {
          "output_type": "execute_result",
          "data": {
            "text/plain": [
              "(90708,)"
            ]
          },
          "metadata": {},
          "execution_count": 50
        }
      ]
    },
    {
      "cell_type": "code",
      "metadata": {
        "id": "7rGpoZz6iQQP"
      },
      "source": [
        "final_1km_df['precipitation'] = y_pred\n",
        "final_1km_df = final_1km_df[['row', 'col', 'ndvi', 'dem', 'land_cover', 'precipitation', 'x', 'y']]"
      ],
      "execution_count": null,
      "outputs": []
    },
    {
      "cell_type": "code",
      "metadata": {
        "colab": {
          "base_uri": "https://localhost:8080/",
          "height": 205
        },
        "id": "rXMO0tzditzS",
        "outputId": "35998dcc-1438-410d-9325-4bd6a35a30e6"
      },
      "source": [
        "final_1km_df.head()"
      ],
      "execution_count": null,
      "outputs": [
        {
          "output_type": "execute_result",
          "data": {
            "text/html": [
              "\n",
              "  <div id=\"df-609e0b5c-4903-4220-8284-2b8b90d4132d\">\n",
              "    <div class=\"colab-df-container\">\n",
              "      <div>\n",
              "<style scoped>\n",
              "    .dataframe tbody tr th:only-of-type {\n",
              "        vertical-align: middle;\n",
              "    }\n",
              "\n",
              "    .dataframe tbody tr th {\n",
              "        vertical-align: top;\n",
              "    }\n",
              "\n",
              "    .dataframe thead th {\n",
              "        text-align: right;\n",
              "    }\n",
              "</style>\n",
              "<table border=\"1\" class=\"dataframe\">\n",
              "  <thead>\n",
              "    <tr style=\"text-align: right;\">\n",
              "      <th></th>\n",
              "      <th>row</th>\n",
              "      <th>col</th>\n",
              "      <th>ndvi</th>\n",
              "      <th>dem</th>\n",
              "      <th>land_cover</th>\n",
              "      <th>precipitation</th>\n",
              "      <th>x</th>\n",
              "      <th>y</th>\n",
              "    </tr>\n",
              "  </thead>\n",
              "  <tbody>\n",
              "    <tr>\n",
              "      <th>0</th>\n",
              "      <td>41</td>\n",
              "      <td>33</td>\n",
              "      <td>5398.869565</td>\n",
              "      <td>0.208289</td>\n",
              "      <td>11.0</td>\n",
              "      <td>0.274598</td>\n",
              "      <td>100.314868</td>\n",
              "      <td>2.551215</td>\n",
              "    </tr>\n",
              "    <tr>\n",
              "      <th>1</th>\n",
              "      <td>42</td>\n",
              "      <td>33</td>\n",
              "      <td>5547.652174</td>\n",
              "      <td>0.345923</td>\n",
              "      <td>8.0</td>\n",
              "      <td>0.313857</td>\n",
              "      <td>100.314868</td>\n",
              "      <td>2.542232</td>\n",
              "    </tr>\n",
              "    <tr>\n",
              "      <th>2</th>\n",
              "      <td>43</td>\n",
              "      <td>33</td>\n",
              "      <td>6516.434783</td>\n",
              "      <td>0.193294</td>\n",
              "      <td>8.0</td>\n",
              "      <td>0.274598</td>\n",
              "      <td>100.314868</td>\n",
              "      <td>2.533249</td>\n",
              "    </tr>\n",
              "    <tr>\n",
              "      <th>3</th>\n",
              "      <td>44</td>\n",
              "      <td>33</td>\n",
              "      <td>6421.130435</td>\n",
              "      <td>0.139431</td>\n",
              "      <td>8.0</td>\n",
              "      <td>0.274598</td>\n",
              "      <td>100.314868</td>\n",
              "      <td>2.524266</td>\n",
              "    </tr>\n",
              "    <tr>\n",
              "      <th>4</th>\n",
              "      <td>45</td>\n",
              "      <td>32</td>\n",
              "      <td>7089.913043</td>\n",
              "      <td>0.416562</td>\n",
              "      <td>8.0</td>\n",
              "      <td>0.313857</td>\n",
              "      <td>100.305885</td>\n",
              "      <td>2.515283</td>\n",
              "    </tr>\n",
              "  </tbody>\n",
              "</table>\n",
              "</div>\n",
              "      <button class=\"colab-df-convert\" onclick=\"convertToInteractive('df-609e0b5c-4903-4220-8284-2b8b90d4132d')\"\n",
              "              title=\"Convert this dataframe to an interactive table.\"\n",
              "              style=\"display:none;\">\n",
              "        \n",
              "  <svg xmlns=\"http://www.w3.org/2000/svg\" height=\"24px\"viewBox=\"0 0 24 24\"\n",
              "       width=\"24px\">\n",
              "    <path d=\"M0 0h24v24H0V0z\" fill=\"none\"/>\n",
              "    <path d=\"M18.56 5.44l.94 2.06.94-2.06 2.06-.94-2.06-.94-.94-2.06-.94 2.06-2.06.94zm-11 1L8.5 8.5l.94-2.06 2.06-.94-2.06-.94L8.5 2.5l-.94 2.06-2.06.94zm10 10l.94 2.06.94-2.06 2.06-.94-2.06-.94-.94-2.06-.94 2.06-2.06.94z\"/><path d=\"M17.41 7.96l-1.37-1.37c-.4-.4-.92-.59-1.43-.59-.52 0-1.04.2-1.43.59L10.3 9.45l-7.72 7.72c-.78.78-.78 2.05 0 2.83L4 21.41c.39.39.9.59 1.41.59.51 0 1.02-.2 1.41-.59l7.78-7.78 2.81-2.81c.8-.78.8-2.07 0-2.86zM5.41 20L4 18.59l7.72-7.72 1.47 1.35L5.41 20z\"/>\n",
              "  </svg>\n",
              "      </button>\n",
              "      \n",
              "  <style>\n",
              "    .colab-df-container {\n",
              "      display:flex;\n",
              "      flex-wrap:wrap;\n",
              "      gap: 12px;\n",
              "    }\n",
              "\n",
              "    .colab-df-convert {\n",
              "      background-color: #E8F0FE;\n",
              "      border: none;\n",
              "      border-radius: 50%;\n",
              "      cursor: pointer;\n",
              "      display: none;\n",
              "      fill: #1967D2;\n",
              "      height: 32px;\n",
              "      padding: 0 0 0 0;\n",
              "      width: 32px;\n",
              "    }\n",
              "\n",
              "    .colab-df-convert:hover {\n",
              "      background-color: #E2EBFA;\n",
              "      box-shadow: 0px 1px 2px rgba(60, 64, 67, 0.3), 0px 1px 3px 1px rgba(60, 64, 67, 0.15);\n",
              "      fill: #174EA6;\n",
              "    }\n",
              "\n",
              "    [theme=dark] .colab-df-convert {\n",
              "      background-color: #3B4455;\n",
              "      fill: #D2E3FC;\n",
              "    }\n",
              "\n",
              "    [theme=dark] .colab-df-convert:hover {\n",
              "      background-color: #434B5C;\n",
              "      box-shadow: 0px 1px 3px 1px rgba(0, 0, 0, 0.15);\n",
              "      filter: drop-shadow(0px 1px 2px rgba(0, 0, 0, 0.3));\n",
              "      fill: #FFFFFF;\n",
              "    }\n",
              "  </style>\n",
              "\n",
              "      <script>\n",
              "        const buttonEl =\n",
              "          document.querySelector('#df-609e0b5c-4903-4220-8284-2b8b90d4132d button.colab-df-convert');\n",
              "        buttonEl.style.display =\n",
              "          google.colab.kernel.accessAllowed ? 'block' : 'none';\n",
              "\n",
              "        async function convertToInteractive(key) {\n",
              "          const element = document.querySelector('#df-609e0b5c-4903-4220-8284-2b8b90d4132d');\n",
              "          const dataTable =\n",
              "            await google.colab.kernel.invokeFunction('convertToInteractive',\n",
              "                                                     [key], {});\n",
              "          if (!dataTable) return;\n",
              "\n",
              "          const docLinkHtml = 'Like what you see? Visit the ' +\n",
              "            '<a target=\"_blank\" href=https://colab.research.google.com/notebooks/data_table.ipynb>data table notebook</a>'\n",
              "            + ' to learn more about interactive tables.';\n",
              "          element.innerHTML = '';\n",
              "          dataTable['output_type'] = 'display_data';\n",
              "          await google.colab.output.renderOutput(dataTable, element);\n",
              "          const docLink = document.createElement('div');\n",
              "          docLink.innerHTML = docLinkHtml;\n",
              "          element.appendChild(docLink);\n",
              "        }\n",
              "      </script>\n",
              "    </div>\n",
              "  </div>\n",
              "  "
            ],
            "text/plain": [
              "   row  col         ndvi  ...  precipitation           x         y\n",
              "0   41   33  5398.869565  ...       0.274598  100.314868  2.551215\n",
              "1   42   33  5547.652174  ...       0.313857  100.314868  2.542232\n",
              "2   43   33  6516.434783  ...       0.274598  100.314868  2.533249\n",
              "3   44   33  6421.130435  ...       0.274598  100.314868  2.524266\n",
              "4   45   32  7089.913043  ...       0.313857  100.305885  2.515283\n",
              "\n",
              "[5 rows x 8 columns]"
            ]
          },
          "metadata": {},
          "execution_count": 52
        }
      ]
    },
    {
      "cell_type": "code",
      "metadata": {
        "id": "wubkBXQLix50"
      },
      "source": [
        "final_1km_df.to_csv('/content/drive/MyDrive/spatial-downscaling-trmm/downscaling_result_dt.csv', index=False)"
      ],
      "execution_count": null,
      "outputs": []
    },
    {
      "cell_type": "code",
      "metadata": {
        "colab": {
          "base_uri": "https://localhost:8080/",
          "height": 205
        },
        "id": "ALNFvac0jMXy",
        "outputId": "4a92b561-910b-48b8-8994-0baa7849df38"
      },
      "source": [
        "downscale_result = final_1km_df[['row', 'col', 'precipitation', 'x', 'y']]\n",
        "downscale_result.head()"
      ],
      "execution_count": null,
      "outputs": [
        {
          "output_type": "execute_result",
          "data": {
            "text/html": [
              "\n",
              "  <div id=\"df-2cbc738d-7a77-45f3-b4a2-2984cf9e2617\">\n",
              "    <div class=\"colab-df-container\">\n",
              "      <div>\n",
              "<style scoped>\n",
              "    .dataframe tbody tr th:only-of-type {\n",
              "        vertical-align: middle;\n",
              "    }\n",
              "\n",
              "    .dataframe tbody tr th {\n",
              "        vertical-align: top;\n",
              "    }\n",
              "\n",
              "    .dataframe thead th {\n",
              "        text-align: right;\n",
              "    }\n",
              "</style>\n",
              "<table border=\"1\" class=\"dataframe\">\n",
              "  <thead>\n",
              "    <tr style=\"text-align: right;\">\n",
              "      <th></th>\n",
              "      <th>row</th>\n",
              "      <th>col</th>\n",
              "      <th>precipitation</th>\n",
              "      <th>x</th>\n",
              "      <th>y</th>\n",
              "    </tr>\n",
              "  </thead>\n",
              "  <tbody>\n",
              "    <tr>\n",
              "      <th>0</th>\n",
              "      <td>41</td>\n",
              "      <td>33</td>\n",
              "      <td>0.274598</td>\n",
              "      <td>100.314868</td>\n",
              "      <td>2.551215</td>\n",
              "    </tr>\n",
              "    <tr>\n",
              "      <th>1</th>\n",
              "      <td>42</td>\n",
              "      <td>33</td>\n",
              "      <td>0.313857</td>\n",
              "      <td>100.314868</td>\n",
              "      <td>2.542232</td>\n",
              "    </tr>\n",
              "    <tr>\n",
              "      <th>2</th>\n",
              "      <td>43</td>\n",
              "      <td>33</td>\n",
              "      <td>0.274598</td>\n",
              "      <td>100.314868</td>\n",
              "      <td>2.533249</td>\n",
              "    </tr>\n",
              "    <tr>\n",
              "      <th>3</th>\n",
              "      <td>44</td>\n",
              "      <td>33</td>\n",
              "      <td>0.274598</td>\n",
              "      <td>100.314868</td>\n",
              "      <td>2.524266</td>\n",
              "    </tr>\n",
              "    <tr>\n",
              "      <th>4</th>\n",
              "      <td>45</td>\n",
              "      <td>32</td>\n",
              "      <td>0.313857</td>\n",
              "      <td>100.305885</td>\n",
              "      <td>2.515283</td>\n",
              "    </tr>\n",
              "  </tbody>\n",
              "</table>\n",
              "</div>\n",
              "      <button class=\"colab-df-convert\" onclick=\"convertToInteractive('df-2cbc738d-7a77-45f3-b4a2-2984cf9e2617')\"\n",
              "              title=\"Convert this dataframe to an interactive table.\"\n",
              "              style=\"display:none;\">\n",
              "        \n",
              "  <svg xmlns=\"http://www.w3.org/2000/svg\" height=\"24px\"viewBox=\"0 0 24 24\"\n",
              "       width=\"24px\">\n",
              "    <path d=\"M0 0h24v24H0V0z\" fill=\"none\"/>\n",
              "    <path d=\"M18.56 5.44l.94 2.06.94-2.06 2.06-.94-2.06-.94-.94-2.06-.94 2.06-2.06.94zm-11 1L8.5 8.5l.94-2.06 2.06-.94-2.06-.94L8.5 2.5l-.94 2.06-2.06.94zm10 10l.94 2.06.94-2.06 2.06-.94-2.06-.94-.94-2.06-.94 2.06-2.06.94z\"/><path d=\"M17.41 7.96l-1.37-1.37c-.4-.4-.92-.59-1.43-.59-.52 0-1.04.2-1.43.59L10.3 9.45l-7.72 7.72c-.78.78-.78 2.05 0 2.83L4 21.41c.39.39.9.59 1.41.59.51 0 1.02-.2 1.41-.59l7.78-7.78 2.81-2.81c.8-.78.8-2.07 0-2.86zM5.41 20L4 18.59l7.72-7.72 1.47 1.35L5.41 20z\"/>\n",
              "  </svg>\n",
              "      </button>\n",
              "      \n",
              "  <style>\n",
              "    .colab-df-container {\n",
              "      display:flex;\n",
              "      flex-wrap:wrap;\n",
              "      gap: 12px;\n",
              "    }\n",
              "\n",
              "    .colab-df-convert {\n",
              "      background-color: #E8F0FE;\n",
              "      border: none;\n",
              "      border-radius: 50%;\n",
              "      cursor: pointer;\n",
              "      display: none;\n",
              "      fill: #1967D2;\n",
              "      height: 32px;\n",
              "      padding: 0 0 0 0;\n",
              "      width: 32px;\n",
              "    }\n",
              "\n",
              "    .colab-df-convert:hover {\n",
              "      background-color: #E2EBFA;\n",
              "      box-shadow: 0px 1px 2px rgba(60, 64, 67, 0.3), 0px 1px 3px 1px rgba(60, 64, 67, 0.15);\n",
              "      fill: #174EA6;\n",
              "    }\n",
              "\n",
              "    [theme=dark] .colab-df-convert {\n",
              "      background-color: #3B4455;\n",
              "      fill: #D2E3FC;\n",
              "    }\n",
              "\n",
              "    [theme=dark] .colab-df-convert:hover {\n",
              "      background-color: #434B5C;\n",
              "      box-shadow: 0px 1px 3px 1px rgba(0, 0, 0, 0.15);\n",
              "      filter: drop-shadow(0px 1px 2px rgba(0, 0, 0, 0.3));\n",
              "      fill: #FFFFFF;\n",
              "    }\n",
              "  </style>\n",
              "\n",
              "      <script>\n",
              "        const buttonEl =\n",
              "          document.querySelector('#df-2cbc738d-7a77-45f3-b4a2-2984cf9e2617 button.colab-df-convert');\n",
              "        buttonEl.style.display =\n",
              "          google.colab.kernel.accessAllowed ? 'block' : 'none';\n",
              "\n",
              "        async function convertToInteractive(key) {\n",
              "          const element = document.querySelector('#df-2cbc738d-7a77-45f3-b4a2-2984cf9e2617');\n",
              "          const dataTable =\n",
              "            await google.colab.kernel.invokeFunction('convertToInteractive',\n",
              "                                                     [key], {});\n",
              "          if (!dataTable) return;\n",
              "\n",
              "          const docLinkHtml = 'Like what you see? Visit the ' +\n",
              "            '<a target=\"_blank\" href=https://colab.research.google.com/notebooks/data_table.ipynb>data table notebook</a>'\n",
              "            + ' to learn more about interactive tables.';\n",
              "          element.innerHTML = '';\n",
              "          dataTable['output_type'] = 'display_data';\n",
              "          await google.colab.output.renderOutput(dataTable, element);\n",
              "          const docLink = document.createElement('div');\n",
              "          docLink.innerHTML = docLinkHtml;\n",
              "          element.appendChild(docLink);\n",
              "        }\n",
              "      </script>\n",
              "    </div>\n",
              "  </div>\n",
              "  "
            ],
            "text/plain": [
              "   row  col  precipitation           x         y\n",
              "0   41   33       0.274598  100.314868  2.551215\n",
              "1   42   33       0.313857  100.314868  2.542232\n",
              "2   43   33       0.274598  100.314868  2.533249\n",
              "3   44   33       0.274598  100.314868  2.524266\n",
              "4   45   32       0.313857  100.305885  2.515283"
            ]
          },
          "metadata": {},
          "execution_count": 53
        }
      ]
    },
    {
      "cell_type": "code",
      "metadata": {
        "colab": {
          "base_uri": "https://localhost:8080/"
        },
        "id": "uifpcSHDkR1V",
        "outputId": "d36324bb-dd08-4974-d777-31985e34433a"
      },
      "source": [
        "import numpy as np\n",
        "from tqdm import tqdm\n",
        "\n",
        "downscale_array = np.zeros(shape=(450, 423), dtype=float)\n",
        "row_col = downscale_result[['row', 'col', 'precipitation']]\n",
        "\n",
        "for i in tqdm(row_col.iterrows()):\n",
        "  downscale_array[int(i[1]['row']), int(i[1]['col'])] = i[1]['precipitation']\n",
        "\n",
        "downscale_array[downscale_array == 0.0] = np.nan\n",
        "np.unique(downscale_array)"
      ],
      "execution_count": null,
      "outputs": [
        {
          "output_type": "stream",
          "name": "stderr",
          "text": [
            "90708it [00:06, 14811.83it/s]\n"
          ]
        },
        {
          "output_type": "execute_result",
          "data": {
            "text/plain": [
              "array([0.25650277, 0.27459768, 0.31385687, ...,        nan,        nan,\n",
              "              nan])"
            ]
          },
          "metadata": {},
          "execution_count": 56
        }
      ]
    },
    {
      "cell_type": "code",
      "source": [
        "plt.figure(figsize=(10, 10))\n",
        "plt.matshow(downscale_array, cmap='viridis')\n",
        "plt.title('The Downscaled Result of TRMM Satellite (1 KM)')\n",
        "plt.axis('off')\n",
        "plt.savefig('Figure 8.png', dpi=300)\n",
        "plt.show()"
      ],
      "metadata": {
        "colab": {
          "base_uri": "https://localhost:8080/",
          "height": 414
        },
        "id": "SZYiDbpTlu-T",
        "outputId": "141e3476-d2a8-46a7-f6ac-ee88b7ca29c3"
      },
      "execution_count": null,
      "outputs": [
        {
          "output_type": "display_data",
          "data": {
            "text/plain": [
              "<Figure size 720x720 with 0 Axes>"
            ]
          },
          "metadata": {}
        },
        {
          "output_type": "display_data",
          "data": {
            "image/png": "[encoded data removed]",
            "text/plain": [
              "<Figure size 406.08x432 with 1 Axes>"
            ]
          },
          "metadata": {}
        }
      ]
    },
    {
      "cell_type": "markdown",
      "source": [
        "# Feature Importance Analysis using SHAP"
      ],
      "metadata": {
        "id": "nVspCcIOoAS6"
      }
    },
    {
      "cell_type": "code",
      "source": [
        "! pip install shap"
      ],
      "metadata": {
        "colab": {
          "base_uri": "https://localhost:8080/"
        },
        "id": "r_QDfeG-oCjh",
        "outputId": "dab0249d-6d03-4fe5-9eb9-ccf95eab5653"
      },
      "execution_count": null,
      "outputs": [
        {
          "output_type": "stream",
          "name": "stdout",
          "text": [
            "Collecting shap\n",
            "  Downloading shap-0.40.0-cp37-cp37m-manylinux2010_x86_64.whl (564 kB)\n",
            "\u001b[?25l\r\u001b[K     |▋                               | 10 kB 17.6 MB/s eta 0:00:01\r\u001b[K     |█▏                              | 20 kB 24.9 MB/s eta 0:00:01\r\u001b[K     |█▊                              | 30 kB 27.5 MB/s eta 0:00:01\r\u001b[K     |██▎                             | 40 kB 19.8 MB/s eta 0:00:01\r\u001b[K     |███                             | 51 kB 17.0 MB/s eta 0:00:01\r\u001b[K     |███▌                            | 61 kB 14.0 MB/s eta 0:00:01\r\u001b[K     |████                            | 71 kB 13.4 MB/s eta 0:00:01\r\u001b[K     |████▋                           | 81 kB 14.8 MB/s eta 0:00:01\r\u001b[K     |█████▏                          | 92 kB 15.0 MB/s eta 0:00:01\r\u001b[K     |█████▉                          | 102 kB 13.7 MB/s eta 0:00:01\r\u001b[K     |██████▍                         | 112 kB 13.7 MB/s eta 0:00:01\r\u001b[K     |███████                         | 122 kB 13.7 MB/s eta 0:00:01\r\u001b[K     |███████▌                        | 133 kB 13.7 MB/s eta 0:00:01\r\u001b[K     |████████▏                       | 143 kB 13.7 MB/s eta 0:00:01\r\u001b[K     |████████▊                       | 153 kB 13.7 MB/s eta 0:00:01\r\u001b[K     |█████████▎                      | 163 kB 13.7 MB/s eta 0:00:01\r\u001b[K     |█████████▉                      | 174 kB 13.7 MB/s eta 0:00:01\r\u001b[K     |██████████▍                     | 184 kB 13.7 MB/s eta 0:00:01\r\u001b[K     |███████████                     | 194 kB 13.7 MB/s eta 0:00:01\r\u001b[K     |███████████▋                    | 204 kB 13.7 MB/s eta 0:00:01\r\u001b[K     |████████████▏                   | 215 kB 13.7 MB/s eta 0:00:01\r\u001b[K     |████████████▊                   | 225 kB 13.7 MB/s eta 0:00:01\r\u001b[K     |█████████████▍                  | 235 kB 13.7 MB/s eta 0:00:01\r\u001b[K     |██████████████                  | 245 kB 13.7 MB/s eta 0:00:01\r\u001b[K     |██████████████▌                 | 256 kB 13.7 MB/s eta 0:00:01\r\u001b[K     |███████████████                 | 266 kB 13.7 MB/s eta 0:00:01\r\u001b[K     |███████████████▋                | 276 kB 13.7 MB/s eta 0:00:01\r\u001b[K     |████████████████▎               | 286 kB 13.7 MB/s eta 0:00:01\r\u001b[K     |████████████████▉               | 296 kB 13.7 MB/s eta 0:00:01\r\u001b[K     |█████████████████▍              | 307 kB 13.7 MB/s eta 0:00:01\r\u001b[K     |██████████████████              | 317 kB 13.7 MB/s eta 0:00:01\r\u001b[K     |██████████████████▋             | 327 kB 13.7 MB/s eta 0:00:01\r\u001b[K     |███████████████████▏            | 337 kB 13.7 MB/s eta 0:00:01\r\u001b[K     |███████████████████▊            | 348 kB 13.7 MB/s eta 0:00:01\r\u001b[K     |████████████████████▎           | 358 kB 13.7 MB/s eta 0:00:01\r\u001b[K     |████████████████████▉           | 368 kB 13.7 MB/s eta 0:00:01\r\u001b[K     |█████████████████████▌          | 378 kB 13.7 MB/s eta 0:00:01\r\u001b[K     |██████████████████████          | 389 kB 13.7 MB/s eta 0:00:01\r\u001b[K     |██████████████████████▋         | 399 kB 13.7 MB/s eta 0:00:01\r\u001b[K     |███████████████████████▏        | 409 kB 13.7 MB/s eta 0:00:01\r\u001b[K     |███████████████████████▉        | 419 kB 13.7 MB/s eta 0:00:01\r\u001b[K     |████████████████████████▍       | 430 kB 13.7 MB/s eta 0:00:01\r\u001b[K     |█████████████████████████       | 440 kB 13.7 MB/s eta 0:00:01\r\u001b[K     |█████████████████████████▌      | 450 kB 13.7 MB/s eta 0:00:01\r\u001b[K     |██████████████████████████      | 460 kB 13.7 MB/s eta 0:00:01\r\u001b[K     |██████████████████████████▊     | 471 kB 13.7 MB/s eta 0:00:01\r\u001b[K     |███████████████████████████▎    | 481 kB 13.7 MB/s eta 0:00:01\r\u001b[K     |███████████████████████████▉    | 491 kB 13.7 MB/s eta 0:00:01\r\u001b[K     |████████████████████████████▍   | 501 kB 13.7 MB/s eta 0:00:01\r\u001b[K     |█████████████████████████████   | 512 kB 13.7 MB/s eta 0:00:01\r\u001b[K     |█████████████████████████████▋  | 522 kB 13.7 MB/s eta 0:00:01\r\u001b[K     |██████████████████████████████▏ | 532 kB 13.7 MB/s eta 0:00:01\r\u001b[K     |██████████████████████████████▊ | 542 kB 13.7 MB/s eta 0:00:01\r\u001b[K     |███████████████████████████████▎| 552 kB 13.7 MB/s eta 0:00:01\r\u001b[K     |████████████████████████████████| 563 kB 13.7 MB/s eta 0:00:01\r\u001b[K     |████████████████████████████████| 564 kB 13.7 MB/s \n",
            "\u001b[?25hRequirement already satisfied: numpy in /usr/local/lib/python3.7/dist-packages (from shap) (1.19.5)\n",
            "Requirement already satisfied: packaging>20.9 in /usr/local/lib/python3.7/dist-packages (from shap) (21.3)\n",
            "Requirement already satisfied: pandas in /usr/local/lib/python3.7/dist-packages (from shap) (1.1.5)\n",
            "Requirement already satisfied: cloudpickle in /usr/local/lib/python3.7/dist-packages (from shap) (1.3.0)\n",
            "Requirement already satisfied: scipy in /usr/local/lib/python3.7/dist-packages (from shap) (1.4.1)\n",
            "Requirement already satisfied: numba in /usr/local/lib/python3.7/dist-packages (from shap) (0.51.2)\n",
            "Collecting slicer==0.0.7\n",
            "  Downloading slicer-0.0.7-py3-none-any.whl (14 kB)\n",
            "Requirement already satisfied: scikit-learn in /usr/local/lib/python3.7/dist-packages (from shap) (1.0.2)\n",
            "Requirement already satisfied: tqdm>4.25.0 in /usr/local/lib/python3.7/dist-packages (from shap) (4.62.3)\n",
            "Requirement already satisfied: pyparsing!=3.0.5,>=2.0.2 in /usr/local/lib/python3.7/dist-packages (from packaging>20.9->shap) (3.0.6)\n",
            "Requirement already satisfied: llvmlite<0.35,>=0.34.0.dev0 in /usr/local/lib/python3.7/dist-packages (from numba->shap) (0.34.0)\n",
            "Requirement already satisfied: setuptools in /usr/local/lib/python3.7/dist-packages (from numba->shap) (57.4.0)\n",
            "Requirement already satisfied: pytz>=2017.2 in /usr/local/lib/python3.7/dist-packages (from pandas->shap) (2018.9)\n",
            "Requirement already satisfied: python-dateutil>=2.7.3 in /usr/local/lib/python3.7/dist-packages (from pandas->shap) (2.8.0)\n",
            "Requirement already satisfied: six>=1.5 in /usr/local/lib/python3.7/dist-packages (from python-dateutil>=2.7.3->pandas->shap) (1.15.0)\n",
            "Requirement already satisfied: threadpoolctl>=2.0.0 in /usr/local/lib/python3.7/dist-packages (from scikit-learn->shap) (3.0.0)\n",
            "Requirement already satisfied: joblib>=0.11 in /usr/local/lib/python3.7/dist-packages (from scikit-learn->shap) (1.1.0)\n",
            "Installing collected packages: slicer, shap\n",
            "Successfully installed shap-0.40.0 slicer-0.0.7\n"
          ]
        }
      ]
    },
    {
      "cell_type": "code",
      "source": [
        "model"
      ],
      "metadata": {
        "colab": {
          "base_uri": "https://localhost:8080/"
        },
        "id": "ZHbE0VzjpxGt",
        "outputId": "93ad42e1-6823-44e5-d940-d9c318bb5436"
      },
      "execution_count": null,
      "outputs": [
        {
          "output_type": "execute_result",
          "data": {
            "text/plain": [
              "DecisionTreeRegressor(max_depth=2, min_samples_leaf=10, random_state=42)"
            ]
          },
          "metadata": {},
          "execution_count": 67
        }
      ]
    },
    {
      "cell_type": "code",
      "source": [
        "import shap\n",
        "\n",
        "explainer = shap.Explainer(model.predict, X_scaled, feature_names=['NDVI', 'DEM', 'Land Cover'])\n",
        "shap_values = explainer(X_scaled_original)"
      ],
      "metadata": {
        "id": "Nt0cktlfoGH5"
      },
      "execution_count": null,
      "outputs": []
    },
    {
      "cell_type": "code",
      "source": [
        "import matplotlib.pyplot as plt\n",
        "\n",
        "sample_ind = 18\n",
        "shap.plots.waterfall(shap_values[sample_ind], show=False)\n",
        "plt.savefig('Figure 9.png', dpi=300)"
      ],
      "metadata": {
        "colab": {
          "base_uri": "https://localhost:8080/",
          "height": 338
        },
        "id": "ynqVlZ9PqVmG",
        "outputId": "e80e4e84-85b2-4fcb-ecaa-d3e9563063c6"
      },
      "execution_count": null,
      "outputs": [
        {
          "output_type": "error",
          "ename": "NameError",
          "evalue": "ignored",
          "traceback": [
            "\u001b[0;31m---------------------------------------------------------------------------\u001b[0m",
            "\u001b[0;31mNameError\u001b[0m                                 Traceback (most recent call last)",
            "\u001b[0;32m<ipython-input-95-c6ecf859e988>\u001b[0m in \u001b[0;36m<module>\u001b[0;34m()\u001b[0m\n\u001b[1;32m      2\u001b[0m \u001b[0;34m\u001b[0m\u001b[0m\n\u001b[1;32m      3\u001b[0m \u001b[0msample_ind\u001b[0m \u001b[0;34m=\u001b[0m \u001b[0;36m18\u001b[0m\u001b[0;34m\u001b[0m\u001b[0;34m\u001b[0m\u001b[0m\n\u001b[0;32m----> 4\u001b[0;31m \u001b[0mshap\u001b[0m\u001b[0;34m.\u001b[0m\u001b[0mplots\u001b[0m\u001b[0;34m.\u001b[0m\u001b[0mwaterfall\u001b[0m\u001b[0;34m(\u001b[0m\u001b[0mshap_values\u001b[0m\u001b[0;34m[\u001b[0m\u001b[0msample_ind\u001b[0m\u001b[0;34m]\u001b[0m\u001b[0;34m,\u001b[0m \u001b[0mshow\u001b[0m\u001b[0;34m=\u001b[0m\u001b[0;32mFalse\u001b[0m\u001b[0;34m)\u001b[0m\u001b[0;34m\u001b[0m\u001b[0;34m\u001b[0m\u001b[0m\n\u001b[0m\u001b[1;32m      5\u001b[0m \u001b[0mplt\u001b[0m\u001b[0;34m.\u001b[0m\u001b[0msavefig\u001b[0m\u001b[0;34m(\u001b[0m\u001b[0;34m'Figure 9.png'\u001b[0m\u001b[0;34m,\u001b[0m \u001b[0mdpi\u001b[0m\u001b[0;34m=\u001b[0m\u001b[0;36m300\u001b[0m\u001b[0;34m)\u001b[0m\u001b[0;34m\u001b[0m\u001b[0;34m\u001b[0m\u001b[0m\n",
            "\u001b[0;32m/usr/local/lib/python3.7/dist-packages/shap/plots/_waterfall.py\u001b[0m in \u001b[0;36mwaterfall\u001b[0;34m(shap_values, max_display, show)\u001b[0m\n\u001b[1;32m     41\u001b[0m     \u001b[0;31m# Turn off interactive plot\u001b[0m\u001b[0;34m\u001b[0m\u001b[0;34m\u001b[0m\u001b[0;34m\u001b[0m\u001b[0m\n\u001b[1;32m     42\u001b[0m     \u001b[0;32mif\u001b[0m \u001b[0mshow\u001b[0m \u001b[0;32mis\u001b[0m \u001b[0;32mFalse\u001b[0m\u001b[0;34m:\u001b[0m\u001b[0;34m\u001b[0m\u001b[0;34m\u001b[0m\u001b[0m\n\u001b[0;32m---> 43\u001b[0;31m         \u001b[0mplt\u001b[0m\u001b[0;34m.\u001b[0m\u001b[0mioff\u001b[0m\u001b[0;34m(\u001b[0m\u001b[0;34m)\u001b[0m\u001b[0;34m\u001b[0m\u001b[0;34m\u001b[0m\u001b[0m\n\u001b[0m\u001b[1;32m     44\u001b[0m \u001b[0;34m\u001b[0m\u001b[0m\n\u001b[1;32m     45\u001b[0m \u001b[0;34m\u001b[0m\u001b[0m\n",
            "\u001b[0;31mNameError\u001b[0m: name 'plt' is not defined"
          ]
        }
      ]
    },
    {
      "cell_type": "code",
      "source": [
        "shap.plots.bar(shap_values, show=False)\n",
        "plt.savefig('Figure 10.png', dpi=300, bbox_inches='tight')"
      ],
      "metadata": {
        "colab": {
          "base_uri": "https://localhost:8080/",
          "height": 230
        },
        "id": "dhxE-b_XsraG",
        "outputId": "c4b36e7b-4288-430f-e97f-5d3bd106cbc2"
      },
      "execution_count": null,
      "outputs": [
        {
          "output_type": "display_data",
          "data": {
            "image/png": "[encoded data removed]",
            "text/plain": [
              "<Figure size 576x216 with 1 Axes>"
            ]
          },
          "metadata": {}
        }
      ]
    },
    {
      "cell_type": "code",
      "source": [
        "shap.plots.beeswarm(shap_values, show=False)\n",
        "plt.savefig('Figure 11.png', dpi=300, bbox_inches='tight')"
      ],
      "metadata": {
        "colab": {
          "base_uri": "https://localhost:8080/",
          "height": 217
        },
        "id": "wP4g4lYSq0HV",
        "outputId": "19338361-6bce-4a2f-d15d-735d6137259b"
      },
      "execution_count": null,
      "outputs": [
        {
          "output_type": "display_data",
          "data": {
            "image/png": "[encoded data removed]",
            "text/plain": [
              "<Figure size 576x194.4 with 2 Axes>"
            ]
          },
          "metadata": {}
        }
      ]
    },
    {
      "cell_type": "code",
      "source": [
        "# plt.figure(figsize=(10, 8))\n",
        "shap.plots.heatmap(shap_values, show=False)\n",
        "plt.savefig('Figure 12.png', dpi=300, bbox_inches='tight')"
      ],
      "metadata": {
        "colab": {
          "base_uri": "https://localhost:8080/",
          "height": 284
        },
        "id": "P5zx5XsrsSI8",
        "outputId": "b5446067-2b49-439b-eb52-fec2cfb2eeb5"
      },
      "execution_count": null,
      "outputs": [
        {
          "output_type": "display_data",
          "data": {
            "image/png": "[encoded data removed]",
            "text/plain": [
              "<Figure size 576x288 with 2 Axes>"
            ]
          },
          "metadata": {}
        }
      ]
    },
    {
      "cell_type": "markdown",
      "source": [
        "# Save The Downscale Result (.tif)"
      ],
      "metadata": {
        "id": "0FupKGbFSg4v"
      }
    },
    {
      "cell_type": "code",
      "source": [
        "import sys\n",
        "from osgeo import gdal \n",
        "from osgeo.gdalconst import *\n",
        "\n",
        "gdal.AllRegister()\n",
        "\n",
        "input = gdal.Open('/content/drive/MyDrive/spatial-downscaling-trmm/ndvi_1km.tif')\n",
        "output = gdal.GetDriverByName('GTiff').Create('trmm_1km_new_dt.tif', 423, 450, 1 ,gdal.GDT_Float32)\n",
        "output.GetRasterBand(1).WriteArray(downscale_array, 0, 0)\n",
        "output.FlushCache()\n",
        "\n",
        "output.SetGeoTransform(input.GetGeoTransform())\n",
        "output.SetProjection(input.GetProjection())\n",
        "\n",
        "output = None\n",
        "\n",
        "del output"
      ],
      "metadata": {
        "id": "DkQTxIjRMiR_"
      },
      "execution_count": null,
      "outputs": []
    },
    {
      "cell_type": "code",
      "source": [
        "cp trmm_1km_new_dt.tif /content/drive/MyDrive/spatial-downscaling-trmm/"
      ],
      "metadata": {
        "id": "5bDkkihaP9DJ"
      },
      "execution_count": null,
      "outputs": []
    },
    {
      "cell_type": "markdown",
      "source": [
        "# Calculate The Residual (CANCELLED)"
      ],
      "metadata": {
        "id": "PWQXsANV7bUS"
      }
    },
    {
      "cell_type": "code",
      "source": [
        "import sys\n",
        "from osgeo import gdal\n",
        "\n",
        "reference = gdal.Open('/content/drive/MyDrive/spatial-downscaling-trmm/trmm_25km.tif')\n",
        "source = gdal.Open('/content/drive/MyDrive/spatial-downscaling-trmm/trmm_1km.tif')\n",
        "\n",
        "x_ref = reference.GetGeoTransform()[1] \n",
        "y_ref = -reference.GetGeoTransform()[5]\n",
        "\n",
        "gdal.Warp(\"trmm_downscaled_25km.tif\", source, xRes=x_ref, yRes=y_ref)"
      ],
      "metadata": {
        "colab": {
          "base_uri": "https://localhost:8080/"
        },
        "id": "BO9ZfL_WmkIe",
        "outputId": "93f10685-9355-49a7-d43c-3202d82d67de"
      },
      "execution_count": null,
      "outputs": [
        {
          "output_type": "execute_result",
          "data": {
            "text/plain": [
              "<osgeo.gdal.Dataset; proxy of <Swig Object of type 'GDALDatasetShadow *' at 0x7fcd113c99c0> >"
            ]
          },
          "metadata": {},
          "execution_count": 36
        }
      ]
    },
    {
      "cell_type": "code",
      "source": [
        "cp trmm_downscaled_25km.tif /content/drive/MyDrive/spatial-downscaling-trmm/"
      ],
      "metadata": {
        "id": "eW9cQJKao8Ll"
      },
      "execution_count": null,
      "outputs": []
    },
    {
      "cell_type": "code",
      "source": [
        "null_array = np.empty((18,1))\n",
        "null_array[:] = np.nan "
      ],
      "metadata": {
        "id": "z17SzvKcvAZy"
      },
      "execution_count": null,
      "outputs": []
    },
    {
      "cell_type": "code",
      "source": [
        "import numpy as np\n",
        "\n",
        "data = gdal.Open('trmm_downscaled_25km.tif')\n",
        "\n",
        "array = data.GetRasterBand(1).ReadAsArray()\n",
        "array[array == 0.0] = np.nan\n",
        "array = np.c_[array, null_array]\n",
        "\n",
        "output = gdal.GetDriverByName('GTiff').Create('trmm_downscaled_25km_new.tif', 18, 18, 1, gdal.GDT_Float32)\n",
        "output.GetRasterBand(1).WriteArray(array, 0, 0)\n",
        "output.FlushCache()\n",
        "\n",
        "output.SetGeoTransform(reference.GetGeoTransform())\n",
        "output.SetProjection(reference.GetProjection())\n",
        "\n",
        "output = None\n",
        "\n",
        "del output"
      ],
      "metadata": {
        "id": "q3M3wadKqJ1O"
      },
      "execution_count": null,
      "outputs": []
    }
  ]
}